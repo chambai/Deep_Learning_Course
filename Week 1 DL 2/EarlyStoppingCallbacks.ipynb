{
  "nbformat": 4,
  "nbformat_minor": 0,
  "metadata": {
    "colab": {
      "name": "EarlyStoppingCallbacks.ipynb",
      "provenance": [],
      "collapsed_sections": [],
      "authorship_tag": "ABX9TyOS7ccmPt/402MWo+hi/r03",
      "include_colab_link": true
    },
    "kernelspec": {
      "name": "python3",
      "display_name": "Python 3"
    }
  },
  "cells": [
    {
      "cell_type": "markdown",
      "metadata": {
        "id": "view-in-github",
        "colab_type": "text"
      },
      "source": [
        "<a href=\"https://colab.research.google.com/github/chambai/Deep_Learning_Course/blob/main/Week%201%20DL%202/EarlyStoppingCallbacks.ipynb\" target=\"_parent\"><img src=\"https://colab.research.google.com/assets/colab-badge.svg\" alt=\"Open In Colab\"/></a>"
      ]
    },
    {
      "cell_type": "markdown",
      "metadata": {
        "id": "X_UlcctuewYR"
      },
      "source": [
        "#Implementation of callback to implement Early Stopping.\r\n",
        "\r\n",
        "Stops the training once the accuracy reaches a certain threshold, acheiving optimal model weights without wasting resources (time and computational)"
      ]
    },
    {
      "cell_type": "code",
      "metadata": {
        "id": "qhUisMOsLODi"
      },
      "source": [
        "# setup of Iris dataset\r\n",
        "import pandas as pd\r\n",
        "from IPython.display import display\r\n",
        "from sklearn.datasets import load_iris\r\n",
        "from sklearn.preprocessing import normalize\r\n",
        "from sklearn.model_selection import train_test_split\r\n",
        "import tensorflow as tf\r\n",
        "from tensorflow.keras import utils\r\n",
        "from tensorflow.keras.models import Sequential\r\n",
        "from tensorflow.keras.layers import Dense\r\n",
        "import matplotlib.pyplot as plt\r\n",
        "\r\n",
        "# get the data\r\n",
        "data = load_iris()\r\n",
        "df = pd.DataFrame(data.data, columns=data.feature_names)\r\n",
        "\r\n",
        "# Normalise the data\r\n",
        "df_norm = normalize(df)\r\n",
        "\r\n",
        "# split the data into train and test\r\n",
        "x_train, x_test, y_train, y_test = train_test_split(df_norm, data.target, random_state=0)\r\n",
        "\r\n",
        "# one-hot encode the data\r\n",
        "y_train_cat = utils.to_categorical(y_train)\r\n",
        "y_test_cat = utils.to_categorical(y_test)"
      ],
      "execution_count": null,
      "outputs": []
    },
    {
      "cell_type": "code",
      "metadata": {
        "id": "qLcRPVuoiNEu"
      },
      "source": [
        "# create the model\r\n",
        "model = Sequential() \r\n",
        "model.add(Dense(units=10, input_dim=4, activation='relu'))\r\n",
        "model.add(Dense(units=10, activation='relu'))\r\n",
        "model.add(Dense(units=3, activation='softmax'))\r\n",
        "model.summary()\r\n",
        "\r\n",
        "# Compile the model\r\n",
        "model.compile(loss='categorical_crossentropy', optimizer='adam', metrics=['accuracy'])"
      ],
      "execution_count": null,
      "outputs": []
    },
    {
      "cell_type": "markdown",
      "metadata": {
        "id": "hOwNxOzYfTYH"
      },
      "source": [
        "#What is a Callback?\r\n",
        "A callback is a function that can be applied at a given stage of the training process."
      ]
    },
    {
      "cell_type": "markdown",
      "metadata": {
        "id": "TULOQdwKgQu4"
      },
      "source": [
        "#Setup the Early Stopping callback\r\n",
        "This setup will monitor the loss and will stop the training when there's no improvement in the validation loss for 3 consecutive epochs as `patience=3`:"
      ]
    },
    {
      "cell_type": "code",
      "metadata": {
        "id": "uJpeMS5hk44o"
      },
      "source": [
        "from tensorflow.keras.callbacks import EarlyStopping\r\n",
        "es = EarlyStopping(monitor='val_loss', patience=3)"
      ],
      "execution_count": null,
      "outputs": []
    },
    {
      "cell_type": "markdown",
      "metadata": {
        "id": "wxyqKbHPqklS"
      },
      "source": [
        "Fit the model as before, except that there is an extra parameter of `callbacks=[es]`.\r\n",
        "\r\n",
        "The training will stop if it detects there has been no improvement in the validation loss for 3 consecutive epochs"
      ]
    },
    {
      "cell_type": "code",
      "metadata": {
        "id": "G90RXeWvgCf1"
      },
      "source": [
        "\r\n",
        "# Fit the model (replace the question marks)\r\n",
        "history = model.fit(\r\n",
        "    x_train,    # input training data\r\n",
        "    y_train_cat,    # output training data\r\n",
        "    batch_size=10,   # mini-batch gradient descent size\r\n",
        "    epochs=300,       # number of iterations over the entire training data\r\n",
        "    verbose=1,        # what type of information is printed during training\r\n",
        "    validation_data=(x_test, y_test_cat), # input test data, output test data\r\n",
        "    callbacks=[es])  \r\n",
        "\r\n",
        "# summarize the history for accuracy\r\n",
        "plt.plot(history.history['accuracy'])\r\n",
        "plt.plot(history.history['val_accuracy'])\r\n",
        "plt.title('model accuracy')\r\n",
        "plt.ylabel('accuracy')\r\n",
        "plt.xlabel('epoch')\r\n",
        "plt.legend(['train','test'], loc='upper left')\r\n",
        "plt.show()\r\n",
        "\r\n",
        "# summarize the history for loss\r\n",
        "plt.plot(history.history['loss'])\r\n",
        "plt.plot(history.history['val_loss'])\r\n",
        "plt.title('model loss')\r\n",
        "plt.ylabel('loss')\r\n",
        "plt.xlabel('epoch')\r\n",
        "plt.legend(['train','test'], loc='upper left')\r\n",
        "plt.show()"
      ],
      "execution_count": null,
      "outputs": []
    },
    {
      "cell_type": "markdown",
      "metadata": {
        "id": "duPCp21VvWBx"
      },
      "source": [
        "Change the early stopping to work on the validation accuracy instead of the validation loss.  What problems can you see with this?"
      ]
    }
  ]
}
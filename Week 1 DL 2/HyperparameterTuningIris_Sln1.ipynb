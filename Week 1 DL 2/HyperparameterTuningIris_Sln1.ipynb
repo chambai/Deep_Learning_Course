{
  "nbformat": 4,
  "nbformat_minor": 0,
  "metadata": {
    "colab": {
      "name": "HyperparameterTuningIris_Sln1.ipynb",
      "provenance": [],
      "collapsed_sections": [],
      "authorship_tag": "ABX9TyPyVUupjac1lqLuP/qKx2pm",
      "include_colab_link": true
    },
    "kernelspec": {
      "name": "python3",
      "display_name": "Python 3"
    }
  },
  "cells": [
    {
      "cell_type": "markdown",
      "metadata": {
        "id": "view-in-github",
        "colab_type": "text"
      },
      "source": [
        "<a href=\"https://colab.research.google.com/github/chambai/Deep_Learning_Course/blob/main/Week%201%20DL%202/HyperparameterTuningIris_Sln1.ipynb\" target=\"_parent\"><img src=\"https://colab.research.google.com/assets/colab-badge.svg\" alt=\"Open In Colab\"/></a>"
      ]
    },
    {
      "cell_type": "markdown",
      "metadata": {
        "id": "BWeV4Bkj4kLa"
      },
      "source": [
        "# Hyperparameter Tuning Iris\r\n",
        "\r\n",
        "Add hyperparemter tuning to the Iris DNN.\r\n",
        "Adds hyperparameter tuning to the second layer of the Iris neural network.\r\n",
        "Tries number of units from 10 to 200"
      ]
    },
    {
      "cell_type": "code",
      "metadata": {
        "id": "-L_bPAXiD33G",
        "colab": {
          "base_uri": "https://localhost:8080/"
        },
        "outputId": "229d858b-fc00-4239-9f57-571acc935b26"
      },
      "source": [
        "# install the Keras-tuner library\r\n",
        "!pip install keras-tuner"
      ],
      "execution_count": 8,
      "outputs": [
        {
          "output_type": "stream",
          "text": [
            "Requirement already satisfied: keras-tuner in /usr/local/lib/python3.7/dist-packages (1.0.2)\n",
            "Requirement already satisfied: future in /usr/local/lib/python3.7/dist-packages (from keras-tuner) (0.16.0)\n",
            "Requirement already satisfied: terminaltables in /usr/local/lib/python3.7/dist-packages (from keras-tuner) (3.1.0)\n",
            "Requirement already satisfied: requests in /usr/local/lib/python3.7/dist-packages (from keras-tuner) (2.23.0)\n",
            "Requirement already satisfied: packaging in /usr/local/lib/python3.7/dist-packages (from keras-tuner) (20.9)\n",
            "Requirement already satisfied: scipy in /usr/local/lib/python3.7/dist-packages (from keras-tuner) (1.4.1)\n",
            "Requirement already satisfied: numpy in /usr/local/lib/python3.7/dist-packages (from keras-tuner) (1.19.5)\n",
            "Requirement already satisfied: colorama in /usr/local/lib/python3.7/dist-packages (from keras-tuner) (0.4.4)\n",
            "Requirement already satisfied: tqdm in /usr/local/lib/python3.7/dist-packages (from keras-tuner) (4.41.1)\n",
            "Requirement already satisfied: tabulate in /usr/local/lib/python3.7/dist-packages (from keras-tuner) (0.8.8)\n",
            "Requirement already satisfied: scikit-learn in /usr/local/lib/python3.7/dist-packages (from keras-tuner) (0.22.2.post1)\n",
            "Requirement already satisfied: idna<3,>=2.5 in /usr/local/lib/python3.7/dist-packages (from requests->keras-tuner) (2.10)\n",
            "Requirement already satisfied: chardet<4,>=3.0.2 in /usr/local/lib/python3.7/dist-packages (from requests->keras-tuner) (3.0.4)\n",
            "Requirement already satisfied: urllib3!=1.25.0,!=1.25.1,<1.26,>=1.21.1 in /usr/local/lib/python3.7/dist-packages (from requests->keras-tuner) (1.24.3)\n",
            "Requirement already satisfied: certifi>=2017.4.17 in /usr/local/lib/python3.7/dist-packages (from requests->keras-tuner) (2020.12.5)\n",
            "Requirement already satisfied: pyparsing>=2.0.2 in /usr/local/lib/python3.7/dist-packages (from packaging->keras-tuner) (2.4.7)\n",
            "Requirement already satisfied: joblib>=0.11 in /usr/local/lib/python3.7/dist-packages (from scikit-learn->keras-tuner) (1.0.1)\n"
          ],
          "name": "stdout"
        }
      ]
    },
    {
      "cell_type": "code",
      "metadata": {
        "id": "iXrRNmG3DxtM"
      },
      "source": [
        "# import the library and refer to it as kt\r\n",
        "import kerastuner as kt"
      ],
      "execution_count": 9,
      "outputs": []
    },
    {
      "cell_type": "code",
      "metadata": {
        "id": "edV8wRk_4ihz"
      },
      "source": [
        "import pandas as pd\r\n",
        "from IPython.display import display\r\n",
        "from sklearn.datasets import load_iris\r\n",
        "from sklearn.preprocessing import normalize\r\n",
        "from sklearn.model_selection import train_test_split\r\n",
        "import tensorflow as tf\r\n",
        "from tensorflow.keras import utils\r\n",
        "from tensorflow.keras.models import Sequential\r\n",
        "from tensorflow.keras.layers import Dense\r\n",
        "import matplotlib.pyplot as plt\r\n",
        "\r\n",
        "# get the data\r\n",
        "data = load_iris()\r\n",
        "df = pd.DataFrame(data.data, columns=data.feature_names)\r\n",
        "\r\n",
        "# Normalise the data\r\n",
        "df_norm = normalize(df)\r\n",
        "\r\n",
        "# split the data into train and test\r\n",
        "x_train, x_test, y_train, y_test = train_test_split(df_norm, data.target, random_state=0)\r\n",
        "\r\n",
        "# one-hot encode the data\r\n",
        "y_train = utils.to_categorical(y_train)\r\n",
        "y_test = utils.to_categorical(y_test)\r\n"
      ],
      "execution_count": 10,
      "outputs": []
    },
    {
      "cell_type": "code",
      "metadata": {
        "id": "iDEzyR6sEBtf"
      },
      "source": [
        "# build the model within a function\r\n",
        "# Apply hyperparmeter tuning to the number of units in the second hidden layer in the model\r\n",
        "def model_builder(hp):\r\n",
        "  model = Sequential()\r\n",
        "  model.add(tf.keras.layers.Dense(input_dim=4, units=10, activation='relu'))\r\n",
        "  hp_units = hp.Int('units', min_value = 10, max_value = 200, step = 10)\r\n",
        "  model.add(tf.keras.layers.Dense(units=hp_units, activation='relu'))\r\n",
        "  model.add(tf.keras.layers.Dense(units=3, activation='softmax'))\r\n",
        "  model.compile(optimizer = \"adam\", loss = 'categorical_crossentropy', metrics = ['accuracy'])\r\n",
        "  return model"
      ],
      "execution_count": 11,
      "outputs": []
    },
    {
      "cell_type": "code",
      "metadata": {
        "id": "rysjDFR0E7uG",
        "colab": {
          "base_uri": "https://localhost:8080/"
        },
        "outputId": "c6839672-7543-4b0b-fb0b-80a350aafee4"
      },
      "source": [
        "# instatiate the tuner and perform hypertuning\r\n",
        "tuner = kt.Hyperband(model_builder,\r\n",
        "                     objective = 'val_accuracy', \r\n",
        "                     max_epochs = 125,\r\n",
        "                     factor = 3,        # factor is a number that determines how many models are created to run in parallel whaen testing the hyperparameters\r\n",
        "                     directory = 'my_dir',\r\n",
        "                     project_name = 'intro_to_kt') "
      ],
      "execution_count": 12,
      "outputs": [
        {
          "output_type": "stream",
          "text": [
            "INFO:tensorflow:Reloading Oracle from existing project my_dir/intro_to_kt/oracle.json\n",
            "INFO:tensorflow:Reloading Tuner from my_dir/intro_to_kt/tuner0.json\n"
          ],
          "name": "stdout"
        }
      ]
    },
    {
      "cell_type": "code",
      "metadata": {
        "id": "0AVJLQOJFiEz"
      },
      "source": [
        "# define a callback to clear the training outputs at the end of every training step\r\n",
        "class ClearTrainingOutput(tf.keras.callbacks.Callback):\r\n",
        "  def on_train_end(*args, **kwargs):\r\n",
        "    IPython.display.clear_output(wait = True)"
      ],
      "execution_count": 13,
      "outputs": []
    },
    {
      "cell_type": "code",
      "metadata": {
        "id": "yammasbfFobR",
        "colab": {
          "base_uri": "https://localhost:8080/"
        },
        "outputId": "de4ea766-157e-4592-c240-5cbcffe34d64"
      },
      "source": [
        "import IPython\r\n",
        "# run the hyperparameter search\r\n",
        "tuner.search(x_train, y_train, epochs = 125, validation_data = (x_test, y_test), callbacks = [ClearTrainingOutput()])\r\n",
        "\r\n",
        "# Get the optimal hyperparameters\r\n",
        "best_hps = tuner.get_best_hyperparameters(num_trials = 1)[0]\r\n",
        "print('best number of units: %s'%(best_hps.get('units')))"
      ],
      "execution_count": 14,
      "outputs": [
        {
          "output_type": "stream",
          "text": [
            "INFO:tensorflow:Oracle triggered exit\n",
            "best number of units: 70\n"
          ],
          "name": "stdout"
        }
      ]
    },
    {
      "cell_type": "code",
      "metadata": {
        "id": "WUE5OcLsnMRY",
        "colab": {
          "base_uri": "https://localhost:8080/"
        },
        "outputId": "659b0eef-8aa5-449e-f01d-125d95c1661f"
      },
      "source": [
        "# retrain the model with the optimum hyperparameters and train it on the data\r\n",
        "model = tuner.hypermodel.build(best_hps)\r\n",
        "history = model.fit(x_train, y_train, epochs = 125, validation_data = (x_test, y_test))"
      ],
      "execution_count": 15,
      "outputs": [
        {
          "output_type": "stream",
          "text": [
            "Epoch 1/125\n",
            "4/4 [==============================] - 1s 106ms/step - loss: 1.0963 - accuracy: 0.3298 - val_loss: 1.0729 - val_accuracy: 0.4211\n",
            "Epoch 2/125\n",
            "4/4 [==============================] - 0s 23ms/step - loss: 1.0932 - accuracy: 0.2850 - val_loss: 1.0738 - val_accuracy: 0.4211\n",
            "Epoch 3/125\n",
            "4/4 [==============================] - 0s 23ms/step - loss: 1.0821 - accuracy: 0.3823 - val_loss: 1.0734 - val_accuracy: 0.8684\n",
            "Epoch 4/125\n",
            "4/4 [==============================] - 0s 28ms/step - loss: 1.0739 - accuracy: 0.7768 - val_loss: 1.0719 - val_accuracy: 0.5789\n",
            "Epoch 5/125\n",
            "4/4 [==============================] - 0s 28ms/step - loss: 1.0652 - accuracy: 0.7171 - val_loss: 1.0709 - val_accuracy: 0.5789\n",
            "Epoch 6/125\n",
            "4/4 [==============================] - 0s 22ms/step - loss: 1.0569 - accuracy: 0.7057 - val_loss: 1.0688 - val_accuracy: 0.5789\n",
            "Epoch 7/125\n",
            "4/4 [==============================] - 0s 25ms/step - loss: 1.0533 - accuracy: 0.6807 - val_loss: 1.0658 - val_accuracy: 0.5789\n",
            "Epoch 8/125\n",
            "4/4 [==============================] - 0s 23ms/step - loss: 1.0495 - accuracy: 0.6734 - val_loss: 1.0636 - val_accuracy: 0.5789\n",
            "Epoch 9/125\n",
            "4/4 [==============================] - 0s 22ms/step - loss: 1.0393 - accuracy: 0.6984 - val_loss: 1.0604 - val_accuracy: 0.5789\n",
            "Epoch 10/125\n",
            "4/4 [==============================] - 0s 28ms/step - loss: 1.0279 - accuracy: 0.7150 - val_loss: 1.0557 - val_accuracy: 0.5789\n",
            "Epoch 11/125\n",
            "4/4 [==============================] - 0s 23ms/step - loss: 1.0286 - accuracy: 0.6879 - val_loss: 1.0485 - val_accuracy: 0.5789\n",
            "Epoch 12/125\n",
            "4/4 [==============================] - 0s 23ms/step - loss: 1.0197 - accuracy: 0.6952 - val_loss: 1.0417 - val_accuracy: 0.5789\n",
            "Epoch 13/125\n",
            "4/4 [==============================] - 0s 28ms/step - loss: 1.0102 - accuracy: 0.7015 - val_loss: 1.0332 - val_accuracy: 0.5789\n",
            "Epoch 14/125\n",
            "4/4 [==============================] - 0s 24ms/step - loss: 1.0019 - accuracy: 0.6994 - val_loss: 1.0225 - val_accuracy: 0.5789\n",
            "Epoch 15/125\n",
            "4/4 [==============================] - 0s 27ms/step - loss: 0.9955 - accuracy: 0.7004 - val_loss: 1.0137 - val_accuracy: 0.5789\n",
            "Epoch 16/125\n",
            "4/4 [==============================] - 0s 25ms/step - loss: 0.9819 - accuracy: 0.7213 - val_loss: 1.0051 - val_accuracy: 0.5789\n",
            "Epoch 17/125\n",
            "4/4 [==============================] - 0s 23ms/step - loss: 0.9778 - accuracy: 0.7015 - val_loss: 0.9934 - val_accuracy: 0.5789\n",
            "Epoch 18/125\n",
            "4/4 [==============================] - 0s 29ms/step - loss: 0.9598 - accuracy: 0.7234 - val_loss: 0.9807 - val_accuracy: 0.5789\n",
            "Epoch 19/125\n",
            "4/4 [==============================] - 0s 26ms/step - loss: 0.9555 - accuracy: 0.6890 - val_loss: 0.9658 - val_accuracy: 0.5789\n",
            "Epoch 20/125\n",
            "4/4 [==============================] - 0s 30ms/step - loss: 0.9418 - accuracy: 0.6932 - val_loss: 0.9523 - val_accuracy: 0.5789\n",
            "Epoch 21/125\n",
            "4/4 [==============================] - 0s 25ms/step - loss: 0.9195 - accuracy: 0.7265 - val_loss: 0.9382 - val_accuracy: 0.5789\n",
            "Epoch 22/125\n",
            "4/4 [==============================] - 0s 28ms/step - loss: 0.9218 - accuracy: 0.6609 - val_loss: 0.9220 - val_accuracy: 0.5789\n",
            "Epoch 23/125\n",
            "4/4 [==============================] - 0s 28ms/step - loss: 0.9036 - accuracy: 0.6619 - val_loss: 0.9063 - val_accuracy: 0.5789\n",
            "Epoch 24/125\n",
            "4/4 [==============================] - 0s 25ms/step - loss: 0.8766 - accuracy: 0.7067 - val_loss: 0.8907 - val_accuracy: 0.5789\n",
            "Epoch 25/125\n",
            "4/4 [==============================] - 0s 25ms/step - loss: 0.8647 - accuracy: 0.6879 - val_loss: 0.8730 - val_accuracy: 0.5789\n",
            "Epoch 26/125\n",
            "4/4 [==============================] - 0s 27ms/step - loss: 0.8423 - accuracy: 0.6848 - val_loss: 0.8528 - val_accuracy: 0.5789\n",
            "Epoch 27/125\n",
            "4/4 [==============================] - 0s 23ms/step - loss: 0.8302 - accuracy: 0.6588 - val_loss: 0.8337 - val_accuracy: 0.5789\n",
            "Epoch 28/125\n",
            "4/4 [==============================] - 0s 25ms/step - loss: 0.8007 - accuracy: 0.6900 - val_loss: 0.8178 - val_accuracy: 0.5789\n",
            "Epoch 29/125\n",
            "4/4 [==============================] - 0s 27ms/step - loss: 0.7956 - accuracy: 0.6494 - val_loss: 0.8010 - val_accuracy: 0.5789\n",
            "Epoch 30/125\n",
            "4/4 [==============================] - 0s 25ms/step - loss: 0.7638 - accuracy: 0.6734 - val_loss: 0.7840 - val_accuracy: 0.5789\n",
            "Epoch 31/125\n",
            "4/4 [==============================] - 0s 23ms/step - loss: 0.7438 - accuracy: 0.6838 - val_loss: 0.7672 - val_accuracy: 0.5789\n",
            "Epoch 32/125\n",
            "4/4 [==============================] - 0s 22ms/step - loss: 0.7013 - accuracy: 0.7265 - val_loss: 0.7502 - val_accuracy: 0.5789\n",
            "Epoch 33/125\n",
            "4/4 [==============================] - 0s 25ms/step - loss: 0.6925 - accuracy: 0.6994 - val_loss: 0.7324 - val_accuracy: 0.5789\n",
            "Epoch 34/125\n",
            "4/4 [==============================] - 0s 27ms/step - loss: 0.6551 - accuracy: 0.7390 - val_loss: 0.7158 - val_accuracy: 0.5789\n",
            "Epoch 35/125\n",
            "4/4 [==============================] - 0s 22ms/step - loss: 0.6533 - accuracy: 0.7202 - val_loss: 0.6977 - val_accuracy: 0.5789\n",
            "Epoch 36/125\n",
            "4/4 [==============================] - 0s 22ms/step - loss: 0.6478 - accuracy: 0.6963 - val_loss: 0.6784 - val_accuracy: 0.5789\n",
            "Epoch 37/125\n",
            "4/4 [==============================] - 0s 24ms/step - loss: 0.6371 - accuracy: 0.7015 - val_loss: 0.6619 - val_accuracy: 0.5789\n",
            "Epoch 38/125\n",
            "4/4 [==============================] - 0s 25ms/step - loss: 0.6183 - accuracy: 0.6932 - val_loss: 0.6458 - val_accuracy: 0.5789\n",
            "Epoch 39/125\n",
            "4/4 [==============================] - 0s 23ms/step - loss: 0.5935 - accuracy: 0.7046 - val_loss: 0.6336 - val_accuracy: 0.5789\n",
            "Epoch 40/125\n",
            "4/4 [==============================] - 0s 27ms/step - loss: 0.5793 - accuracy: 0.7192 - val_loss: 0.6235 - val_accuracy: 0.5789\n",
            "Epoch 41/125\n",
            "4/4 [==============================] - 0s 22ms/step - loss: 0.5797 - accuracy: 0.6952 - val_loss: 0.6120 - val_accuracy: 0.5789\n",
            "Epoch 42/125\n",
            "4/4 [==============================] - 0s 24ms/step - loss: 0.5829 - accuracy: 0.6827 - val_loss: 0.6005 - val_accuracy: 0.5789\n",
            "Epoch 43/125\n",
            "4/4 [==============================] - 0s 25ms/step - loss: 0.5421 - accuracy: 0.7196 - val_loss: 0.5907 - val_accuracy: 0.5789\n",
            "Epoch 44/125\n",
            "4/4 [==============================] - 0s 22ms/step - loss: 0.5434 - accuracy: 0.7009 - val_loss: 0.5820 - val_accuracy: 0.5789\n",
            "Epoch 45/125\n",
            "4/4 [==============================] - 0s 22ms/step - loss: 0.5297 - accuracy: 0.7165 - val_loss: 0.5739 - val_accuracy: 0.5789\n",
            "Epoch 46/125\n",
            "4/4 [==============================] - 0s 26ms/step - loss: 0.5152 - accuracy: 0.7155 - val_loss: 0.5659 - val_accuracy: 0.5789\n",
            "Epoch 47/125\n",
            "4/4 [==============================] - 0s 23ms/step - loss: 0.5060 - accuracy: 0.7217 - val_loss: 0.5564 - val_accuracy: 0.5789\n",
            "Epoch 48/125\n",
            "4/4 [==============================] - 0s 28ms/step - loss: 0.5180 - accuracy: 0.6955 - val_loss: 0.5427 - val_accuracy: 0.5789\n",
            "Epoch 49/125\n",
            "4/4 [==============================] - 0s 29ms/step - loss: 0.5198 - accuracy: 0.6966 - val_loss: 0.5332 - val_accuracy: 0.5789\n",
            "Epoch 50/125\n",
            "4/4 [==============================] - 0s 20ms/step - loss: 0.4898 - accuracy: 0.7376 - val_loss: 0.5262 - val_accuracy: 0.6316\n",
            "Epoch 51/125\n",
            "4/4 [==============================] - 0s 21ms/step - loss: 0.4892 - accuracy: 0.7448 - val_loss: 0.5188 - val_accuracy: 0.6316\n",
            "Epoch 52/125\n",
            "4/4 [==============================] - 0s 38ms/step - loss: 0.4850 - accuracy: 0.7708 - val_loss: 0.5150 - val_accuracy: 0.6316\n",
            "Epoch 53/125\n",
            "4/4 [==============================] - 0s 26ms/step - loss: 0.5007 - accuracy: 0.7204 - val_loss: 0.5085 - val_accuracy: 0.6316\n",
            "Epoch 54/125\n",
            "4/4 [==============================] - 0s 20ms/step - loss: 0.4622 - accuracy: 0.7738 - val_loss: 0.5005 - val_accuracy: 0.6579\n",
            "Epoch 55/125\n",
            "4/4 [==============================] - 0s 23ms/step - loss: 0.4709 - accuracy: 0.8140 - val_loss: 0.4906 - val_accuracy: 0.6842\n",
            "Epoch 56/125\n",
            "4/4 [==============================] - 0s 22ms/step - loss: 0.4712 - accuracy: 0.8263 - val_loss: 0.4870 - val_accuracy: 0.6842\n",
            "Epoch 57/125\n",
            "4/4 [==============================] - 0s 20ms/step - loss: 0.4391 - accuracy: 0.8353 - val_loss: 0.4861 - val_accuracy: 0.6842\n",
            "Epoch 58/125\n",
            "4/4 [==============================] - 0s 23ms/step - loss: 0.4413 - accuracy: 0.7865 - val_loss: 0.4865 - val_accuracy: 0.6579\n",
            "Epoch 59/125\n",
            "4/4 [==============================] - 0s 21ms/step - loss: 0.4359 - accuracy: 0.7972 - val_loss: 0.4839 - val_accuracy: 0.6316\n",
            "Epoch 60/125\n",
            "4/4 [==============================] - 0s 25ms/step - loss: 0.4385 - accuracy: 0.8167 - val_loss: 0.4716 - val_accuracy: 0.6842\n",
            "Epoch 61/125\n",
            "4/4 [==============================] - 0s 31ms/step - loss: 0.4197 - accuracy: 0.8798 - val_loss: 0.4603 - val_accuracy: 0.7105\n",
            "Epoch 62/125\n",
            "4/4 [==============================] - 0s 27ms/step - loss: 0.4285 - accuracy: 0.9080 - val_loss: 0.4497 - val_accuracy: 0.7895\n",
            "Epoch 63/125\n",
            "4/4 [==============================] - 0s 23ms/step - loss: 0.4178 - accuracy: 0.9193 - val_loss: 0.4434 - val_accuracy: 0.8421\n",
            "Epoch 64/125\n",
            "4/4 [==============================] - 0s 21ms/step - loss: 0.4030 - accuracy: 0.9283 - val_loss: 0.4456 - val_accuracy: 0.7632\n",
            "Epoch 65/125\n",
            "4/4 [==============================] - 0s 24ms/step - loss: 0.4125 - accuracy: 0.8836 - val_loss: 0.4487 - val_accuracy: 0.7105\n",
            "Epoch 66/125\n",
            "4/4 [==============================] - 0s 21ms/step - loss: 0.4098 - accuracy: 0.8868 - val_loss: 0.4477 - val_accuracy: 0.7105\n",
            "Epoch 67/125\n",
            "4/4 [==============================] - 0s 23ms/step - loss: 0.4033 - accuracy: 0.8963 - val_loss: 0.4478 - val_accuracy: 0.7105\n",
            "Epoch 68/125\n",
            "4/4 [==============================] - 0s 18ms/step - loss: 0.3838 - accuracy: 0.8805 - val_loss: 0.4360 - val_accuracy: 0.7632\n",
            "Epoch 69/125\n",
            "4/4 [==============================] - 0s 17ms/step - loss: 0.4113 - accuracy: 0.8991 - val_loss: 0.4224 - val_accuracy: 0.8421\n",
            "Epoch 70/125\n",
            "4/4 [==============================] - 0s 16ms/step - loss: 0.3768 - accuracy: 0.9229 - val_loss: 0.4208 - val_accuracy: 0.8421\n",
            "Epoch 71/125\n",
            "4/4 [==============================] - 0s 17ms/step - loss: 0.3803 - accuracy: 0.9281 - val_loss: 0.4209 - val_accuracy: 0.7895\n",
            "Epoch 72/125\n",
            "4/4 [==============================] - 0s 18ms/step - loss: 0.3589 - accuracy: 0.9116 - val_loss: 0.4203 - val_accuracy: 0.7632\n",
            "Epoch 73/125\n",
            "4/4 [==============================] - 0s 19ms/step - loss: 0.3648 - accuracy: 0.9174 - val_loss: 0.4210 - val_accuracy: 0.7632\n",
            "Epoch 74/125\n",
            "4/4 [==============================] - 0s 23ms/step - loss: 0.3811 - accuracy: 0.9049 - val_loss: 0.4193 - val_accuracy: 0.7632\n",
            "Epoch 75/125\n",
            "4/4 [==============================] - 0s 17ms/step - loss: 0.3469 - accuracy: 0.9132 - val_loss: 0.4086 - val_accuracy: 0.8158\n",
            "Epoch 76/125\n",
            "4/4 [==============================] - 0s 18ms/step - loss: 0.3626 - accuracy: 0.9375 - val_loss: 0.3997 - val_accuracy: 0.8421\n",
            "Epoch 77/125\n",
            "4/4 [==============================] - 0s 17ms/step - loss: 0.3665 - accuracy: 0.9281 - val_loss: 0.3939 - val_accuracy: 0.8684\n",
            "Epoch 78/125\n",
            "4/4 [==============================] - 0s 15ms/step - loss: 0.3288 - accuracy: 0.9365 - val_loss: 0.3941 - val_accuracy: 0.8421\n",
            "Epoch 79/125\n",
            "4/4 [==============================] - 0s 16ms/step - loss: 0.3664 - accuracy: 0.9292 - val_loss: 0.3943 - val_accuracy: 0.8421\n",
            "Epoch 80/125\n",
            "4/4 [==============================] - 0s 16ms/step - loss: 0.3568 - accuracy: 0.9167 - val_loss: 0.3927 - val_accuracy: 0.8421\n",
            "Epoch 81/125\n",
            "4/4 [==============================] - 0s 18ms/step - loss: 0.3603 - accuracy: 0.9437 - val_loss: 0.3973 - val_accuracy: 0.7632\n",
            "Epoch 82/125\n",
            "4/4 [==============================] - 0s 20ms/step - loss: 0.3272 - accuracy: 0.9262 - val_loss: 0.3903 - val_accuracy: 0.8158\n",
            "Epoch 83/125\n",
            "4/4 [==============================] - 0s 16ms/step - loss: 0.3313 - accuracy: 0.9365 - val_loss: 0.3851 - val_accuracy: 0.8421\n",
            "Epoch 84/125\n",
            "4/4 [==============================] - 0s 16ms/step - loss: 0.3453 - accuracy: 0.9313 - val_loss: 0.3748 - val_accuracy: 0.8684\n",
            "Epoch 85/125\n",
            "4/4 [==============================] - 0s 17ms/step - loss: 0.3427 - accuracy: 0.9250 - val_loss: 0.3669 - val_accuracy: 0.9211\n",
            "Epoch 86/125\n",
            "4/4 [==============================] - 0s 17ms/step - loss: 0.3044 - accuracy: 0.9692 - val_loss: 0.3609 - val_accuracy: 0.9211\n",
            "Epoch 87/125\n",
            "4/4 [==============================] - 0s 17ms/step - loss: 0.3216 - accuracy: 0.9426 - val_loss: 0.3588 - val_accuracy: 0.9211\n",
            "Epoch 88/125\n",
            "4/4 [==============================] - 0s 16ms/step - loss: 0.3018 - accuracy: 0.9609 - val_loss: 0.3622 - val_accuracy: 0.9211\n",
            "Epoch 89/125\n",
            "4/4 [==============================] - 0s 15ms/step - loss: 0.3262 - accuracy: 0.9417 - val_loss: 0.3654 - val_accuracy: 0.8421\n",
            "Epoch 90/125\n",
            "4/4 [==============================] - 0s 16ms/step - loss: 0.3207 - accuracy: 0.9135 - val_loss: 0.3596 - val_accuracy: 0.8684\n",
            "Epoch 91/125\n",
            "4/4 [==============================] - 0s 15ms/step - loss: 0.3130 - accuracy: 0.9344 - val_loss: 0.3602 - val_accuracy: 0.8684\n",
            "Epoch 92/125\n",
            "4/4 [==============================] - 0s 22ms/step - loss: 0.2957 - accuracy: 0.9333 - val_loss: 0.3483 - val_accuracy: 0.9211\n",
            "Epoch 93/125\n",
            "4/4 [==============================] - 0s 15ms/step - loss: 0.3132 - accuracy: 0.9405 - val_loss: 0.3365 - val_accuracy: 0.9211\n",
            "Epoch 94/125\n",
            "4/4 [==============================] - 0s 17ms/step - loss: 0.2881 - accuracy: 0.9536 - val_loss: 0.3381 - val_accuracy: 0.9211\n",
            "Epoch 95/125\n",
            "4/4 [==============================] - 0s 17ms/step - loss: 0.2959 - accuracy: 0.9494 - val_loss: 0.3351 - val_accuracy: 0.9211\n",
            "Epoch 96/125\n",
            "4/4 [==============================] - 0s 15ms/step - loss: 0.2982 - accuracy: 0.9421 - val_loss: 0.3380 - val_accuracy: 0.9211\n",
            "Epoch 97/125\n",
            "4/4 [==============================] - 0s 17ms/step - loss: 0.2963 - accuracy: 0.9484 - val_loss: 0.3307 - val_accuracy: 0.9211\n",
            "Epoch 98/125\n",
            "4/4 [==============================] - 0s 15ms/step - loss: 0.2807 - accuracy: 0.9649 - val_loss: 0.3242 - val_accuracy: 0.9211\n",
            "Epoch 99/125\n",
            "4/4 [==============================] - 0s 14ms/step - loss: 0.2660 - accuracy: 0.9738 - val_loss: 0.3264 - val_accuracy: 0.9211\n",
            "Epoch 100/125\n",
            "4/4 [==============================] - 0s 18ms/step - loss: 0.2679 - accuracy: 0.9525 - val_loss: 0.3284 - val_accuracy: 0.9211\n",
            "Epoch 101/125\n",
            "4/4 [==============================] - 0s 18ms/step - loss: 0.2829 - accuracy: 0.9504 - val_loss: 0.3193 - val_accuracy: 0.9211\n",
            "Epoch 102/125\n",
            "4/4 [==============================] - 0s 18ms/step - loss: 0.2614 - accuracy: 0.9463 - val_loss: 0.3173 - val_accuracy: 0.9211\n",
            "Epoch 103/125\n",
            "4/4 [==============================] - 0s 17ms/step - loss: 0.2475 - accuracy: 0.9671 - val_loss: 0.3157 - val_accuracy: 0.9211\n",
            "Epoch 104/125\n",
            "4/4 [==============================] - 0s 17ms/step - loss: 0.2711 - accuracy: 0.9586 - val_loss: 0.2991 - val_accuracy: 0.9737\n",
            "Epoch 105/125\n",
            "4/4 [==============================] - 0s 16ms/step - loss: 0.2734 - accuracy: 0.9674 - val_loss: 0.2894 - val_accuracy: 0.9737\n",
            "Epoch 106/125\n",
            "4/4 [==============================] - 0s 15ms/step - loss: 0.2610 - accuracy: 0.9856 - val_loss: 0.2932 - val_accuracy: 0.9737\n",
            "Epoch 107/125\n",
            "4/4 [==============================] - 0s 17ms/step - loss: 0.2437 - accuracy: 0.9726 - val_loss: 0.3007 - val_accuracy: 0.9211\n",
            "Epoch 108/125\n",
            "4/4 [==============================] - 0s 18ms/step - loss: 0.2431 - accuracy: 0.9836 - val_loss: 0.3040 - val_accuracy: 0.9211\n",
            "Epoch 109/125\n",
            "4/4 [==============================] - 0s 21ms/step - loss: 0.2465 - accuracy: 0.9426 - val_loss: 0.2926 - val_accuracy: 0.9474\n",
            "Epoch 110/125\n",
            "4/4 [==============================] - 0s 16ms/step - loss: 0.2403 - accuracy: 0.9768 - val_loss: 0.2803 - val_accuracy: 0.9737\n",
            "Epoch 111/125\n",
            "4/4 [==============================] - 0s 18ms/step - loss: 0.2426 - accuracy: 0.9664 - val_loss: 0.2855 - val_accuracy: 0.9737\n",
            "Epoch 112/125\n",
            "4/4 [==============================] - 0s 15ms/step - loss: 0.2365 - accuracy: 0.9763 - val_loss: 0.2986 - val_accuracy: 0.9211\n",
            "Epoch 113/125\n",
            "4/4 [==============================] - 0s 18ms/step - loss: 0.2562 - accuracy: 0.9374 - val_loss: 0.2919 - val_accuracy: 0.9211\n",
            "Epoch 114/125\n",
            "4/4 [==============================] - 0s 17ms/step - loss: 0.2246 - accuracy: 0.9473 - val_loss: 0.2940 - val_accuracy: 0.9211\n",
            "Epoch 115/125\n",
            "4/4 [==============================] - 0s 19ms/step - loss: 0.2289 - accuracy: 0.9478 - val_loss: 0.2779 - val_accuracy: 0.9737\n",
            "Epoch 116/125\n",
            "4/4 [==============================] - 0s 20ms/step - loss: 0.2357 - accuracy: 0.9705 - val_loss: 0.2602 - val_accuracy: 0.9737\n",
            "Epoch 117/125\n",
            "4/4 [==============================] - 0s 19ms/step - loss: 0.2305 - accuracy: 0.9814 - val_loss: 0.2634 - val_accuracy: 0.9737\n",
            "Epoch 118/125\n",
            "4/4 [==============================] - 0s 18ms/step - loss: 0.2030 - accuracy: 0.9799 - val_loss: 0.2857 - val_accuracy: 0.9211\n",
            "Epoch 119/125\n",
            "4/4 [==============================] - 0s 18ms/step - loss: 0.2281 - accuracy: 0.9348 - val_loss: 0.2872 - val_accuracy: 0.9211\n",
            "Epoch 120/125\n",
            "4/4 [==============================] - 0s 19ms/step - loss: 0.2093 - accuracy: 0.9618 - val_loss: 0.2674 - val_accuracy: 0.9737\n",
            "Epoch 121/125\n",
            "4/4 [==============================] - 0s 16ms/step - loss: 0.2280 - accuracy: 0.9549 - val_loss: 0.2535 - val_accuracy: 0.9737\n",
            "Epoch 122/125\n",
            "4/4 [==============================] - 0s 16ms/step - loss: 0.2133 - accuracy: 0.9851 - val_loss: 0.2614 - val_accuracy: 0.9737\n",
            "Epoch 123/125\n",
            "4/4 [==============================] - 0s 16ms/step - loss: 0.1989 - accuracy: 0.9872 - val_loss: 0.2621 - val_accuracy: 0.9737\n",
            "Epoch 124/125\n",
            "4/4 [==============================] - 0s 18ms/step - loss: 0.2178 - accuracy: 0.9757 - val_loss: 0.2507 - val_accuracy: 0.9737\n",
            "Epoch 125/125\n",
            "4/4 [==============================] - 0s 16ms/step - loss: 0.2034 - accuracy: 0.9737 - val_loss: 0.2483 - val_accuracy: 0.9737\n"
          ],
          "name": "stdout"
        }
      ]
    },
    {
      "cell_type": "code",
      "metadata": {
        "id": "LwPTlgr05Z5G",
        "colab": {
          "base_uri": "https://localhost:8080/",
          "height": 573
        },
        "outputId": "729c9ccf-d521-490f-ba69-73c356c961de"
      },
      "source": [
        "# summarize the history for accuracy\r\n",
        "plt.plot(history.history['accuracy'])\r\n",
        "plt.plot(history.history['val_accuracy'])\r\n",
        "plt.title('model accuracy')\r\n",
        "plt.ylabel('accuracy')\r\n",
        "plt.xlabel('epoch')\r\n",
        "plt.legend(['train','test'], loc='upper left')\r\n",
        "plt.show()\r\n",
        "\r\n",
        "# summarize the history for loss\r\n",
        "plt.plot(history.history['loss'])\r\n",
        "plt.plot(history.history['val_loss'])\r\n",
        "plt.title('model loss')\r\n",
        "plt.ylabel('loss')\r\n",
        "plt.xlabel('epoch')\r\n",
        "plt.legend(['train','test'], loc='upper left')\r\n",
        "plt.show()"
      ],
      "execution_count": 16,
      "outputs": [
        {
          "output_type": "display_data",
          "data": {
            "image/png": "[encoded data removed]",
            "text/plain": [
              "<Figure size 432x288 with 1 Axes>"
            ]
          },
          "metadata": {
            "tags": [],
            "needs_background": "light"
          }
        },
        {
          "output_type": "display_data",
          "data": {
            "image/png": "[encoded data removed]",
            "text/plain": [
              "<Figure size 432x288 with 1 Axes>"
            ]
          },
          "metadata": {
            "tags": [],
            "needs_background": "light"
          }
        }
      ]
    }
  ]
}
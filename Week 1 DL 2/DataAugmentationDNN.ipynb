{
  "nbformat": 4,
  "nbformat_minor": 0,
  "metadata": {
    "colab": {
      "name": "DataAugmentationDNN.ipynb",
      "provenance": [],
      "collapsed_sections": [],
      "authorship_tag": "ABX9TyPCsAWRAkSpe7OeYVkZYy/a",
      "include_colab_link": true
    },
    "kernelspec": {
      "name": "python3",
      "display_name": "Python 3"
    },
    "accelerator": "GPU"
  },
  "cells": [
    {
      "cell_type": "markdown",
      "metadata": {
        "id": "view-in-github",
        "colab_type": "text"
      },
      "source": [
        "<a href=\"https://colab.research.google.com/github/chambai/Deep_Learning_Course/blob/main/Week%201%20DL%202/DataAugmentationDNN.ipynb\" target=\"_parent\"><img src=\"https://colab.research.google.com/assets/colab-badge.svg\" alt=\"Open In Colab\"/></a>"
      ]
    },
    {
      "cell_type": "markdown",
      "metadata": {
        "id": "jqjWYb8Gm_qX"
      },
      "source": [
        "#Data Augmentation with DNN Exercise"
      ]
    },
    {
      "cell_type": "markdown",
      "metadata": {
        "id": "1b_sHIg-hmbQ"
      },
      "source": [
        "##Get standard MNIST dataset"
      ]
    },
    {
      "cell_type": "code",
      "metadata": {
        "id": "8fx336_OhBt6"
      },
      "source": [
        "# load the mnist dataset from keras\r\n",
        "import keras\r\n",
        "from keras import datasets\r\n",
        "(x_train, y_train), (x_test, y_test) = datasets.mnist.load_data()\r\n",
        "\r\n",
        "# Normalize pixel values between 0 and 1\r\n",
        "x_train = x_train.astype('float32') / 255.0\r\n",
        "x_test = x_test.astype('float32') / 255.0\r\n",
        "\r\n",
        "# One hot encode the output data\r\n",
        "y_train = keras.utils.to_categorical(y_train, 10)\r\n",
        "y_test = keras.utils.to_categorical(y_test, 10)"
      ],
      "execution_count": 33,
      "outputs": []
    },
    {
      "cell_type": "markdown",
      "metadata": {
        "id": "juKvSmMMhxvo"
      },
      "source": [
        "## Create, compile and fit model with original MNIST data only"
      ]
    },
    {
      "cell_type": "code",
      "metadata": {
        "id": "7djlySPcKO2u",
        "colab": {
          "base_uri": "https://localhost:8080/",
          "height": 1000
        },
        "outputId": "2c3542c8-d9e2-4df1-8711-f2423df6e1e8"
      },
      "source": [
        "# Create, compile and fit the model with the original MNIST data\r\n",
        "from keras import layers\r\n",
        "from keras import Sequential\r\n",
        "from keras.layers import Dense\r\n",
        "model = keras.Sequential()\r\n",
        "model.add(keras.layers.Flatten(input_shape=(28, 28)))\r\n",
        "model.add(Dense(units=10, activation='relu'))\r\n",
        "model.add(Dense(units=10, activation='softmax'))\r\n",
        "\r\n",
        "model.compile(optimizer = 'adam', loss = 'categorical_crossentropy', metrics = ['accuracy'])\r\n",
        "\r\n",
        "history = model.fit(x_train, y_train, epochs = 20, validation_data = (x_test, y_test))\r\n",
        "\r\n",
        "# plot the history of the training\r\n",
        "import matplotlib.pyplot as plt\r\n",
        "\r\n",
        "# summarize the history for accuracy\r\n",
        "plt.plot(history.history['accuracy'])\r\n",
        "plt.plot(history.history['val_accuracy'])\r\n",
        "plt.title('model accuracy')\r\n",
        "plt.ylabel('accuracy')\r\n",
        "plt.xlabel('epoch')\r\n",
        "plt.legend(['train','test'], loc='upper left')\r\n",
        "plt.show()\r\n",
        "\r\n",
        "# summarize the history for loss\r\n",
        "plt.plot(history.history['loss'])\r\n",
        "plt.plot(history.history['val_loss'])\r\n",
        "plt.title('model loss')\r\n",
        "plt.ylabel('loss')\r\n",
        "plt.xlabel('epoch')\r\n",
        "plt.legend(['train','test'], loc='upper left')\r\n",
        "plt.show()"
      ],
      "execution_count": 34,
      "outputs": [
        {
          "output_type": "stream",
          "text": [
            "Epoch 1/20\n",
            "1875/1875 [==============================] - 4s 2ms/step - loss: 0.8871 - accuracy: 0.7293 - val_loss: 0.2936 - val_accuracy: 0.9158\n",
            "Epoch 2/20\n",
            "1875/1875 [==============================] - 4s 2ms/step - loss: 0.2982 - accuracy: 0.9171 - val_loss: 0.2657 - val_accuracy: 0.9244\n",
            "Epoch 3/20\n",
            "1875/1875 [==============================] - 4s 2ms/step - loss: 0.2671 - accuracy: 0.9237 - val_loss: 0.2553 - val_accuracy: 0.9282\n",
            "Epoch 4/20\n",
            "1875/1875 [==============================] - 4s 2ms/step - loss: 0.2504 - accuracy: 0.9290 - val_loss: 0.2509 - val_accuracy: 0.9296\n",
            "Epoch 5/20\n",
            "1875/1875 [==============================] - 4s 2ms/step - loss: 0.2405 - accuracy: 0.9321 - val_loss: 0.2433 - val_accuracy: 0.9303\n",
            "Epoch 6/20\n",
            "1875/1875 [==============================] - 4s 2ms/step - loss: 0.2324 - accuracy: 0.9344 - val_loss: 0.2442 - val_accuracy: 0.9281\n",
            "Epoch 7/20\n",
            "1875/1875 [==============================] - 4s 2ms/step - loss: 0.2263 - accuracy: 0.9350 - val_loss: 0.2429 - val_accuracy: 0.9306\n",
            "Epoch 8/20\n",
            "1875/1875 [==============================] - 4s 2ms/step - loss: 0.2181 - accuracy: 0.9379 - val_loss: 0.2376 - val_accuracy: 0.9312\n",
            "Epoch 9/20\n",
            "1875/1875 [==============================] - 4s 2ms/step - loss: 0.2203 - accuracy: 0.9361 - val_loss: 0.2409 - val_accuracy: 0.9315\n",
            "Epoch 10/20\n",
            "1875/1875 [==============================] - 4s 2ms/step - loss: 0.2116 - accuracy: 0.9397 - val_loss: 0.2378 - val_accuracy: 0.9317\n",
            "Epoch 11/20\n",
            "1875/1875 [==============================] - 4s 2ms/step - loss: 0.2136 - accuracy: 0.9373 - val_loss: 0.2376 - val_accuracy: 0.9330\n",
            "Epoch 12/20\n",
            "1875/1875 [==============================] - 4s 2ms/step - loss: 0.2161 - accuracy: 0.9393 - val_loss: 0.2439 - val_accuracy: 0.9327\n",
            "Epoch 13/20\n",
            "1875/1875 [==============================] - 4s 2ms/step - loss: 0.2120 - accuracy: 0.9383 - val_loss: 0.2356 - val_accuracy: 0.9339\n",
            "Epoch 14/20\n",
            "1875/1875 [==============================] - 4s 2ms/step - loss: 0.2069 - accuracy: 0.9398 - val_loss: 0.2344 - val_accuracy: 0.9338\n",
            "Epoch 15/20\n",
            "1875/1875 [==============================] - 4s 2ms/step - loss: 0.2043 - accuracy: 0.9404 - val_loss: 0.2321 - val_accuracy: 0.9330\n",
            "Epoch 16/20\n",
            "1875/1875 [==============================] - 4s 2ms/step - loss: 0.2026 - accuracy: 0.9425 - val_loss: 0.2308 - val_accuracy: 0.9342\n",
            "Epoch 17/20\n",
            "1875/1875 [==============================] - 4s 2ms/step - loss: 0.1950 - accuracy: 0.9429 - val_loss: 0.2322 - val_accuracy: 0.9344\n",
            "Epoch 18/20\n",
            "1875/1875 [==============================] - 4s 2ms/step - loss: 0.1958 - accuracy: 0.9424 - val_loss: 0.2336 - val_accuracy: 0.9339\n",
            "Epoch 19/20\n",
            "1875/1875 [==============================] - 4s 2ms/step - loss: 0.1946 - accuracy: 0.9424 - val_loss: 0.2366 - val_accuracy: 0.9315\n",
            "Epoch 20/20\n",
            "1875/1875 [==============================] - 4s 2ms/step - loss: 0.1916 - accuracy: 0.9431 - val_loss: 0.2321 - val_accuracy: 0.9338\n"
          ],
          "name": "stdout"
        },
        {
          "output_type": "display_data",
          "data": {
            "image/png": "[encoded data removed]",
            "text/plain": [
              "<Figure size 432x288 with 1 Axes>"
            ]
          },
          "metadata": {
            "tags": [],
            "needs_background": "light"
          }
        },
        {
          "output_type": "display_data",
          "data": {
            "image/png": "[encoded data removed]",
            "text/plain": [
              "<Figure size 432x288 with 1 Axes>"
            ]
          },
          "metadata": {
            "tags": [],
            "needs_background": "light"
          }
        }
      ]
    },
    {
      "cell_type": "markdown",
      "metadata": {
        "id": "PLKKSL3LfXBB"
      },
      "source": [
        "##Augment the MNIST dataset with rotated, zoomed, width and height shifts"
      ]
    },
    {
      "cell_type": "code",
      "metadata": {
        "id": "iLAcxRkJGEo8",
        "colab": {
          "base_uri": "https://localhost:8080/"
        },
        "outputId": "ef6b7a8b-851c-4ae0-f21c-b08a841526d3"
      },
      "source": [
        "# use the image data generator from keras to augment the data\r\n",
        "from keras.preprocessing.image import ImageDataGenerator\r\n",
        "# setup the generator that will augment the images\r\n",
        "train_gen = ImageDataGenerator(rotation_range=8,   # rotate\r\n",
        "                               width_shift_range=0.08,  # width shiift\r\n",
        "                               shear_range=0.3,   # shear\r\n",
        "                               height_shift_range=0.08, # height shift\r\n",
        "                               zoom_range=0.08 )   # zoom\r\n",
        "\r\n",
        "\r\n",
        "import numpy as np\r\n",
        "# Generate aungemnted images for the training data\r\n",
        "x_train = np.reshape(x_train, (60000,28,28,1))\r\n",
        "training_set = train_gen.flow(x_train, y_train, batch_size=x_train.shape[0])\r\n",
        "\r\n",
        "# Generate aungemnted images for the test data\r\n",
        "x_test = np.reshape(x_test, (10000,28,28,1))\r\n",
        "test_set= train_gen.flow(x_test, y_test, batch_size=x_test.shape[0])\r\n",
        "\r\n",
        "# extract the augmented images from the output flow of the generator\r\n",
        "# add the augmented images generated from the training data to the original training data\r\n",
        "i = 0\r\n",
        "for x, y in training_set:\r\n",
        "  if i < 2:\r\n",
        "    print(i)\r\n",
        "    x_train = np.concatenate((x_train, x))\r\n",
        "    y_train = np.concatenate((y_train, y))\r\n",
        "    print(x_train.shape)\r\n",
        "    print(y_train.shape)\r\n",
        "  else:\r\n",
        "    break\r\n",
        "  i += 1\r\n",
        "\r\n",
        "# add the augmented images generated from the test data to the original test data\r\n",
        "i = 0\r\n",
        "for x, y in test_set:\r\n",
        "  if i < 2:\r\n",
        "    print(i)\r\n",
        "    x_test_aug = np.concatenate((x_test, x))\r\n",
        "    y_test_aug = np.concatenate((y_test, y))\r\n",
        "    print(x_test.shape)\r\n",
        "    print(y_test.shape)\r\n",
        "  else:\r\n",
        "    break\r\n",
        "  i += 1"
      ],
      "execution_count": 35,
      "outputs": [
        {
          "output_type": "stream",
          "text": [
            "0\n",
            "(120000, 28, 28, 1)\n",
            "(120000, 10)\n",
            "1\n",
            "(180000, 28, 28, 1)\n",
            "(180000, 10)\n",
            "0\n",
            "(10000, 28, 28, 1)\n",
            "(10000, 10)\n",
            "1\n",
            "(10000, 28, 28, 1)\n",
            "(10000, 10)\n"
          ],
          "name": "stdout"
        }
      ]
    },
    {
      "cell_type": "markdown",
      "metadata": {
        "id": "wi1sdqrFiOEy"
      },
      "source": [
        "##Create, compile and fit the model with the augmented MNIST data\r\n",
        "(this is the same code as used above to create, compile and fit the model)\r\n",
        "\r\n",
        "Compare this accuracy/loss with the accuracy/loss achieved with the original MNIST dataset above"
      ]
    },
    {
      "cell_type": "code",
      "metadata": {
        "id": "IbDx0kNzg0tq",
        "colab": {
          "base_uri": "https://localhost:8080/",
          "height": 1000
        },
        "outputId": "7e23e766-6801-47bb-d5dd-c0c1e1549977"
      },
      "source": [
        "# same as code above to create, compile and fit the model but now using the new augmented data\r\n",
        "from keras import layers\r\n",
        "from keras import Sequential\r\n",
        "from keras.layers import Dense\r\n",
        "model = keras.Sequential()\r\n",
        "model.add(keras.layers.Flatten(input_shape=(28, 28)))\r\n",
        "model.add(Dense(units=10, activation='relu'))\r\n",
        "model.add(Dense(units=10, activation='softmax'))\r\n",
        "\r\n",
        "model.compile(optimizer = 'adam', loss = 'categorical_crossentropy', metrics = ['accuracy'])\r\n",
        "\r\n",
        "history = model.fit(x_train, y_train, epochs = 20, validation_data = (x_test, y_test))\r\n",
        "\r\n",
        "# plot the history of the training\r\n",
        "import matplotlib.pyplot as plt\r\n",
        "\r\n",
        "# summarize the history for accuracy\r\n",
        "plt.plot(history.history['accuracy'])\r\n",
        "plt.plot(history.history['val_accuracy'])\r\n",
        "plt.title('model accuracy')\r\n",
        "plt.ylabel('accuracy')\r\n",
        "plt.xlabel('epoch')\r\n",
        "plt.legend(['train','test'], loc='upper left')\r\n",
        "plt.show()\r\n",
        "\r\n",
        "# summarize the history for loss\r\n",
        "plt.plot(history.history['loss'])\r\n",
        "plt.plot(history.history['val_loss'])\r\n",
        "plt.title('model loss')\r\n",
        "plt.ylabel('loss')\r\n",
        "plt.xlabel('epoch')\r\n",
        "plt.legend(['train','test'], loc='upper left')\r\n",
        "plt.show()"
      ],
      "execution_count": 36,
      "outputs": [
        {
          "output_type": "stream",
          "text": [
            "Epoch 1/20\n",
            "5625/5625 [==============================] - 10s 2ms/step - loss: 0.8884 - accuracy: 0.7264 - val_loss: 0.2943 - val_accuracy: 0.9177\n",
            "Epoch 2/20\n",
            "5625/5625 [==============================] - 10s 2ms/step - loss: 0.5236 - accuracy: 0.8431 - val_loss: 0.2728 - val_accuracy: 0.9208\n",
            "Epoch 3/20\n",
            "5625/5625 [==============================] - 10s 2ms/step - loss: 0.4748 - accuracy: 0.8558 - val_loss: 0.2734 - val_accuracy: 0.9197\n",
            "Epoch 4/20\n",
            "5625/5625 [==============================] - 10s 2ms/step - loss: 0.4534 - accuracy: 0.8628 - val_loss: 0.2674 - val_accuracy: 0.9224\n",
            "Epoch 5/20\n",
            "5625/5625 [==============================] - 10s 2ms/step - loss: 0.4416 - accuracy: 0.8668 - val_loss: 0.2576 - val_accuracy: 0.9246\n",
            "Epoch 6/20\n",
            "5625/5625 [==============================] - 10s 2ms/step - loss: 0.4350 - accuracy: 0.8680 - val_loss: 0.2510 - val_accuracy: 0.9270\n",
            "Epoch 7/20\n",
            "5625/5625 [==============================] - 10s 2ms/step - loss: 0.4218 - accuracy: 0.8729 - val_loss: 0.2503 - val_accuracy: 0.9273\n",
            "Epoch 8/20\n",
            "5625/5625 [==============================] - 10s 2ms/step - loss: 0.4162 - accuracy: 0.8742 - val_loss: 0.2473 - val_accuracy: 0.9271\n",
            "Epoch 9/20\n",
            "5625/5625 [==============================] - 10s 2ms/step - loss: 0.4109 - accuracy: 0.8761 - val_loss: 0.2418 - val_accuracy: 0.9282\n",
            "Epoch 10/20\n",
            "5625/5625 [==============================] - 10s 2ms/step - loss: 0.4005 - accuracy: 0.8805 - val_loss: 0.2374 - val_accuracy: 0.9289\n",
            "Epoch 11/20\n",
            "5625/5625 [==============================] - 10s 2ms/step - loss: 0.3963 - accuracy: 0.8827 - val_loss: 0.2362 - val_accuracy: 0.9291\n",
            "Epoch 12/20\n",
            "5625/5625 [==============================] - 10s 2ms/step - loss: 0.3872 - accuracy: 0.8837 - val_loss: 0.2387 - val_accuracy: 0.9276\n",
            "Epoch 13/20\n",
            "5625/5625 [==============================] - 10s 2ms/step - loss: 0.3880 - accuracy: 0.8841 - val_loss: 0.2498 - val_accuracy: 0.9254\n",
            "Epoch 14/20\n",
            "5625/5625 [==============================] - 10s 2ms/step - loss: 0.3870 - accuracy: 0.8840 - val_loss: 0.2432 - val_accuracy: 0.9263\n",
            "Epoch 15/20\n",
            "5625/5625 [==============================] - 10s 2ms/step - loss: 0.3824 - accuracy: 0.8848 - val_loss: 0.2368 - val_accuracy: 0.9271\n",
            "Epoch 16/20\n",
            "5625/5625 [==============================] - 10s 2ms/step - loss: 0.3792 - accuracy: 0.8866 - val_loss: 0.2437 - val_accuracy: 0.9292\n",
            "Epoch 17/20\n",
            "5625/5625 [==============================] - 10s 2ms/step - loss: 0.3765 - accuracy: 0.8869 - val_loss: 0.2442 - val_accuracy: 0.9258\n",
            "Epoch 18/20\n",
            "5625/5625 [==============================] - 10s 2ms/step - loss: 0.3758 - accuracy: 0.8871 - val_loss: 0.2409 - val_accuracy: 0.9264\n",
            "Epoch 19/20\n",
            "5625/5625 [==============================] - 10s 2ms/step - loss: 0.3734 - accuracy: 0.8873 - val_loss: 0.2375 - val_accuracy: 0.9279\n",
            "Epoch 20/20\n",
            "5625/5625 [==============================] - 10s 2ms/step - loss: 0.3719 - accuracy: 0.8892 - val_loss: 0.2385 - val_accuracy: 0.9289\n"
          ],
          "name": "stdout"
        },
        {
          "output_type": "display_data",
          "data": {
            "image/png": "[encoded data removed]",
            "text/plain": [
              "<Figure size 432x288 with 1 Axes>"
            ]
          },
          "metadata": {
            "tags": [],
            "needs_background": "light"
          }
        },
        {
          "output_type": "display_data",
          "data": {
            "image/png": "[encoded data removed]",
            "text/plain": [
              "<Figure size 432x288 with 1 Axes>"
            ]
          },
          "metadata": {
            "tags": [],
            "needs_background": "light"
          }
        }
      ]
    },
    {
      "cell_type": "markdown",
      "metadata": {
        "id": "Zm_xVOZ2_jQ9"
      },
      "source": [
        "The validation accuracy may be roughly the same but it was overfitting before and now the validation accuracy is much better than the training accuracy.\r\n",
        "\r\n",
        "**However we do not want the validation accuracy to be much higher than the training accuracy as it is in the case above as this this can indicate that the validation set consists of easier examples than the training set.**\r\n",
        "\r\n",
        "**Warning:** Sometimes the data augmentation applied to the training data makes the training task harder.  We can see in the original training (with no augmentation) as we acheive a better training accuracy of 0.94, whereas here we acheive a training accuracy of 0.88, indicating that it has become harder to train after application of the data augmentation."
      ]
    },
    {
      "cell_type": "markdown",
      "metadata": {
        "id": "POzu6pzf-O38"
      },
      "source": [
        "## Investigate the Keras `ImageDataGenerator` and see what other augmentation you could apply"
      ]
    }
  ]
}
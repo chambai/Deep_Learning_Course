{
  "nbformat": 4,
  "nbformat_minor": 0,
  "metadata": {
    "colab": {
      "name": "DataAugmentationDNN.ipynb",
      "provenance": [],
      "collapsed_sections": [],
      "authorship_tag": "ABX9TyM4Ywy/kFX/h8qvXDa706mO",
      "include_colab_link": true
    },
    "kernelspec": {
      "name": "python3",
      "display_name": "Python 3"
    },
    "accelerator": "GPU"
  },
  "cells": [
    {
      "cell_type": "markdown",
      "metadata": {
        "id": "view-in-github",
        "colab_type": "text"
      },
      "source": [
        "<a href=\"https://colab.research.google.com/github/chambai/Deep_Learning_Course/blob/main/Week%201%20DL%202/DataAugmentationDNN.ipynb\" target=\"_parent\"><img src=\"https://colab.research.google.com/assets/colab-badge.svg\" alt=\"Open In Colab\"/></a>"
      ]
    },
    {
      "cell_type": "markdown",
      "metadata": {
        "id": "jqjWYb8Gm_qX"
      },
      "source": [
        "#Data Augmentation with DNN Exercise"
      ]
    },
    {
      "cell_type": "markdown",
      "metadata": {
        "id": "1b_sHIg-hmbQ"
      },
      "source": [
        "##Get standard MNIST dataset"
      ]
    },
    {
      "cell_type": "code",
      "metadata": {
        "id": "8fx336_OhBt6"
      },
      "source": [
        "# load the mnist dataset from keras\r\n",
        "import keras\r\n",
        "from keras import datasets\r\n",
        "(x_train, y_train), (x_test, y_test) = datasets.mnist.load_data()\r\n",
        "\r\n",
        "# Normalize pixel values between 0 and 1\r\n",
        "x_train = x_train.astype('float32') / 255.0\r\n",
        "x_test = x_test.astype('float32') / 255.0\r\n",
        "\r\n",
        "# One hot encode the output data\r\n",
        "y_train = keras.utils.to_categorical(y_train, 10)\r\n",
        "y_test = keras.utils.to_categorical(y_test, 10)"
      ],
      "execution_count": 9,
      "outputs": []
    },
    {
      "cell_type": "markdown",
      "metadata": {
        "id": "juKvSmMMhxvo"
      },
      "source": [
        "## Create, compile and fit model with original MNIST data only"
      ]
    },
    {
      "cell_type": "code",
      "metadata": {
        "id": "7djlySPcKO2u",
        "colab": {
          "base_uri": "https://localhost:8080/",
          "height": 680
        },
        "outputId": "dc471e97-43ae-4456-f9d3-7a188a389dd1"
      },
      "source": [
        "# Create, compile and fit the model with the original MNIST data\r\n",
        "from keras import layers\r\n",
        "from keras import Sequential\r\n",
        "from keras.layers import Dense\r\n",
        "model = keras.Sequential()\r\n",
        "model.add(keras.layers.Flatten(input_shape=(28, 28)))\r\n",
        "model.add(Dense(units=10, activation='relu'))\r\n",
        "model.add(Dense(units=10, activation='softmax'))\r\n",
        "\r\n",
        "model.compile(optimizer = 'adam', loss = 'categorical_crossentropy', metrics = ['accuracy'])\r\n",
        "\r\n",
        "history = model.fit(x_train, y_train, epochs = 20, validation_data = (x_test, y_test))\r\n",
        "\r\n",
        "# plot the history of the training\r\n",
        "import matplotlib.pyplot as plt\r\n",
        "\r\n",
        "# summarize the history for accuracy\r\n",
        "plt.plot(history.history['accuracy'])\r\n",
        "plt.plot(history.history['val_accuracy'])\r\n",
        "plt.title('model accuracy')\r\n",
        "plt.ylabel('accuracy')\r\n",
        "plt.xlabel('epoch')\r\n",
        "plt.legend(['train','test'], loc='upper left')\r\n",
        "plt.show()\r\n",
        "\r\n",
        "# summarize the history for loss\r\n",
        "plt.plot(history.history['loss'])\r\n",
        "plt.plot(history.history['val_loss'])\r\n",
        "plt.title('model loss')\r\n",
        "plt.ylabel('loss')\r\n",
        "plt.xlabel('epoch')\r\n",
        "plt.legend(['train','test'], loc='upper left')\r\n",
        "plt.show()"
      ],
      "execution_count": 10,
      "outputs": [
        {
          "output_type": "stream",
          "text": [
            "Epoch 1/20\n",
            "1875/1875 [==============================] - 4s 2ms/step - loss: 0.8038 - accuracy: 0.7738 - val_loss: 0.2852 - val_accuracy: 0.9191\n",
            "Epoch 2/20\n",
            "1875/1875 [==============================] - 4s 2ms/step - loss: 0.2866 - accuracy: 0.9188 - val_loss: 0.2583 - val_accuracy: 0.9261\n",
            "Epoch 3/20\n",
            "1875/1875 [==============================] - 3s 2ms/step - loss: 0.2623 - accuracy: 0.9249 - val_loss: 0.2522 - val_accuracy: 0.9289\n",
            "Epoch 4/20\n",
            "1875/1875 [==============================] - 3s 2ms/step - loss: 0.2420 - accuracy: 0.9306 - val_loss: 0.2419 - val_accuracy: 0.9343\n",
            "Epoch 5/20\n",
            "1875/1875 [==============================] - 3s 2ms/step - loss: 0.2300 - accuracy: 0.9343 - val_loss: 0.2349 - val_accuracy: 0.9346\n",
            "Epoch 6/20\n",
            "1875/1875 [==============================] - 4s 2ms/step - loss: 0.2219 - accuracy: 0.9360 - val_loss: 0.2381 - val_accuracy: 0.9309\n",
            "Epoch 7/20\n",
            "1875/1875 [==============================] - 4s 2ms/step - loss: 0.2170 - accuracy: 0.9385 - val_loss: 0.2342 - val_accuracy: 0.9335\n",
            "Epoch 8/20\n",
            "1875/1875 [==============================] - 4s 2ms/step - loss: 0.2180 - accuracy: 0.9389 - val_loss: 0.2393 - val_accuracy: 0.9317\n",
            "Epoch 9/20\n",
            " 116/1875 [>.............................] - ETA: 3s - loss: 0.2090 - accuracy: 0.9370"
          ],
          "name": "stdout"
        },
        {
          "output_type": "error",
          "ename": "KeyboardInterrupt",
          "evalue": "ignored",
          "traceback": [
            "\u001b[0;31m---------------------------------------------------------------------------\u001b[0m",
            "\u001b[0;31mKeyboardInterrupt\u001b[0m                         Traceback (most recent call last)",
            "\u001b[0;32m<ipython-input-10-1f25317ccb1a>\u001b[0m in \u001b[0;36m<module>\u001b[0;34m()\u001b[0m\n\u001b[1;32m     10\u001b[0m \u001b[0mmodel\u001b[0m\u001b[0;34m.\u001b[0m\u001b[0mcompile\u001b[0m\u001b[0;34m(\u001b[0m\u001b[0moptimizer\u001b[0m \u001b[0;34m=\u001b[0m \u001b[0;34m'adam'\u001b[0m\u001b[0;34m,\u001b[0m \u001b[0mloss\u001b[0m \u001b[0;34m=\u001b[0m \u001b[0;34m'categorical_crossentropy'\u001b[0m\u001b[0;34m,\u001b[0m \u001b[0mmetrics\u001b[0m \u001b[0;34m=\u001b[0m \u001b[0;34m[\u001b[0m\u001b[0;34m'accuracy'\u001b[0m\u001b[0;34m]\u001b[0m\u001b[0;34m)\u001b[0m\u001b[0;34m\u001b[0m\u001b[0;34m\u001b[0m\u001b[0m\n\u001b[1;32m     11\u001b[0m \u001b[0;34m\u001b[0m\u001b[0m\n\u001b[0;32m---> 12\u001b[0;31m \u001b[0mhistory\u001b[0m \u001b[0;34m=\u001b[0m \u001b[0mmodel\u001b[0m\u001b[0;34m.\u001b[0m\u001b[0mfit\u001b[0m\u001b[0;34m(\u001b[0m\u001b[0mx_train\u001b[0m\u001b[0;34m,\u001b[0m \u001b[0my_train\u001b[0m\u001b[0;34m,\u001b[0m \u001b[0mepochs\u001b[0m \u001b[0;34m=\u001b[0m \u001b[0;36m20\u001b[0m\u001b[0;34m,\u001b[0m \u001b[0mvalidation_data\u001b[0m \u001b[0;34m=\u001b[0m \u001b[0;34m(\u001b[0m\u001b[0mx_test\u001b[0m\u001b[0;34m,\u001b[0m \u001b[0my_test\u001b[0m\u001b[0;34m)\u001b[0m\u001b[0;34m)\u001b[0m\u001b[0;34m\u001b[0m\u001b[0;34m\u001b[0m\u001b[0m\n\u001b[0m\u001b[1;32m     13\u001b[0m \u001b[0;34m\u001b[0m\u001b[0m\n\u001b[1;32m     14\u001b[0m \u001b[0;31m# plot the history of the training\u001b[0m\u001b[0;34m\u001b[0m\u001b[0;34m\u001b[0m\u001b[0;34m\u001b[0m\u001b[0m\n",
            "\u001b[0;32m/usr/local/lib/python3.7/dist-packages/tensorflow/python/keras/engine/training.py\u001b[0m in \u001b[0;36mfit\u001b[0;34m(self, x, y, batch_size, epochs, verbose, callbacks, validation_split, validation_data, shuffle, class_weight, sample_weight, initial_epoch, steps_per_epoch, validation_steps, validation_batch_size, validation_freq, max_queue_size, workers, use_multiprocessing)\u001b[0m\n\u001b[1;32m   1098\u001b[0m                 _r=1):\n\u001b[1;32m   1099\u001b[0m               \u001b[0mcallbacks\u001b[0m\u001b[0;34m.\u001b[0m\u001b[0mon_train_batch_begin\u001b[0m\u001b[0;34m(\u001b[0m\u001b[0mstep\u001b[0m\u001b[0;34m)\u001b[0m\u001b[0;34m\u001b[0m\u001b[0;34m\u001b[0m\u001b[0m\n\u001b[0;32m-> 1100\u001b[0;31m               \u001b[0mtmp_logs\u001b[0m \u001b[0;34m=\u001b[0m \u001b[0mself\u001b[0m\u001b[0;34m.\u001b[0m\u001b[0mtrain_function\u001b[0m\u001b[0;34m(\u001b[0m\u001b[0miterator\u001b[0m\u001b[0;34m)\u001b[0m\u001b[0;34m\u001b[0m\u001b[0;34m\u001b[0m\u001b[0m\n\u001b[0m\u001b[1;32m   1101\u001b[0m               \u001b[0;32mif\u001b[0m \u001b[0mdata_handler\u001b[0m\u001b[0;34m.\u001b[0m\u001b[0mshould_sync\u001b[0m\u001b[0;34m:\u001b[0m\u001b[0;34m\u001b[0m\u001b[0;34m\u001b[0m\u001b[0m\n\u001b[1;32m   1102\u001b[0m                 \u001b[0mcontext\u001b[0m\u001b[0;34m.\u001b[0m\u001b[0masync_wait\u001b[0m\u001b[0;34m(\u001b[0m\u001b[0;34m)\u001b[0m\u001b[0;34m\u001b[0m\u001b[0;34m\u001b[0m\u001b[0m\n",
            "\u001b[0;32m/usr/local/lib/python3.7/dist-packages/tensorflow/python/eager/def_function.py\u001b[0m in \u001b[0;36m__call__\u001b[0;34m(self, *args, **kwds)\u001b[0m\n\u001b[1;32m    826\u001b[0m     \u001b[0mtracing_count\u001b[0m \u001b[0;34m=\u001b[0m \u001b[0mself\u001b[0m\u001b[0;34m.\u001b[0m\u001b[0mexperimental_get_tracing_count\u001b[0m\u001b[0;34m(\u001b[0m\u001b[0;34m)\u001b[0m\u001b[0;34m\u001b[0m\u001b[0;34m\u001b[0m\u001b[0m\n\u001b[1;32m    827\u001b[0m     \u001b[0;32mwith\u001b[0m \u001b[0mtrace\u001b[0m\u001b[0;34m.\u001b[0m\u001b[0mTrace\u001b[0m\u001b[0;34m(\u001b[0m\u001b[0mself\u001b[0m\u001b[0;34m.\u001b[0m\u001b[0m_name\u001b[0m\u001b[0;34m)\u001b[0m \u001b[0;32mas\u001b[0m \u001b[0mtm\u001b[0m\u001b[0;34m:\u001b[0m\u001b[0;34m\u001b[0m\u001b[0;34m\u001b[0m\u001b[0m\n\u001b[0;32m--> 828\u001b[0;31m       \u001b[0mresult\u001b[0m \u001b[0;34m=\u001b[0m \u001b[0mself\u001b[0m\u001b[0;34m.\u001b[0m\u001b[0m_call\u001b[0m\u001b[0;34m(\u001b[0m\u001b[0;34m*\u001b[0m\u001b[0margs\u001b[0m\u001b[0;34m,\u001b[0m \u001b[0;34m**\u001b[0m\u001b[0mkwds\u001b[0m\u001b[0;34m)\u001b[0m\u001b[0;34m\u001b[0m\u001b[0;34m\u001b[0m\u001b[0m\n\u001b[0m\u001b[1;32m    829\u001b[0m       \u001b[0mcompiler\u001b[0m \u001b[0;34m=\u001b[0m \u001b[0;34m\"xla\"\u001b[0m \u001b[0;32mif\u001b[0m \u001b[0mself\u001b[0m\u001b[0;34m.\u001b[0m\u001b[0m_experimental_compile\u001b[0m \u001b[0;32melse\u001b[0m \u001b[0;34m\"nonXla\"\u001b[0m\u001b[0;34m\u001b[0m\u001b[0;34m\u001b[0m\u001b[0m\n\u001b[1;32m    830\u001b[0m       \u001b[0mnew_tracing_count\u001b[0m \u001b[0;34m=\u001b[0m \u001b[0mself\u001b[0m\u001b[0;34m.\u001b[0m\u001b[0mexperimental_get_tracing_count\u001b[0m\u001b[0;34m(\u001b[0m\u001b[0;34m)\u001b[0m\u001b[0;34m\u001b[0m\u001b[0;34m\u001b[0m\u001b[0m\n",
            "\u001b[0;32m/usr/local/lib/python3.7/dist-packages/tensorflow/python/eager/def_function.py\u001b[0m in \u001b[0;36m_call\u001b[0;34m(self, *args, **kwds)\u001b[0m\n\u001b[1;32m    853\u001b[0m       \u001b[0;31m# In this case we have created variables on the first call, so we run the\u001b[0m\u001b[0;34m\u001b[0m\u001b[0;34m\u001b[0m\u001b[0;34m\u001b[0m\u001b[0m\n\u001b[1;32m    854\u001b[0m       \u001b[0;31m# defunned version which is guaranteed to never create variables.\u001b[0m\u001b[0;34m\u001b[0m\u001b[0;34m\u001b[0m\u001b[0;34m\u001b[0m\u001b[0m\n\u001b[0;32m--> 855\u001b[0;31m       \u001b[0;32mreturn\u001b[0m \u001b[0mself\u001b[0m\u001b[0;34m.\u001b[0m\u001b[0m_stateless_fn\u001b[0m\u001b[0;34m(\u001b[0m\u001b[0;34m*\u001b[0m\u001b[0margs\u001b[0m\u001b[0;34m,\u001b[0m \u001b[0;34m**\u001b[0m\u001b[0mkwds\u001b[0m\u001b[0;34m)\u001b[0m  \u001b[0;31m# pylint: disable=not-callable\u001b[0m\u001b[0;34m\u001b[0m\u001b[0;34m\u001b[0m\u001b[0m\n\u001b[0m\u001b[1;32m    856\u001b[0m     \u001b[0;32melif\u001b[0m \u001b[0mself\u001b[0m\u001b[0;34m.\u001b[0m\u001b[0m_stateful_fn\u001b[0m \u001b[0;32mis\u001b[0m \u001b[0;32mnot\u001b[0m \u001b[0;32mNone\u001b[0m\u001b[0;34m:\u001b[0m\u001b[0;34m\u001b[0m\u001b[0;34m\u001b[0m\u001b[0m\n\u001b[1;32m    857\u001b[0m       \u001b[0;31m# Release the lock early so that multiple threads can perform the call\u001b[0m\u001b[0;34m\u001b[0m\u001b[0;34m\u001b[0m\u001b[0;34m\u001b[0m\u001b[0m\n",
            "\u001b[0;32m/usr/local/lib/python3.7/dist-packages/tensorflow/python/eager/function.py\u001b[0m in \u001b[0;36m__call__\u001b[0;34m(self, *args, **kwargs)\u001b[0m\n\u001b[1;32m   2941\u001b[0m        filtered_flat_args) = self._maybe_define_function(args, kwargs)\n\u001b[1;32m   2942\u001b[0m     return graph_function._call_flat(\n\u001b[0;32m-> 2943\u001b[0;31m         filtered_flat_args, captured_inputs=graph_function.captured_inputs)  # pylint: disable=protected-access\n\u001b[0m\u001b[1;32m   2944\u001b[0m \u001b[0;34m\u001b[0m\u001b[0m\n\u001b[1;32m   2945\u001b[0m   \u001b[0;34m@\u001b[0m\u001b[0mproperty\u001b[0m\u001b[0;34m\u001b[0m\u001b[0;34m\u001b[0m\u001b[0m\n",
            "\u001b[0;32m/usr/local/lib/python3.7/dist-packages/tensorflow/python/eager/function.py\u001b[0m in \u001b[0;36m_call_flat\u001b[0;34m(self, args, captured_inputs, cancellation_manager)\u001b[0m\n\u001b[1;32m   1917\u001b[0m       \u001b[0;31m# No tape is watching; skip to running the function.\u001b[0m\u001b[0;34m\u001b[0m\u001b[0;34m\u001b[0m\u001b[0;34m\u001b[0m\u001b[0m\n\u001b[1;32m   1918\u001b[0m       return self._build_call_outputs(self._inference_function.call(\n\u001b[0;32m-> 1919\u001b[0;31m           ctx, args, cancellation_manager=cancellation_manager))\n\u001b[0m\u001b[1;32m   1920\u001b[0m     forward_backward = self._select_forward_and_backward_functions(\n\u001b[1;32m   1921\u001b[0m         \u001b[0margs\u001b[0m\u001b[0;34m,\u001b[0m\u001b[0;34m\u001b[0m\u001b[0;34m\u001b[0m\u001b[0m\n",
            "\u001b[0;32m/usr/local/lib/python3.7/dist-packages/tensorflow/python/eager/function.py\u001b[0m in \u001b[0;36m_build_call_outputs\u001b[0;34m(self, result)\u001b[0m\n\u001b[1;32m   2173\u001b[0m         \u001b[0mj\u001b[0m \u001b[0;34m+=\u001b[0m \u001b[0;36m1\u001b[0m\u001b[0;34m\u001b[0m\u001b[0;34m\u001b[0m\u001b[0m\n\u001b[1;32m   2174\u001b[0m     ret = nest.pack_sequence_as(self._func_graph.structured_outputs,\n\u001b[0;32m-> 2175\u001b[0;31m                                 outputs_list, expand_composites=True)\n\u001b[0m\u001b[1;32m   2176\u001b[0m     \u001b[0;32mreturn\u001b[0m \u001b[0mret\u001b[0m\u001b[0;34m\u001b[0m\u001b[0;34m\u001b[0m\u001b[0m\n\u001b[1;32m   2177\u001b[0m \u001b[0;34m\u001b[0m\u001b[0m\n",
            "\u001b[0;32m/usr/local/lib/python3.7/dist-packages/tensorflow/python/util/nest.py\u001b[0m in \u001b[0;36mpack_sequence_as\u001b[0;34m(structure, flat_sequence, expand_composites)\u001b[0m\n\u001b[1;32m    577\u001b[0m     \u001b[0mTypeError\u001b[0m\u001b[0;34m:\u001b[0m\u001b[0;31m \u001b[0m\u001b[0;31m`\u001b[0m\u001b[0mstructure\u001b[0m\u001b[0;31m`\u001b[0m \u001b[0;32mis\u001b[0m \u001b[0;32mor\u001b[0m \u001b[0mcontains\u001b[0m \u001b[0ma\u001b[0m \u001b[0mdict\u001b[0m \u001b[0;32mwith\u001b[0m \u001b[0mnon\u001b[0m\u001b[0;34m-\u001b[0m\u001b[0msortable\u001b[0m \u001b[0mkeys\u001b[0m\u001b[0;34m.\u001b[0m\u001b[0;34m\u001b[0m\u001b[0;34m\u001b[0m\u001b[0m\n\u001b[1;32m    578\u001b[0m   \"\"\"\n\u001b[0;32m--> 579\u001b[0;31m   \u001b[0;32mreturn\u001b[0m \u001b[0m_pack_sequence_as\u001b[0m\u001b[0;34m(\u001b[0m\u001b[0mstructure\u001b[0m\u001b[0;34m,\u001b[0m \u001b[0mflat_sequence\u001b[0m\u001b[0;34m,\u001b[0m \u001b[0mexpand_composites\u001b[0m\u001b[0;34m)\u001b[0m\u001b[0;34m\u001b[0m\u001b[0;34m\u001b[0m\u001b[0m\n\u001b[0m\u001b[1;32m    580\u001b[0m \u001b[0;34m\u001b[0m\u001b[0m\n\u001b[1;32m    581\u001b[0m \u001b[0;34m\u001b[0m\u001b[0m\n",
            "\u001b[0;32m/usr/local/lib/python3.7/dist-packages/tensorflow/python/util/nest.py\u001b[0m in \u001b[0;36m_pack_sequence_as\u001b[0;34m(structure, flat_sequence, expand_composites, sequence_fn)\u001b[0m\n\u001b[1;32m    530\u001b[0m   \u001b[0;32mtry\u001b[0m\u001b[0;34m:\u001b[0m\u001b[0;34m\u001b[0m\u001b[0;34m\u001b[0m\u001b[0m\n\u001b[1;32m    531\u001b[0m     final_index, packed = _packed_nest_with_indices(structure, flat_sequence,\n\u001b[0;32m--> 532\u001b[0;31m                                                     0, is_seq, sequence_fn)\n\u001b[0m\u001b[1;32m    533\u001b[0m     \u001b[0;32mif\u001b[0m \u001b[0mfinal_index\u001b[0m \u001b[0;34m<\u001b[0m \u001b[0mlen\u001b[0m\u001b[0;34m(\u001b[0m\u001b[0mflat_sequence\u001b[0m\u001b[0;34m)\u001b[0m\u001b[0;34m:\u001b[0m\u001b[0;34m\u001b[0m\u001b[0;34m\u001b[0m\u001b[0m\n\u001b[1;32m    534\u001b[0m       \u001b[0;32mraise\u001b[0m \u001b[0mIndexError\u001b[0m\u001b[0;34m\u001b[0m\u001b[0;34m\u001b[0m\u001b[0m\n",
            "\u001b[0;32m/usr/local/lib/python3.7/dist-packages/tensorflow/python/util/nest.py\u001b[0m in \u001b[0;36m_packed_nest_with_indices\u001b[0;34m(structure, flat, index, is_seq, sequence_fn)\u001b[0m\n\u001b[1;32m    492\u001b[0m   \u001b[0msequence_fn\u001b[0m \u001b[0;34m=\u001b[0m \u001b[0msequence_fn\u001b[0m \u001b[0;32mor\u001b[0m \u001b[0m_sequence_like\u001b[0m\u001b[0;34m\u001b[0m\u001b[0;34m\u001b[0m\u001b[0m\n\u001b[1;32m    493\u001b[0m   \u001b[0;32mfor\u001b[0m \u001b[0ms\u001b[0m \u001b[0;32min\u001b[0m \u001b[0m_yield_value\u001b[0m\u001b[0;34m(\u001b[0m\u001b[0mstructure\u001b[0m\u001b[0;34m)\u001b[0m\u001b[0;34m:\u001b[0m\u001b[0;34m\u001b[0m\u001b[0;34m\u001b[0m\u001b[0m\n\u001b[0;32m--> 494\u001b[0;31m     \u001b[0;32mif\u001b[0m \u001b[0mis_seq\u001b[0m\u001b[0;34m(\u001b[0m\u001b[0ms\u001b[0m\u001b[0;34m)\u001b[0m\u001b[0;34m:\u001b[0m\u001b[0;34m\u001b[0m\u001b[0;34m\u001b[0m\u001b[0m\n\u001b[0m\u001b[1;32m    495\u001b[0m       new_index, child = _packed_nest_with_indices(s, flat, index, is_seq,\n\u001b[1;32m    496\u001b[0m                                                    sequence_fn)\n",
            "\u001b[0;31mKeyboardInterrupt\u001b[0m: "
          ]
        }
      ]
    },
    {
      "cell_type": "markdown",
      "metadata": {
        "id": "PLKKSL3LfXBB"
      },
      "source": [
        "##Augment the MNIST dataset with rotated, zoomed, width and height shifts"
      ]
    },
    {
      "cell_type": "code",
      "metadata": {
        "id": "iLAcxRkJGEo8",
        "colab": {
          "base_uri": "https://localhost:8080/"
        },
        "outputId": "697839a3-ea96-4054-c933-c3fd7fc1436d"
      },
      "source": [
        "# use the image data generator from keras to augment the data\r\n",
        "from keras.preprocessing.image import ImageDataGenerator\r\n",
        "# setup the generator that will augment the images\r\n",
        "# train_gen = ImageDataGenerator(rotation_range=8,   # rotate\r\n",
        "#                                width_shift_range=0.08,  # width shiift\r\n",
        "#                                shear_range=0.3,   # shear\r\n",
        "#                                height_shift_range=0.08, # height shift\r\n",
        "#                                zoom_range=0.08 )   # zoom\r\n",
        "\r\n",
        "train_gen = ImageDataGenerator(width_shift_range=0.08,  # width shiift\r\n",
        "                               height_shift_range=0.08 # height shift\r\n",
        "                               )   # zoom\r\n",
        "\r\n",
        "\r\n",
        "import numpy as np\r\n",
        "# Generate aungemnted images for the training data\r\n",
        "x_train = np.reshape(x_train, (60000,28,28,1))\r\n",
        "training_set = train_gen.flow(x_train, y_train, batch_size=x_train.shape[0])\r\n",
        "\r\n",
        "# # Generate aungemnted images for the test data\r\n",
        "# x_test = np.reshape(x_test, (10000,28,28,1))\r\n",
        "# test_set= train_gen.flow(x_test, y_test, batch_size=x_test.shape[0])\r\n",
        "\r\n",
        "# extract the augmented images from the output flow of the generator\r\n",
        "# add the augmented images generated from the training data to the original training data\r\n",
        "i = 0\r\n",
        "for x, y in training_set:\r\n",
        "  if i < 2:\r\n",
        "    print(i)\r\n",
        "    x_train = np.concatenate((x_train, x))\r\n",
        "    y_train = np.concatenate((y_train, y))\r\n",
        "    print(x_train.shape)\r\n",
        "    print(y_train.shape)\r\n",
        "  else:\r\n",
        "    break\r\n",
        "  i += 1\r\n",
        "\r\n",
        "# add the augmented images generated from the test data to the original test data\r\n",
        "# i = 0\r\n",
        "# for x, y in test_set:\r\n",
        "#   if i < 2:\r\n",
        "#     print(i)\r\n",
        "#     x_test_aug = np.concatenate((x_test, x))\r\n",
        "#     y_test_aug = np.concatenate((y_test, y))\r\n",
        "#     print(x_test.shape)\r\n",
        "#     print(y_test.shape)\r\n",
        "#   else:\r\n",
        "#     break\r\n",
        "#   i += 1"
      ],
      "execution_count": 12,
      "outputs": [
        {
          "output_type": "stream",
          "text": [
            "0\n",
            "(120000, 28, 28, 1)\n",
            "(120000, 10)\n",
            "1\n",
            "(180000, 28, 28, 1)\n",
            "(180000, 10)\n"
          ],
          "name": "stdout"
        }
      ]
    },
    {
      "cell_type": "markdown",
      "metadata": {
        "id": "wi1sdqrFiOEy"
      },
      "source": [
        "##Create, compile and fit the model with the augmented MNIST data\r\n",
        "(this is the same code as used above to create, compile and fit the model)\r\n",
        "\r\n",
        "Compare this accuracy/loss with the accuracy/loss achieved with the original MNIST dataset above"
      ]
    },
    {
      "cell_type": "code",
      "metadata": {
        "id": "IbDx0kNzg0tq",
        "colab": {
          "base_uri": "https://localhost:8080/",
          "height": 1000
        },
        "outputId": "b00b48be-b7c0-49c7-da4b-fe3bc3e1d4d4"
      },
      "source": [
        "# same as code above to create, compile and fit the model but now using the new augmented data\r\n",
        "from keras import layers\r\n",
        "from keras import Sequential\r\n",
        "from keras.layers import Dense\r\n",
        "model = keras.Sequential()\r\n",
        "model.add(keras.layers.Flatten(input_shape=(28, 28)))\r\n",
        "model.add(Dense(units=10, activation='relu'))\r\n",
        "model.add(Dense(units=10, activation='softmax'))\r\n",
        "\r\n",
        "model.compile(optimizer = 'adam', loss = 'categorical_crossentropy', metrics = ['accuracy'])\r\n",
        "\r\n",
        "history = model.fit(x_train, y_train, epochs = 20, validation_data = (x_test, y_test))\r\n",
        "\r\n",
        "# plot the history of the training\r\n",
        "import matplotlib.pyplot as plt\r\n",
        "\r\n",
        "# summarize the history for accuracy\r\n",
        "plt.plot(history.history['accuracy'])\r\n",
        "plt.plot(history.history['val_accuracy'])\r\n",
        "plt.title('model accuracy')\r\n",
        "plt.ylabel('accuracy')\r\n",
        "plt.xlabel('epoch')\r\n",
        "plt.legend(['train','test'], loc='upper left')\r\n",
        "plt.show()\r\n",
        "\r\n",
        "# summarize the history for loss\r\n",
        "plt.plot(history.history['loss'])\r\n",
        "plt.plot(history.history['val_loss'])\r\n",
        "plt.title('model loss')\r\n",
        "plt.ylabel('loss')\r\n",
        "plt.xlabel('epoch')\r\n",
        "plt.legend(['train','test'], loc='upper left')\r\n",
        "plt.show()"
      ],
      "execution_count": 13,
      "outputs": [
        {
          "output_type": "stream",
          "text": [
            "Epoch 1/20\n",
            "5625/5625 [==============================] - 10s 2ms/step - loss: 0.8299 - accuracy: 0.7503 - val_loss: 0.2888 - val_accuracy: 0.9228\n",
            "Epoch 2/20\n",
            "5625/5625 [==============================] - 10s 2ms/step - loss: 0.4884 - accuracy: 0.8572 - val_loss: 0.2746 - val_accuracy: 0.9218\n",
            "Epoch 3/20\n",
            "5625/5625 [==============================] - 10s 2ms/step - loss: 0.4557 - accuracy: 0.8671 - val_loss: 0.2717 - val_accuracy: 0.9216\n",
            "Epoch 4/20\n",
            "5625/5625 [==============================] - 10s 2ms/step - loss: 0.4401 - accuracy: 0.8721 - val_loss: 0.2708 - val_accuracy: 0.9211\n",
            "Epoch 5/20\n",
            "5625/5625 [==============================] - 10s 2ms/step - loss: 0.4327 - accuracy: 0.8750 - val_loss: 0.2808 - val_accuracy: 0.9179\n",
            "Epoch 6/20\n",
            "5625/5625 [==============================] - 10s 2ms/step - loss: 0.4216 - accuracy: 0.8783 - val_loss: 0.2629 - val_accuracy: 0.9213\n",
            "Epoch 7/20\n",
            "5625/5625 [==============================] - 10s 2ms/step - loss: 0.4137 - accuracy: 0.8794 - val_loss: 0.2621 - val_accuracy: 0.9229\n",
            "Epoch 8/20\n",
            "5625/5625 [==============================] - 10s 2ms/step - loss: 0.4048 - accuracy: 0.8831 - val_loss: 0.2641 - val_accuracy: 0.9240\n",
            "Epoch 9/20\n",
            "5625/5625 [==============================] - 10s 2ms/step - loss: 0.3968 - accuracy: 0.8855 - val_loss: 0.2553 - val_accuracy: 0.9258\n",
            "Epoch 10/20\n",
            "5625/5625 [==============================] - 11s 2ms/step - loss: 0.3955 - accuracy: 0.8842 - val_loss: 0.2659 - val_accuracy: 0.9214\n",
            "Epoch 11/20\n",
            "5625/5625 [==============================] - 11s 2ms/step - loss: 0.3877 - accuracy: 0.8877 - val_loss: 0.2574 - val_accuracy: 0.9239\n",
            "Epoch 12/20\n",
            "5625/5625 [==============================] - 10s 2ms/step - loss: 0.3822 - accuracy: 0.8893 - val_loss: 0.2442 - val_accuracy: 0.9266\n",
            "Epoch 13/20\n",
            "5625/5625 [==============================] - 11s 2ms/step - loss: 0.3757 - accuracy: 0.8893 - val_loss: 0.2516 - val_accuracy: 0.9230\n",
            "Epoch 14/20\n",
            "5625/5625 [==============================] - 10s 2ms/step - loss: 0.3652 - accuracy: 0.8932 - val_loss: 0.2414 - val_accuracy: 0.9268\n",
            "Epoch 15/20\n",
            "5625/5625 [==============================] - 10s 2ms/step - loss: 0.3653 - accuracy: 0.8936 - val_loss: 0.2377 - val_accuracy: 0.9270\n",
            "Epoch 16/20\n",
            "5625/5625 [==============================] - 10s 2ms/step - loss: 0.3675 - accuracy: 0.8923 - val_loss: 0.2290 - val_accuracy: 0.9312\n",
            "Epoch 17/20\n",
            "5625/5625 [==============================] - 10s 2ms/step - loss: 0.3570 - accuracy: 0.8956 - val_loss: 0.2289 - val_accuracy: 0.9315\n",
            "Epoch 18/20\n",
            "5625/5625 [==============================] - 10s 2ms/step - loss: 0.3608 - accuracy: 0.8942 - val_loss: 0.2275 - val_accuracy: 0.9311\n",
            "Epoch 19/20\n",
            "5625/5625 [==============================] - 10s 2ms/step - loss: 0.3505 - accuracy: 0.8964 - val_loss: 0.2282 - val_accuracy: 0.9309\n",
            "Epoch 20/20\n",
            "5625/5625 [==============================] - 10s 2ms/step - loss: 0.3516 - accuracy: 0.8966 - val_loss: 0.2237 - val_accuracy: 0.9312\n"
          ],
          "name": "stdout"
        },
        {
          "output_type": "display_data",
          "data": {
            "image/png": "[encoded data removed]",
            "text/plain": [
              "<Figure size 432x288 with 1 Axes>"
            ]
          },
          "metadata": {
            "tags": [],
            "needs_background": "light"
          }
        },
        {
          "output_type": "display_data",
          "data": {
            "image/png": "[encoded data removed]",
            "text/plain": [
              "<Figure size 432x288 with 1 Axes>"
            ]
          },
          "metadata": {
            "tags": [],
            "needs_background": "light"
          }
        }
      ]
    },
    {
      "cell_type": "markdown",
      "metadata": {
        "id": "Zm_xVOZ2_jQ9"
      },
      "source": [
        "The validation accuracy may be roughly the same but it was overfitting before and now the validation accuracy is much better than the training accuracy.\r\n",
        "\r\n",
        "**However we do not want the validation accuracy to be much higher than the training accuracy as it is in the case above as this means that the validation set consists of easier examples than the training set.**\r\n"
      ]
    },
    {
      "cell_type": "markdown",
      "metadata": {
        "id": "POzu6pzf-O38"
      },
      "source": [
        "## Investigate the Keras `ImageDataGenerator` and see what other augmentation you could apply"
      ]
    }
  ]
}
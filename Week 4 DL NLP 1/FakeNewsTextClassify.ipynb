{
  "nbformat": 4,
  "nbformat_minor": 0,
  "metadata": {
    "colab": {
      "name": "FakeNewsTextClassify.ipynb",
      "provenance": [],
      "collapsed_sections": [],
      "toc_visible": true,
      "mount_file_id": "1kIdSex4NQWhSQVacQPjLOxr4H1SACsEc",
      "authorship_tag": "ABX9TyPoMrvXqEHp5b3Nyv88dFsg",
      "include_colab_link": true
    },
    "kernelspec": {
      "name": "python3",
      "display_name": "Python 3"
    },
    "accelerator": "GPU"
  },
  "cells": [
    {
      "cell_type": "markdown",
      "metadata": {
        "id": "view-in-github",
        "colab_type": "text"
      },
      "source": [
        "<a href=\"https://colab.research.google.com/github/chambai/Deep_Learning_Course/blob/main/Week%204%20DL%20NLP%201/FakeNewsTextClassify.ipynb\" target=\"_parent\"><img src=\"https://colab.research.google.com/assets/colab-badge.svg\" alt=\"Open In Colab\"/></a>"
      ]
    },
    {
      "cell_type": "markdown",
      "metadata": {
        "id": "RZAcMVGw9zcp"
      },
      "source": [
        "#Fake News Text Classification\r\n",
        "Adapted from https://towardsdatascience.com/detecting-fake-news-with-deep-learning-7505874d6ac5\r\n",
        "\r\n"
      ]
    },
    {
      "cell_type": "markdown",
      "metadata": {
        "id": "PezphFNMBUbX"
      },
      "source": [
        "There a 2 datasets: Fake and Real.  They originally came from Kaggle: https://towardsdatascience.com/detecting-fake-news-with-deep-learning-7505874d6ac5 but they are also in the GitHub page.  Download the data from the github page, folder: \r\n",
        "\r\n",
        "**Week 4 Deep NLP 1/data/FakeNews**\r\n",
        "\r\n",
        "Files:  **True.csv** and **Fake.csv**\r\n",
        "\r\n",
        "and upload to your Google drive amd mount the drive in this colab notebook\r\n",
        "\r\n"
      ]
    },
    {
      "cell_type": "markdown",
      "metadata": {
        "id": "898YsZj2_RqQ"
      },
      "source": [
        "Edit the code below to specify where the data is in your Google drive"
      ]
    },
    {
      "cell_type": "code",
      "metadata": {
        "id": "-sEMWwQDm474"
      },
      "source": [
        "# load the data into a Pandas dataframe for exploration\n",
        "import pandas as pd\n",
        "real = pd.read_csv('/content/drive/MyDrive/Colab Notebooks/Deep Learning Course CMP7225 2021/Week 4 DL NLP 1/data/FakeNews/True.csv')\n",
        "fake = pd.read_csv('/content/drive/MyDrive/Colab Notebooks/Deep Learning Course CMP7225 2021/Week 4 DL NLP 1/data/FakeNews/Fake.csv')"
      ],
      "execution_count": null,
      "outputs": []
    },
    {
      "cell_type": "markdown",
      "metadata": {
        "id": "K4V6pMSA-Uov"
      },
      "source": [
        "Load the python modules"
      ]
    },
    {
      "cell_type": "code",
      "metadata": {
        "id": "n0xY2kBJmznZ"
      },
      "source": [
        "# Load the modules\n",
        "import re   # regular expressions modlue (string matching)\n",
        "import matplotlib.pyplot as plt\n",
        "from sklearn.model_selection import train_test_split\n",
        "from sklearn.preprocessing import LabelEncoder\n",
        "from tensorflow.keras.models import Model\n",
        "from tensorflow.keras.models import Sequential\n",
        "from tensorflow.keras.layers import LSTM, Activation, Dense, Dropout, Input, Embedding\n",
        "from tensorflow.keras.optimizers import RMSprop\n",
        "from tensorflow.keras.preprocessing.text import Tokenizer\n",
        "from tensorflow.keras.preprocessing import sequence\n",
        "from tensorflow.keras.callbacks import EarlyStopping\n",
        "from tensorflow.keras.preprocessing.sequence import pad_sequences"
      ],
      "execution_count": null,
      "outputs": []
    },
    {
      "cell_type": "code",
      "metadata": {
        "id": "hPnPUckIC8-m"
      },
      "source": [
        "# explore the real data\r\n",
        "real.head()\r\n",
        "\r\n",
        "# almost all of the real news has the word \"Reuters\" in the text"
      ],
      "execution_count": null,
      "outputs": []
    },
    {
      "cell_type": "code",
      "metadata": {
        "id": "CShL7ilBCysb"
      },
      "source": [
        "# explore the fake data\r\n",
        "fake.head()"
      ],
      "execution_count": null,
      "outputs": []
    },
    {
      "cell_type": "markdown",
      "metadata": {
        "id": "QtgzHOJhBiLb"
      },
      "source": [
        "The following cells clean the data by removing twitter urls, adding the lables of Fake and Real to the data (this code is specific to this dataset only)."
      ]
    },
    {
      "cell_type": "code",
      "metadata": {
        "id": "uS9_uaVvoEil"
      },
      "source": [
        "# clean up the data.  Remove rows that have url's or where the 'text' field is empty\n",
        "# some rows have url's in, remove these\n",
        "# dropping rows that have urls as text and date, real's dates look fine, also dropping ones that have no text\n",
        "fake_drop = fake.drop(index=[9358,15507,15508,18933])\n",
        "\n",
        "fake_drop = fake_drop.drop(fake_drop.loc[fake_drop.text == ' '].index)\n",
        "real_drop = real.drop(real.loc[real.text == ' '].index)"
      ],
      "execution_count": null,
      "outputs": []
    },
    {
      "cell_type": "markdown",
      "metadata": {
        "id": "kqayU5XzDmBj"
      },
      "source": [
        "Label the data and combine into one dataset for training, then split this training set into a training dataset and a test dataset"
      ]
    },
    {
      "cell_type": "code",
      "metadata": {
        "id": "7OjKHOgsoNwh"
      },
      "source": [
        "# Give labels to data before combining\n",
        "fake_drop['fake'] = 1\n",
        "real['fake'] = 0\n",
        "\n",
        "combined = pd.concat([fake_drop, real])\n",
        "\n",
        "## train/test split the text data and labels\n",
        "features = combined['text']\n",
        "labels = combined['fake']\n",
        "#x_train, x_test, y_train, y_test = train_test_split(features, labels, random_state = 42)\n",
        "x_train, x_test, y_train, y_test = train_test_split(features, labels)"
      ],
      "execution_count": null,
      "outputs": []
    },
    {
      "cell_type": "markdown",
      "metadata": {
        "id": "J6BTg6ciD3k8"
      },
      "source": [
        "Process the text data with the Tokenizer object from Keras.\r\n",
        "\r\n",
        "Stop words will not be removed.  Stop words are words like \"a\", \"and\", \"but\", \"how\", \"or\", \"what\"...\r\n",
        "\r\n",
        "These words shoud be removed if they don't add any new information to the problem.  Classification problems usually don't need stop words as you can get the general idea of the text even if you remove these words.\r\n",
        "\r\n",
        "However stop words will not be removed from this dataset as they can help in identifying the real news from the fake news as there is an underlying difference in the writing quality of the fake and real news which the stop words can help identify."
      ]
    },
    {
      "cell_type": "code",
      "metadata": {
        "id": "mJrJDI7eoYzc"
      },
      "source": [
        "## not removing stop words to maintain word context\n",
        "max_words = 2000    # the maximum number of words to keep, based on word frequency (size of the vocabulary)\n",
        "max_len = 400       # averge number of words in the 'text' field\n",
        "\n",
        "token = Tokenizer(num_words=max_words, lower=True, split=' ')\n",
        "# creates a vocabulary index based on word frequency\n",
        "# every unique word gets assigned an integer value (0 is reserved for padding). \n",
        "# The lower the integer the more frequent the wordword \n",
        "# (often the first few are stop words because they appear a lot)\n",
        "token.fit_on_texts(x_train.values)\n",
        "\n",
        "# form the tokens into sequences (a list of integers)\n",
        "# takes each word in the text and replaces it with its corresponding integer value from the previous step\n",
        "sequences = token.texts_to_sequences(x_train.values)\n",
        "\n",
        "# pad the sequences - forms the list of sequences into a 2D numpy array of the same length\n",
        "train_sequences_padded = pad_sequences(sequences, maxlen=max_len)"
      ],
      "execution_count": null,
      "outputs": []
    },
    {
      "cell_type": "markdown",
      "metadata": {
        "id": "1BaDuf1G17Q0"
      },
      "source": [
        "Embedding layer:"
      ]
    },
    {
      "cell_type": "markdown",
      "metadata": {
        "id": "w706ha511zB7"
      },
      "source": [
        "![image.png](data:image/png;base64,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)"
      ]
    },
    {
      "cell_type": "code",
      "metadata": {
        "id": "07-9_mNnoi4n"
      },
      "source": [
        "# create the model\n",
        "model = Sequential()\n",
        "model.add(Embedding(input_dim=max_words, output_dim=50, input_length=max_len))\n",
        "model.add(LSTM(64))\n",
        "model.add(Dense(256, activation='relu'))\n",
        "model.add(Dropout(0.5))\n",
        "model.add(Dense(1, activation='sigmoid'))\n",
        "print(model.summary())"
      ],
      "execution_count": null,
      "outputs": []
    },
    {
      "cell_type": "code",
      "metadata": {
        "id": "p3-CxKGD4qKa"
      },
      "source": [
        "# compile the model\r\n",
        "model.compile(loss = 'binary_crossentropy', optimizer='adam',metrics = ['accuracy'])\r\n",
        "# fit the model\r\n",
        "history = model.fit(train_sequences_padded, y_train, batch_size=32, epochs = 20, validation_split=0.2)"
      ],
      "execution_count": null,
      "outputs": []
    },
    {
      "cell_type": "code",
      "metadata": {
        "id": "BIdMTgDNudov"
      },
      "source": [
        "# in the fit method, we set validation_split to use 20% of the training data for the validation\n",
        "# now we are going to see how our test data performs on the trained network\n",
        "# to do this we need to create sequences from the test data (ths same way as we did for the training data)\n",
        "test_sequences = token.texts_to_sequences(x_test)\n",
        "test_sequences_padded = pad_sequences(test_sequences, maxlen=max_len)"
      ],
      "execution_count": null,
      "outputs": []
    },
    {
      "cell_type": "code",
      "metadata": {
        "id": "0Jt2P3Gn471j"
      },
      "source": [
        "# we can use the evaluate function on the model and pass in the test sequence data to get a value \r\n",
        "# for the loss and accuracy of the network\r\n",
        "model.evaluate(test_sequences_padded, y_test)"
      ],
      "execution_count": null,
      "outputs": []
    },
    {
      "cell_type": "code",
      "metadata": {
        "id": "5-mybg2aK176"
      },
      "source": [
        "# summarize the history for accuracy\r\n",
        "import matplotlib.pyplot as plt\r\n",
        "plt.plot(history.history['accuracy'])\r\n",
        "plt.plot(history.history['val_accuracy'])\r\n",
        "plt.title('model accuracy')\r\n",
        "plt.ylabel('accuracy')\r\n",
        "plt.xlabel('epoch')\r\n",
        "plt.legend(['train','validation'], loc='upper left')\r\n",
        "#plt.axis([None, None,0,1])\r\n",
        "plt.show()\r\n",
        "\r\n",
        "# summarize the history for loss\r\n",
        "plt.plot(history.history['loss'])\r\n",
        "plt.plot(history.history['val_loss'])\r\n",
        "plt.title('model loss')\r\n",
        "plt.ylabel('loss')\r\n",
        "plt.xlabel('epoch')\r\n",
        "#plt.axis([None, None,0,1])\r\n",
        "plt.legend(['train','validation'], loc='upper left')\r\n",
        "plt.show()\r\n"
      ],
      "execution_count": null,
      "outputs": []
    },
    {
      "cell_type": "markdown",
      "metadata": {
        "id": "GlOLUzjk6tHg"
      },
      "source": [
        "The accuracy is in the high 90's which is really good.\n",
        "\n",
        "But remember, most of the data labeled as Real news stories has the word \"Reuters\" in it.\n",
        "\n",
        "Let's remove the word \"Reuters\" from the data and see how it does\n",
        "\n",
        "\n",
        "\n"
      ]
    },
    {
      "cell_type": "code",
      "metadata": {
        "id": "D-sVZBS262jw"
      },
      "source": [
        "# remove the word reuters from the data\n",
        "no_reuters = combined.copy()\n",
        "no_reuters.text = no_reuters.text.str.replace('Reuters', '')\n"
      ],
      "execution_count": null,
      "outputs": []
    },
    {
      "cell_type": "code",
      "metadata": {
        "id": "rY87oy2h_MQf"
      },
      "source": [
        "# split this data into train and test sets\r\n",
        "x_train_nr, x_test_nr, y_train_nr, y_test_nr = train_test_split(no_reuters['text'], no_reuters['fake'])"
      ],
      "execution_count": null,
      "outputs": []
    },
    {
      "cell_type": "markdown",
      "metadata": {
        "id": "eDB_-julNbDm"
      },
      "source": [
        "##**Exercise:** Re-create the model without the word 'Reuters' in it\r\n",
        "The word \"Reuters\" has now been removed from the text and stored in x_train_nr etc...  Create the sequences of text, the network, fit the model and plot the accruacy/loss.  Store the model in a different variable to the one above so that both models can be used in the next exercise. How does it compare to the accuracy above (with the word \"Reuters\" in the data)?"
      ]
    },
    {
      "cell_type": "code",
      "metadata": {
        "id": "1qtVH3EW6_HX"
      },
      "source": [
        "# your code here"
      ],
      "execution_count": null,
      "outputs": []
    },
    {
      "cell_type": "markdown",
      "metadata": {
        "id": "Y2aEIGeLPZCY"
      },
      "source": [
        "## **Exercise:** Predict whether the following stories are fake or real, using the original model with 'Reuters' in the text and the second model without 'Reuters' in the text. \r\n",
        "\r\n",
        "\r\n",
        "\r\n"
      ]
    },
    {
      "cell_type": "code",
      "metadata": {
        "id": "BkFARkjxCK-R"
      },
      "source": [
        "newsstory1 = [\"\"\"Democratic freshman Rep. Ilhan Omar (D., Minn.) has been holding a series of secret fundraisers with groups that have been tied to the support of terrorism, appearances that have been closed to the press and hidden from public view.\n",
        "\n",
        "The content of these speeches, given to predominately Muslim audiences, remains unknown, prompting some of Omar's critics to express concern about the type of rhetoric she is using before these paying audiences, particularly in light of the lawmaker's repeated use of anti-Semitic tropes in public.\n",
        "\n",
        "Omar recently spoke in Florida at a private event hosted by Islamic Relief, a charity organization long said to have deep ties to groups that advocate terrorism against Israel. Over the weekend, she will appear at another private event in California that is hosted by CAIR-CA PAC, a political action committee affiliated with the Council on American Islamic Relations, or CAIR a group that was named as an unindicted co-conspirator in a massive terror-funding incident.\n",
        "\n",
        "Omar's appearance at these closed-door forums is raising eyebrows in the pro-Israel world due to her repeated and unapologetic public use of anti-Semitic stereotypes accusing Jewish people of controlling foreign policy and politics. With Omar's popularity skyrocketing on the anti-Israel left, it appears her rhetoric is translating into fundraising prowess.\n",
        "\n",
        "It remains unclear what Omar has told these audiences in her private talks. Washington Free Beacon attempts to obtain video of past events were unsuccessful, and multiple local news and television outlets in the Tampa, Fla., area, where Omar spoke to Islamic Relief last month, confirmed they were unable to gain access to the closed door event.\n",
        "\n",
        "Islamic Relief has come under congressional investigation for what lawmakers have described as its efforts to provide assistance to terrorist group such as Hamas and the Muslim Brotherhood. The charity has been banned by some countries as a result of these ties.\n",
        "\n",
        "In 2017, Congress sought to ban taxpayer funds from reaching the charity due to these terror links.\n",
        "\n",
        "A representative from Islamic Relief declined to provide the Free Beacon with any material related to Omar's appearance.\n",
        "\n",
        "\"The event was closed to the media. No materials are available,\" the official said.\n",
        "\n",
        "On Sunday, Omar will hold another meet and greet in Irvine, Calif., for CAIR-CA PAC. Those wishing to hear Omar speak are being asked to donate anywhere from $50 to $250 dollars, according to a flyer for the event.\n",
        "\n",
        "The CAIR event also appears closed to the press. Free Beacon attempts to contact the organizer and obtain access were unsuccessful. Requests for comment on the nature of the speeches sent to Omar's congressional office also were not returned.\n",
        "\n",
        "CAIR, a Muslim advocacy group known for its anti-Israel positions, was named by the U.S. government as part of a large network of groups known to be supporting Hamas.\n",
        "\n",
        "CAIR has been cited by the Anti-Defamation League, or ADL, for using its network of supporters to promote an \"anti-Israel agenda.\"\n",
        "\n",
        "\"CAIR’s anti-Israel agenda dates back to its founding by leaders of the Islamic Association for Palestine (IAP), a Hamas affiliated anti-Semitic propaganda organization,\" according to the ADL. \"While CAIR has denounced specific acts of terrorism in the U.S. and abroad, for many years it refused to unequivocally condemn Palestinian terror organizations and Hezbollah by name, which the U.S. and international community have condemned and isolated.\"\n",
        "\n",
        "Sarah Stern, founder of president of the Endowment for Middle East Truth, or EMET, a pro-Israel group that has condemned Omar for promoting anti-Semitic conspiracy theories, told the Free Beacon that the private nature of these events before controversial Islamic groups is very concerning.\n",
        "\n",
        "\"I just wonder what is Rep. Omar saying to a group of Islamic supporters that she feels is so secretive that she cannot say it to the American people, as a whole?\" Stern wondered. \"What is so secretive that it has to be off the record and closed to reporters? Will she say the same things in public to her Jewish voters in Minnesota that she says to her Islamic friends? What does this tell us about her openness, her honesty and her integrity?\"\n",
        "\n",
        "One veteran Republican political operative expressed concern about the secretive nature of these talks, telling the Free Beacon that Democrats must hide behind-closed-doors to appease these groups with anti-Israel rhetoric.\n",
        "\n",
        "\"Of course she's holding these meetings in secret. That's just how Democrats roll these days,\" the source said. \"They're for limiting your ability to spend money on the candidates you want to support, and for secretly fundraising from Islamist groups who support them. It really puts their support for campaign finance reform into perspective.\"\n",
        "\n",
        "After last month's Islamic Relief event, Stern's EMET and many other pro-Israel groups penned a letter to Democratic leaders in the House demanding Omar's removal from the powerful House Foreign Affairs Committee. These groups argued that Omar's anti-Semitic rhetoric and secretive meetings should disqualify her from a seat on that committee, which oversees the U.S.-Israel military alliance.\n",
        "\n",
        "\"Rep. Omar's presence as a keynote speaker to raise funds for Islamic Relief USA, whose parent organization and chapters have documented ties to terrorist organizations, demonstrates that she has learned next to nothing over the last few weeks when she was reprimanded by your office and by other Democrats for posting ugly, anti-Semitic attacks on Jews and their organizations,\" the pro-Israel groups wrote in a letter send to House Foreign Affairs Committee chair Elliott Engel (D., N.Y.) and House Speaker Nancy Pelosi (D., Calif.).\"\"\"]"
      ],
      "execution_count": null,
      "outputs": []
    },
    {
      "cell_type": "code",
      "metadata": {
        "id": "YiSZ1JI51smO"
      },
      "source": [
        "# code here to predict whether newsstory1 is fake or real"
      ],
      "execution_count": null,
      "outputs": []
    },
    {
      "cell_type": "code",
      "metadata": {
        "id": "xU3eZbn62mC_"
      },
      "source": [
        "newsstory2 = [\"\"\"\n",
        "\n",
        "Most families of enormous wealth have a dark and sometimes scandalous, even monstrous past. Donald Trump's clan is no exception to that rule. His grandfather was a pimp and a tax evader, his father a racist who would in the course of his life, clash with New York City Police as a member of the Ku Klux Klan and then as a wealthy real estate magnate, refuse to rent to people of color.\n",
        "\n",
        "Donald Trump's legacy is anything but a rag to riches story. His dad kicked the bucket with $250-$300 million in the bank. The man who wants to ban all people of a particular religion from travel wasn't born with a silver spoon in his mouth, his was white gold. The only thing more obnoxious than Donald Trump himself, is his family's money-grubbing, bigoted history.\n",
        "\n",
        "\n",
        "Trump's Grandfather: Pimp and Tax Evader\n",
        "\n",
        "Donald Trump's grandfather, Frederick or Friedrich Trump, made his money from operating a decadent restaurant and hotel during the Gold Rush at Klondike in the Yukon.\n",
        "\n",
        "\n",
        "\"Trump made his first fortune operating boom-town hotels, restaurants and brothels\", is more accurate, according to the CBC news report, \"Donald Trump's grandfather ran Canadian brothel during gold rush, author says\". Author Gwenda Blair simply wrote, \"The bulk of the cash flow came from the sale of liquor and sex.\"\n",
        "\n",
        "Trump's grandfather was born in Germany, to parents who were employed by a vineyard. He moved to New York City in 1885 where he became a barber. After six years of this, Frederick Trump moved across the United States to Seattle, Washington, where he owned and operated what he referred to as a \"decadent restaurant\" that was actually called \"Poodle Dog\" in Seattle's red light district. Interestingly, the name and concept that had already been established in San Francisco. (He named his restaurant after a dog but would later make money selling horse meat) Around this time Frederick Trump became a US citizen.\n",
        "\n",
        "A Yukon Sun Newspaper writer described his business: \"For single men the Arctic has excellent accommodations as well as the best restaurant in Bennett, but I would not advise respectable women to go there to sleep as they are liable to hear that which would be repugnant to their feelings – and uttered, too, by the depraved of their own sex\".\n",
        "\n",
        "Trump moved to Monte Cristo, Wash. in 1894, and then four years later, shortly after the Klondike gold rush began, he relocated again to Bennett, British Columbia.  Here he ran the \"Arctic Restaurant and Hotel\".  He would next build the \"White Horse restaurant and Inn\" in Whitehorse, Yukon.\n",
        "\n",
        "An article published this year by Politico, explains that Frederick Trump sold off his investments and returned to Germany in 1901, as he sensed the end of the gold rush and a subsequent end to prostitution.  The following year, he married his former neighbor, Elizabeth Christ in his native German town of Kallstadt.  Then he came under heavy scrutiny by the German government,\n",
        "\n",
        "The country had compulsory military service for men which had to be fulfilled by the age of 35.  Donald Trump's grandfather waited until he was 35 to go back to Germany.  He had already amassed great wealth worth well more than half a million US dollars, or 80,000 marks.  While his town council was eager to keep Trump and his money, who billed himself as a man who \"avoided bars\" and led \"a quiet life\", other German authorities had a different plan, the Politico article explains.  In their view, Trump had relocated to Germany in order to avoid both tax and military-service obligations.\n",
        "\n",
        "\"...the regional authorities refused to let Trump off the hook. Unlike his grandson, who would become too big to fail in business and, more recently, to ignore in politics, Friedrich Trump was not big enough to get away with being a draft-dodger. He and his wife, then pregnant with Fred, Donald’s father, would not be allowed to resume their German citizenship and it would not be extended to their daughter; instead, they were deported—the same fate that Donald would like to impose on undocumented immigrants in the U.S. today.\"  \n",
        "\n",
        "The fact that Donald Trump has done so well in the Republican polls is quite amazing, as the party that we think of as conservative, would be expected to shun a man who created exploitative beauty pageants and was born rich strictly because of the nefarious activities of his ancestors.  \n",
        "\n",
        "Trump's Father: a Lifetime of Racist Practices\n",
        "\n",
        "Donald Trump has often said he made his money \"the old-fashioned way,\" and this is true, in that he prospered from racism.\n",
        "\n",
        "\n",
        "A New York Times article published 01 June 1927, related Donald Trump's father Fred Trump's role in a Ku Klux Klan brawl that pitted 1,000 klansmen against 100 New York City Police in Queens.  Though he wasn't officially charged, Fred Trump was one of seven klansmen arrested during the incident.  It probably wasn't very shocking at the time as America's racist practices were in full swing generations after Abe Lincoln freed the country's African-American slaves.  In fact, the mid-20's saw a peak in KKK activity.  Donald Trump would later deny his father's involvement in the KKK brawl in spite of the fact that it happened two decades before he was born.  Fred Trump's enthusiasm for racist practices never changed until he was forced to do so by the law.\n",
        "\n",
        "Presidential Candidate Donald Trump joined his father's real estate company in New York in 1971, and only two years later, the company was served with a civil rights lawsuit that was filed against the Trump organization because it refused to rent to Black people.  The Urban League got wind of the racist rental policy and actually sent both Black and White people in to apply for apartments that belonged to complexes owned by the Trumps.  What they proved, was that Black people were denied rentals across the board, and only Whites were approved.  A Village Voice article by Wayne Barrett, published in 1979, blew the lid off the Trump organization's brewing pot of racist practices.\n",
        "\n",
        "\"Three doormen were told to discourage blacks who came seeking apartments when the manager was out, either by claiming no vacancies or hiking up the rents. A super said he was instructed to send black applicants to the central office but to accept white applications on site. Another rental agent said that Fred Trump had instructed him not to rent to blacks. Further, the agent said Trump wanted 'to decrease the number of black tenants' already in the development 'by encouraging them to locate housing elsewhere.'\"\n",
        "\n",
        "The article explains that Trump's reaction was to claim that the suit was a \"nationwide drive to force owners of moderate and luxury apartments to rent to welfare recipients.\"\n",
        "\n",
        "\"'We are not going to be forced by anyone to put people...in our buildings to the detriment of tenants who have, for many years, lived in these buildings, raised families in them, and who plan to continue to live there. That would be reverse discrimination,' he said. 'The government is not going to experiment with our buildings to the detriment of ourselves and the thousands who live in them now.'\"   \n",
        "\n",
        "Indeed, Trump's wild, largely uninformed and unintelligent rants are the legacy of men who walked over the backs of other Americans to gain and secure their wealth.  This may be symbolic of the American capitalist way, but it falls short of any form of greatness or real human success.  As they say, the apple doesn't fall far from the tree.\n",
        "\n",
        "\n",
        "\"\"\"]"
      ],
      "execution_count": null,
      "outputs": []
    },
    {
      "cell_type": "code",
      "metadata": {
        "id": "fbJvAbz_4r0b"
      },
      "source": [
        "# code here to predict whether newsstory2 is fake or real"
      ],
      "execution_count": null,
      "outputs": []
    },
    {
      "cell_type": "markdown",
      "metadata": {
        "id": "NmA9ggylS8uC"
      },
      "source": [
        "If the model correctly predicted it, the prediction should have been close to one as it is a fake"
      ]
    },
    {
      "cell_type": "code",
      "metadata": {
        "id": "5DCAcdsP41Rs"
      },
      "source": [
        "newsstory3 = [\"\"\"\n",
        "President Donald Trump said Sunday he would extend nationwide social distancing guidelines for another 30 days, an abrupt back-down from his push to reopen the country as coronavirus continues to spread.\n",
        "\n",
        "The 15-day guidelines Trump announced two weeks ago were set to expire on Monday, and the President had suggested over the past week that he was looking to relax them, at least in some parts of the country. He even floated Easter, on April 12, as a potential date by which the country could return to normal.\n",
        "But on Sunday he said he'd decided to extend the guidelines -- which include suggested limits on large gatherings -- to April 30, a sign his earlier predictions were overly rosy.\n",
        "\"The better you do, the faster this whole nightmare will end,\" the President said Sunday at a White House news conference. He said he would be finalizing a new plan and strategy early this week and announcing the details on Tuesday.\n",
        "The announcement marked an abrupt turnaround from a week ago when Trump said he was convinced the distancing restrictions were causing irreparable damage to the economy.\n",
        "Even as his health advisers warned of dire consequences if Americans were allowed to return to large gatherings or crowded workplaces, Trump appeared intent on allowing a return to normal life.\n",
        "On Sunday, however, Trump seemed to acknowledge that the spread of the virus had not slowed, at least not yet. He said that modeling shows that the peak of the death rate will likely hit in two weeks, but stressed that he hopes the country will be on its way to recovery by June 1.\n",
        "\"We can expect that by June 1st, we will be well on our way to recovery, we think by June 1st. A lot of great things will be happening,\" he said.\n",
        "Trump reiterated his intent to return life to normal.\n",
        "\"I want our life back again,\" he said.\n",
        "The White House's social distancing guidance advises all Americans to avoid groups of more than 10 and urges older people to stay at home.\n",
        "Over the past week, various options had been discussed among Trump's advisers on possible alternatives -- including allowing some states to return to normal more quickly -- to the current guidelines.\n",
        "But persistent problems in testing have prevented the full picture of the virus's spread from becoming known, leaving officials without a clear idea of which states were faring better than others.\n",
        "The scale of the outbreak was given stark urgency Sunday by Dr. Anthony Fauci, the top infectious disease specialist, who predicted on CNN that more than 100,000 Americans could eventually die from coronavirus with millions more infected.\n",
        "Trump suggested during his briefing that he didn't believe the larger numbers Fauci had mentioned earlier in the day, and called him to the podium.\n",
        "But Fauci only reiterated the figures he cited earlier.\n",
        "He said it's \"entirely conceivable\" that more than a million people in the US could contract coronavirus, but added that mitigation and extending the distancing guidelines through April will hopefully curb those numbers.\n",
        "Fauci was among the health advisers on Trump's team encouraging a continuation of the current guidelines after Trump heard from business leaders and some conservative allies that the restrictions were more damaging than the virus itself.\n",
        "\n",
        "Over the course of the past week, however, Trump appeared more wary of lifting the guidelines he had announced himself and which had been branded \"President Trump's 15 Days to Slow the Spread.\"\n",
        "He said on Friday that his priority in dealing with the virus was Americans' health, not the economy.\n",
        "And he suggested he was aware that most health professionals would not advise a full-scale return to life as normal.\n",
        "Questioned Sunday about the Easter date he floated earlier in the week, Trump said it was merely \"aspirational.\"\n",
        "\n",
        "\"\"\"]"
      ],
      "execution_count": null,
      "outputs": []
    },
    {
      "cell_type": "code",
      "metadata": {
        "id": "ZoqLabEi5jpy"
      },
      "source": [
        "# code here to predict whether newsstory3 is fake or real"
      ],
      "execution_count": null,
      "outputs": []
    }
  ]
}
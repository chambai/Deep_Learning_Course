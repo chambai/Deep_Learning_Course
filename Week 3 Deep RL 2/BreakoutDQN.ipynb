{
  "nbformat": 4,
  "nbformat_minor": 0,
  "metadata": {
    "colab": {
      "name": "BreakoutDQN.ipynb",
      "provenance": [],
      "collapsed_sections": [],
      "authorship_tag": "ABX9TyNNkbfmy8/EoKDiS3ZJ7NZd",
      "include_colab_link": true
    },
    "kernelspec": {
      "name": "python3",
      "display_name": "Python 3"
    },
    "accelerator": "GPU"
  },
  "cells": [
    {
      "cell_type": "markdown",
      "metadata": {
        "id": "view-in-github",
        "colab_type": "text"
      },
      "source": [
        "<a href=\"https://colab.research.google.com/github/chambai/Deep_Learning_Course/blob/main/Week%203%20Deep%20RL%202/BreakoutDQN.ipynb\" target=\"_parent\"><img src=\"https://colab.research.google.com/assets/colab-badge.svg\" alt=\"Open In Colab\"/></a>"
      ]
    },
    {
      "cell_type": "markdown",
      "metadata": {
        "id": "2xti5MLiJXZ6"
      },
      "source": [
        "# Implementation of Atari Breakout DQN"
      ]
    },
    {
      "cell_type": "code",
      "metadata": {
        "id": "PmnjNA9YLXgA"
      },
      "source": [
        "!pip install stable-baselines"
      ],
      "execution_count": null,
      "outputs": []
    },
    {
      "cell_type": "code",
      "metadata": {
        "id": "OR2RZVupER15"
      },
      "source": [
        "!pip install baselines"
      ],
      "execution_count": null,
      "outputs": []
    },
    {
      "cell_type": "code",
      "metadata": {
        "colab": {
          "base_uri": "https://localhost:8080/"
        },
        "id": "GBh7tXYCKHM_",
        "outputId": "65476366-05a4-41d4-a628-f6c431bbb297"
      },
      "source": [
        "from baselines.common.atari_wrappers import make_atari, wrap_deepmind\r\n",
        "import numpy as np\r\n",
        "import tensorflow as tf\r\n",
        "from tensorflow import keras\r\n",
        "from tensorflow.keras import layers\r\n",
        "\r\n",
        "# Configuration paramaters for the whole setup\r\n",
        "seed = 42\r\n",
        "gamma = 0.99  # Discount factor for past rewards\r\n",
        "epsilon = 1.0  # Epsilon greedy parameter\r\n",
        "epsilon_min = 0.1  # Minimum epsilon greedy parameter\r\n",
        "epsilon_max = 1.0  # Maximum epsilon greedy parameter\r\n",
        "epsilon_interval = (\r\n",
        "    epsilon_max - epsilon_min\r\n",
        ")  # Rate at which to reduce chance of random action being taken\r\n",
        "batch_size = 32  # Size of batch taken from replay buffer\r\n",
        "max_steps_per_episode = 10000\r\n",
        "\r\n",
        "# Use the Baseline Atari environment because of Deepmind helper functions\r\n",
        "env = make_atari(\"BreakoutNoFrameskip-v4\")\r\n",
        "# Warp the frames, grey scale, stake four frame and scale to smaller ratio\r\n",
        "env = wrap_deepmind(env, frame_stack=True, scale=True)\r\n",
        "env.seed(seed)"
      ],
      "execution_count": null,
      "outputs": [
        {
          "output_type": "execute_result",
          "data": {
            "text/plain": [
              "[42, 742738649]"
            ]
          },
          "metadata": {
            "tags": []
          },
          "execution_count": 5
        }
      ]
    },
    {
      "cell_type": "code",
      "metadata": {
        "id": "-9iOVFVuKZzX"
      },
      "source": [
        "num_actions = 4\r\n",
        "\r\n",
        "\r\n",
        "def create_q_model():\r\n",
        "    # Network defined by the Deepmind paper\r\n",
        "    inputs = layers.Input(shape=(84, 84, 4,))\r\n",
        "\r\n",
        "    # Convolutions on the frames on the screen\r\n",
        "    layer1 = layers.Conv2D(32, 8, strides=4, activation=\"relu\")(inputs)\r\n",
        "    layer2 = layers.Conv2D(64, 4, strides=2, activation=\"relu\")(layer1)\r\n",
        "    layer3 = layers.Conv2D(64, 3, strides=1, activation=\"relu\")(layer2)\r\n",
        "\r\n",
        "    layer4 = layers.Flatten()(layer3)\r\n",
        "\r\n",
        "    layer5 = layers.Dense(512, activation=\"relu\")(layer4)\r\n",
        "    action = layers.Dense(num_actions, activation=\"linear\")(layer5)\r\n",
        "\r\n",
        "    return keras.Model(inputs=inputs, outputs=action)\r\n",
        "\r\n",
        "\r\n",
        "# The first model makes the predictions for Q-values which are used to\r\n",
        "# make a action.\r\n",
        "model = create_q_model()\r\n",
        "# Build a target model for the prediction of future rewards.\r\n",
        "# The weights of a target model get updated every 10000 steps thus when the\r\n",
        "# loss between the Q-values is calculated the target Q-value is stable.\r\n",
        "model_target = create_q_model()"
      ],
      "execution_count": null,
      "outputs": []
    },
    {
      "cell_type": "code",
      "metadata": {
        "id": "xExDX-pvKaqm",
        "colab": {
          "base_uri": "https://localhost:8080/"
        },
        "outputId": "62654209-4a29-4b48-df6a-19c9c5ba040d"
      },
      "source": [
        "# In the Deepmind paper they use RMSProp however then Adam optimizer\r\n",
        "# improves training time\r\n",
        "optimizer = keras.optimizers.Adam(learning_rate=0.00025, clipnorm=1.0)\r\n",
        "\r\n",
        "# Experience replay buffers\r\n",
        "action_history = []\r\n",
        "state_history = []\r\n",
        "state_next_history = []\r\n",
        "rewards_history = []\r\n",
        "done_history = []\r\n",
        "episode_reward_history = []\r\n",
        "running_reward = 0\r\n",
        "episode_count = 0\r\n",
        "frame_count = 0\r\n",
        "# Number of frames to take random action and observe output\r\n",
        "epsilon_random_frames = 50000\r\n",
        "# Number of frames for exploration\r\n",
        "epsilon_greedy_frames = 1000000.0\r\n",
        "# Maximum replay length\r\n",
        "# Note: The Deepmind paper suggests 1000000 however this causes memory issues\r\n",
        "max_memory_length = 100000\r\n",
        "# Train the model after 4 actions\r\n",
        "update_after_actions = 4\r\n",
        "# How often to update the target network\r\n",
        "update_target_network = 10000\r\n",
        "# Using huber loss for stability\r\n",
        "loss_function = keras.losses.Huber()\r\n",
        "\r\n",
        "while True:  # Run until solved\r\n",
        "    state = np.array(env.reset())\r\n",
        "    episode_reward = 0\r\n",
        "\r\n",
        "    for timestep in range(1, max_steps_per_episode):\r\n",
        "        # env.render(); Adding this line would show the attempts\r\n",
        "        # of the agent in a pop up window.\r\n",
        "        frame_count += 1\r\n",
        "\r\n",
        "        # Use epsilon-greedy for exploration\r\n",
        "        if frame_count < epsilon_random_frames or epsilon > np.random.rand(1)[0]:\r\n",
        "            # Take random action\r\n",
        "            action = np.random.choice(num_actions)\r\n",
        "        else:\r\n",
        "            # Predict action Q-values\r\n",
        "            # From environment state\r\n",
        "            state_tensor = tf.convert_to_tensor(state)\r\n",
        "            state_tensor = tf.expand_dims(state_tensor, 0)\r\n",
        "            action_probs = model(state_tensor, training=False)\r\n",
        "            # Take best action\r\n",
        "            action = tf.argmax(action_probs[0]).numpy()\r\n",
        "\r\n",
        "        # Decay probability of taking random action\r\n",
        "        epsilon -= epsilon_interval / epsilon_greedy_frames\r\n",
        "        epsilon = max(epsilon, epsilon_min)\r\n",
        "\r\n",
        "        # Apply the sampled action in our environment\r\n",
        "        state_next, reward, done, _ = env.step(action)\r\n",
        "        state_next = np.array(state_next)\r\n",
        "\r\n",
        "        episode_reward += reward\r\n",
        "\r\n",
        "        # Save actions and states in replay buffer\r\n",
        "        action_history.append(action)\r\n",
        "        state_history.append(state)\r\n",
        "        state_next_history.append(state_next)\r\n",
        "        done_history.append(done)\r\n",
        "        rewards_history.append(reward)\r\n",
        "        state = state_next\r\n",
        "\r\n",
        "        # Update every fourth frame and once batch size is over 32\r\n",
        "        if frame_count % update_after_actions == 0 and len(done_history) > batch_size:\r\n",
        "\r\n",
        "            # Get indices of samples for replay buffers\r\n",
        "            indices = np.random.choice(range(len(done_history)), size=batch_size)\r\n",
        "\r\n",
        "            # Using list comprehension to sample from replay buffer\r\n",
        "            state_sample = np.array([state_history[i] for i in indices])\r\n",
        "            state_next_sample = np.array([state_next_history[i] for i in indices])\r\n",
        "            rewards_sample = [rewards_history[i] for i in indices]\r\n",
        "            action_sample = [action_history[i] for i in indices]\r\n",
        "            done_sample = tf.convert_to_tensor(\r\n",
        "                [float(done_history[i]) for i in indices]\r\n",
        "            )\r\n",
        "\r\n",
        "            # Build the updated Q-values for the sampled future states\r\n",
        "            # Use the target model for stability\r\n",
        "            future_rewards = model_target.predict(state_next_sample)\r\n",
        "            # Q value = reward + discount factor * expected future reward\r\n",
        "            updated_q_values = rewards_sample + gamma * tf.reduce_max(\r\n",
        "                future_rewards, axis=1\r\n",
        "            )\r\n",
        "\r\n",
        "            # If final frame set the last value to -1\r\n",
        "            updated_q_values = updated_q_values * (1 - done_sample) - done_sample\r\n",
        "\r\n",
        "            # Create a mask so we only calculate loss on the updated Q-values\r\n",
        "            masks = tf.one_hot(action_sample, num_actions)\r\n",
        "\r\n",
        "            with tf.GradientTape() as tape:\r\n",
        "                # Train the model on the states and updated Q-values\r\n",
        "                q_values = model(state_sample)\r\n",
        "\r\n",
        "                # Apply the masks to the Q-values to get the Q-value for action taken\r\n",
        "                q_action = tf.reduce_sum(tf.multiply(q_values, masks), axis=1)\r\n",
        "                # Calculate loss between new Q-value and old Q-value\r\n",
        "                loss = loss_function(updated_q_values, q_action)\r\n",
        "\r\n",
        "            # Backpropagation\r\n",
        "            grads = tape.gradient(loss, model.trainable_variables)\r\n",
        "            optimizer.apply_gradients(zip(grads, model.trainable_variables))\r\n",
        "\r\n",
        "        if frame_count % update_target_network == 0:\r\n",
        "            # update the the target network with new weights\r\n",
        "            model_target.set_weights(model.get_weights())\r\n",
        "            # Log details\r\n",
        "            template = \"running reward: {:.2f} at episode {}, frame count {}\"\r\n",
        "            print(template.format(running_reward, episode_count, frame_count))\r\n",
        "\r\n",
        "        # Limit the state and reward history\r\n",
        "        if len(rewards_history) > max_memory_length:\r\n",
        "            del rewards_history[:1]\r\n",
        "            del state_history[:1]\r\n",
        "            del state_next_history[:1]\r\n",
        "            del action_history[:1]\r\n",
        "            del done_history[:1]\r\n",
        "\r\n",
        "        if done:\r\n",
        "            break\r\n",
        "\r\n",
        "    # Update running reward to check condition for solving\r\n",
        "    episode_reward_history.append(episode_reward)\r\n",
        "    if len(episode_reward_history) > 100:\r\n",
        "        del episode_reward_history[:1]\r\n",
        "    running_reward = np.mean(episode_reward_history)\r\n",
        "\r\n",
        "    episode_count += 1\r\n",
        "\r\n",
        "    if running_reward > 40:  # Condition to consider the task solved\r\n",
        "        print(\"Solved at episode {}!\".format(episode_count))\r\n",
        "        break"
      ],
      "execution_count": null,
      "outputs": [
        {
          "output_type": "stream",
          "text": [
            "running reward: 0.31 at episode 301, frame count 10000\n",
            "running reward: 0.22 at episode 595, frame count 20000\n",
            "running reward: 0.27 at episode 905, frame count 30000\n",
            "running reward: 0.35 at episode 1192, frame count 40000\n",
            "running reward: 0.24 at episode 1495, frame count 50000\n",
            "running reward: 0.27 at episode 1789, frame count 60000\n",
            "running reward: 0.35 at episode 2082, frame count 70000\n"
          ],
          "name": "stdout"
        }
      ]
    }
  ]
}
{
  "nbformat": 4,
  "nbformat_minor": 0,
  "metadata": {
    "colab": {
      "name": "PredictionChallenge3.ipynb",
      "provenance": [],
      "collapsed_sections": [],
      "authorship_tag": "ABX9TyMLyW63iWQSWytD9byMFpsf",
      "include_colab_link": true
    },
    "kernelspec": {
      "name": "python3",
      "display_name": "Python 3"
    }
  },
  "cells": [
    {
      "cell_type": "markdown",
      "metadata": {
        "id": "view-in-github",
        "colab_type": "text"
      },
      "source": [
        "<a href=\"https://colab.research.google.com/github/chambai/Deep_Learning_Course/blob/main/Week%203%20Deep%20RL%202/PredictionChallenge3.ipynb\" target=\"_parent\"><img src=\"https://colab.research.google.com/assets/colab-badge.svg\" alt=\"Open In Colab\"/></a>"
      ]
    },
    {
      "cell_type": "markdown",
      "metadata": {
        "id": "VKK5DA390wRe"
      },
      "source": [
        "# Skeleton Code for Prediction Challenge 3\r\n",
        "Below is partial code to get you started on prediction challenge 3. You need to select values for the parameters that have question marks."
      ]
    },
    {
      "cell_type": "code",
      "metadata": {
        "id": "R8ZiiRbxlH2D"
      },
      "source": [
        "memory = SequentialMemory(limit=???, window_length=1)\r\n",
        "\r\n",
        "policy =  LinearAnnealedPolicy(inner_policy=???, \r\n",
        "                               attr='???',            \r\n",
        "                               value_max=???,\r\n",
        "                               value_min=???, \r\n",
        "                               value_test=.05,\r\n",
        "                               nb_steps=???)\r\n",
        "\r\n",
        "# define the agent\r\n",
        "dqn = DQNAgent(model=model, \r\n",
        "               nb_actions=???,\r\n",
        "               memory=memory,\r\n",
        "               nb_steps_warmup=???,\r\n",
        "               target_model_update=???, \r\n",
        "               policy=policy) \r\n",
        "\r\n",
        "dqn.compile(Adam(lr=???), metrics=['mae'])\r\n",
        "\r\n",
        "history = dqn.fit(env, nb_steps=???, visualize=False, verbose=2)\r\n",
        "\r\n",
        "# summarize the history for number  of episode steps\r\n",
        "plt.plot(history.history['nb_episode_steps'])\r\n",
        "plt.ylabel('nb_episode_steps')\r\n",
        "plt.xlabel('episodes')\r\n",
        "plt.show()\r\n",
        "\r\n",
        "dqn.test(env, nb_episodes=20, visualize=False)"
      ],
      "execution_count": null,
      "outputs": []
    }
  ]
}
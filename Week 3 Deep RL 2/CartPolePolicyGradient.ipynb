{
  "nbformat": 4,
  "nbformat_minor": 0,
  "metadata": {
    "colab": {
      "name": "CartPolePolicyGradient.ipynb",
      "provenance": [],
      "collapsed_sections": [],
      "authorship_tag": "ABX9TyNd40/Ow8NeUQx8Dajj8afP",
      "include_colab_link": true
    },
    "kernelspec": {
      "name": "python3",
      "display_name": "Python 3"
    }
  },
  "cells": [
    {
      "cell_type": "markdown",
      "metadata": {
        "id": "view-in-github",
        "colab_type": "text"
      },
      "source": [
        "<a href=\"https://colab.research.google.com/github/chambai/Deep_Learning_Course/blob/main/Week%203%20Deep%20RL%202/CartPolePolicyGradient.ipynb\" target=\"_parent\"><img src=\"https://colab.research.google.com/assets/colab-badge.svg\" alt=\"Open In Colab\"/></a>"
      ]
    },
    {
      "cell_type": "markdown",
      "metadata": {
        "id": "VKK5DA390wRe"
      },
      "source": [
        "Demo of CartPole with the policy-based RL method called Policy Gradient.  This demo is adapted from https://medium.com/swlh/policy-gradient-reinforcement-learning-with-keras-57ca6ed32555\r\n",
        "\r\n",
        "Uses a policy gradient RL algorithm called REINFORCE.\r\n",
        "\r\n",
        "It has been adapted it to use environment CartPole-v0, wheras the link uses CartPole-v1\r\n",
        "\r\n",
        "See link for details on implementation"
      ]
    },
    {
      "cell_type": "code",
      "metadata": {
        "colab": {
          "base_uri": "https://localhost:8080/",
          "height": 473
        },
        "id": "CQjbHRlVzK6m",
        "outputId": "2d0c012c-d45f-4ffc-eb4d-51e139c8863b"
      },
      "source": [
        "!sudo apt-get install -y xvfb ffmpeg\r\n",
        "!pip install 'imageio==2.4.0'\r\n",
        "!pip install pyvirtualdisplay\r\n",
        "\r\n",
        "from __future__ import absolute_import, division, print_function\r\n",
        "\r\n",
        "import base64\r\n",
        "import imageio\r\n",
        "import IPython\r\n",
        "import matplotlib\r\n",
        "import matplotlib.pyplot as plt\r\n",
        "import numpy as np\r\n",
        "import PIL.Image\r\n",
        "import pyvirtualdisplay\r\n",
        "from IPython.display import clear_output\r\n",
        "from time import sleep\r\n",
        "\r\n",
        "# Set up a virtual display for rendering OpenAI gym environments.\r\n",
        "display = pyvirtualdisplay.Display(visible=0, size=(1400, 900)).start()\r\n",
        "\r\n",
        "# import gym and test that the rendering works\r\n",
        "import gym\r\n",
        "# make the cart pole environment\r\n",
        "env = gym.make(\"CartPole-v0\")\r\n",
        "env.reset()\r\n",
        "plt.imshow(env.render(mode='rgb_array'))\r\n"
      ],
      "execution_count": null,
      "outputs": [
        {
          "output_type": "stream",
          "text": [
            "Reading package lists... Done\n",
            "Building dependency tree       \n",
            "Reading state information... Done\n",
            "ffmpeg is already the newest version (7:3.4.8-0ubuntu0.2).\n",
            "xvfb is already the newest version (2:1.19.6-1ubuntu4.8).\n",
            "0 upgraded, 0 newly installed, 0 to remove and 10 not upgraded.\n",
            "Requirement already satisfied: imageio==2.4.0 in /usr/local/lib/python3.6/dist-packages (2.4.0)\n",
            "Requirement already satisfied: numpy in /usr/local/lib/python3.6/dist-packages (from imageio==2.4.0) (1.19.5)\n",
            "Requirement already satisfied: pillow in /usr/local/lib/python3.6/dist-packages (from imageio==2.4.0) (7.0.0)\n",
            "Requirement already satisfied: pyvirtualdisplay in /usr/local/lib/python3.6/dist-packages (2.0)\n",
            "Requirement already satisfied: EasyProcess in /usr/local/lib/python3.6/dist-packages (from pyvirtualdisplay) (0.3)\n"
          ],
          "name": "stdout"
        },
        {
          "output_type": "execute_result",
          "data": {
            "text/plain": [
              "<matplotlib.image.AxesImage at 0x7f1bf9026cf8>"
            ]
          },
          "metadata": {
            "tags": []
          },
          "execution_count": 6
        },
        {
          "output_type": "display_data",
          "data": {
            "image/png": "[encoded data removed]",
            "text/plain": [
              "<Figure size 432x288 with 1 Axes>"
            ]
          },
          "metadata": {
            "tags": [],
            "needs_background": "light"
          }
        }
      ]
    },
    {
      "cell_type": "code",
      "metadata": {
        "id": "gZFK6rqPCJSO"
      },
      "source": [
        "\r\n",
        "import gym\r\n",
        "import numpy as np\r\n",
        "import matplotlib.pyplot as plt\r\n",
        "import seaborn as sns\r\n",
        "\r\n",
        "import tensorflow as tf\r\n",
        "from tensorflow.python.keras.layers import Dense, Dropout\r\n",
        "from tensorflow.python.keras import Sequential\r\n",
        "from tensorflow.keras.optimizers import Adam\r\n",
        "from tensorflow.python.keras.models import load_model"
      ],
      "execution_count": null,
      "outputs": []
    },
    {
      "cell_type": "code",
      "metadata": {
        "id": "0U9OKS2FCMni"
      },
      "source": [
        "import warnings\r\n",
        "warnings.filterwarnings('ignore')\r\n",
        "tf.get_logger().setLevel('ERROR')"
      ],
      "execution_count": null,
      "outputs": []
    },
    {
      "cell_type": "code",
      "metadata": {
        "colab": {
          "base_uri": "https://localhost:8080/"
        },
        "id": "LDAlo2ZxCO3W",
        "outputId": "e160f427-2c49-4fa0-a7f2-59c919704a9b"
      },
      "source": [
        "\r\n",
        "## Config ##\r\n",
        "ENV=\"CartPole-v0\"\r\n",
        "RANDOM_SEED=1\r\n",
        "N_EPISODES=500\r\n",
        "\r\n",
        "# random seed (reproduciblity)\r\n",
        "np.random.seed(RANDOM_SEED)\r\n",
        "tf.random.set_seed(RANDOM_SEED)\r\n",
        "\r\n",
        "# set the env\r\n",
        "env=gym.make(ENV) # env to import\r\n",
        "env.seed(RANDOM_SEED)\r\n",
        "env.reset() # reset to env"
      ],
      "execution_count": null,
      "outputs": [
        {
          "output_type": "execute_result",
          "data": {
            "text/plain": [
              "array([ 0.03073904,  0.00145001, -0.03088818, -0.03131252])"
            ]
          },
          "metadata": {
            "tags": []
          },
          "execution_count": 3
        }
      ]
    },
    {
      "cell_type": "code",
      "metadata": {
        "id": "nDFHpSMJCVNZ"
      },
      "source": [
        "class REINFORCE:\r\n",
        "  def __init__(self, env, path=None):\r\n",
        "    self.env=env #import env\r\n",
        "    self.state_shape=env.observation_space.shape # the state space\r\n",
        "    self.action_shape=env.action_space.n # the action space\r\n",
        "    self.gamma=0.99 # decay rate of past observations\r\n",
        "    self.alpha=1e-4 # learning rate in the policy gradient\r\n",
        "    self.learning_rate=0.01 # learning rate in deep learning\r\n",
        "    \r\n",
        "    if not path:\r\n",
        "      self.model=self._create_model() #build model\r\n",
        "    else:\r\n",
        "      self.model=self.load_model(path) #import model\r\n",
        "\r\n",
        "    # record observations\r\n",
        "    self.states=[]\r\n",
        "    self.gradients=[] \r\n",
        "    self.rewards=[]\r\n",
        "    self.probs=[]\r\n",
        "    self.discounted_rewards=[]\r\n",
        "    self.total_rewards=[]\r\n",
        "  \r\n",
        "  def _create_model(self):\r\n",
        "    ''' builds the model using keras'''\r\n",
        "    model=Sequential()\r\n",
        "\r\n",
        "    # input shape is of observations\r\n",
        "    model.add(Dense(24, input_shape=self.state_shape, activation=\"relu\"))\r\n",
        "    #model.add(Dropout(0.5))\r\n",
        "    # introduce a relu layer \r\n",
        "    model.add(Dense(12, activation=\"relu\"))\r\n",
        "    #model.add(Dropout(0.5))    \r\n",
        "\r\n",
        "    # output shape is according to the number of action\r\n",
        "    # The softmax function outputs a probability distribution over the actions\r\n",
        "    model.add(Dense(self.action_shape, activation=\"softmax\")) \r\n",
        "    model.compile(loss=\"categorical_crossentropy\",\r\n",
        "            optimizer=Adam(lr=self.learning_rate))\r\n",
        "        \r\n",
        "    return model\r\n",
        "\r\n",
        "  def hot_encode_action(self, action):\r\n",
        "    '''encoding the actions into a binary list'''\r\n",
        "\r\n",
        "    action_encoded=np.zeros(self.action_shape, np.float32)\r\n",
        "    action_encoded[action]=1\r\n",
        "\r\n",
        "    return action_encoded\r\n",
        "  \r\n",
        "  def remember(self, state, action, action_prob, reward):\r\n",
        "    '''stores observations'''\r\n",
        "    encoded_action=self.hot_encode_action(action)\r\n",
        "    self.gradients.append(encoded_action-action_prob)\r\n",
        "    self.states.append(state)\r\n",
        "    self.rewards.append(reward)\r\n",
        "    self.probs.append(action_prob)\r\n",
        "\r\n",
        "  \r\n",
        "  def get_action(self, state):\r\n",
        "    '''samples the next action based on the policy probabilty distribution \r\n",
        "      of the actions'''\r\n",
        "\r\n",
        "    # transform state\r\n",
        "    state=state.reshape([1, state.shape[0]])\r\n",
        "    # get action probably\r\n",
        "    action_probability_distribution=self.model.predict(state).flatten()\r\n",
        "    # norm action probability distribution\r\n",
        "    action_probability_distribution/=np.sum(action_probability_distribution)\r\n",
        "    \r\n",
        "    # sample action\r\n",
        "    action=np.random.choice(self.action_shape,1,\r\n",
        "                            p=action_probability_distribution)[0]\r\n",
        "\r\n",
        "    return action, action_probability_distribution\r\n",
        "\r\n",
        "\r\n",
        "  def get_discounted_rewards(self, rewards): \r\n",
        "    '''Use gamma to calculate the total reward discounting for rewards\r\n",
        "    Following - \\gamma ^ t * Gt'''\r\n",
        "    \r\n",
        "    discounted_rewards=[]\r\n",
        "    cumulative_total_return=0\r\n",
        "    # iterate the rewards backwards and and calc the total return \r\n",
        "    for reward in rewards[::-1]:      \r\n",
        "      cumulative_total_return=(cumulative_total_return*self.gamma)+reward\r\n",
        "      discounted_rewards.insert(0, cumulative_total_return)\r\n",
        "\r\n",
        "    # normalize discounted rewards\r\n",
        "    mean_rewards=np.mean(discounted_rewards)\r\n",
        "    std_rewards=np.std(discounted_rewards)\r\n",
        "    norm_discounted_rewards=(discounted_rewards-\r\n",
        "                          mean_rewards)/(std_rewards+1e-7) # avoiding zero div\r\n",
        "    \r\n",
        "    return norm_discounted_rewards\r\n",
        "\r\n",
        "\r\n",
        "  def update_policy(self):\r\n",
        "    '''Updates the policy network using the NN model.\r\n",
        "    This function is used after the MC sampling is done - following\r\n",
        "    \\delta \\theta = \\alpha * gradient + log pi'''\r\n",
        "      \r\n",
        "    # get X\r\n",
        "    states=np.vstack(self.states)\r\n",
        "\r\n",
        "    # get Y\r\n",
        "    gradients=np.vstack(self.gradients)\r\n",
        "    rewards=np.vstack(self.rewards)\r\n",
        "    discounted_rewards=self.get_discounted_rewards(rewards)\r\n",
        "    gradients*=discounted_rewards\r\n",
        "    gradients=self.alpha*np.vstack([gradients])+self.probs\r\n",
        "\r\n",
        "    history=self.model.train_on_batch(states, gradients)\r\n",
        "    \r\n",
        "    self.states, self.probs, self.gradients, self.rewards=[], [], [], []\r\n",
        "\r\n",
        "    return history\r\n",
        "\r\n",
        "\r\n",
        "\r\n",
        "  def train(self, episodes, rollout_n=1, render_n=50):\r\n",
        "    '''train the model\r\n",
        "        episodes - number of training iterations \r\n",
        "        rollout_n- number of episodes between policy update\r\n",
        "        render_n - number of episodes between env rendering ''' \r\n",
        "    \r\n",
        "    env=self.env\r\n",
        "    total_rewards=np.zeros(episodes)\r\n",
        "\r\n",
        "    for episode in range(episodes):\r\n",
        "      # each episode is a new game env\r\n",
        "      state=env.reset()\r\n",
        "      done=False          \r\n",
        "      episode_reward=0 #record episode reward\r\n",
        "      \r\n",
        "      while not done:\r\n",
        "        # play an action and record the game state & reward per episode\r\n",
        "        action, prob=self.get_action(state)\r\n",
        "        next_state, reward, done, _=env.step(action)\r\n",
        "        self.remember(state, action, prob, reward)\r\n",
        "        state=next_state\r\n",
        "        episode_reward+=reward\r\n",
        "\r\n",
        "        #if episode%render_n==0: ## render env to visualize.\r\n",
        "          #env.render()\r\n",
        "        if done:\r\n",
        "          # update policy \r\n",
        "          if episode%rollout_n==0:\r\n",
        "            history=self.update_policy()\r\n",
        "\r\n",
        "      total_rewards[episode]=episode_reward\r\n",
        "      \r\n",
        "    self.total_rewards=total_rewards\r\n",
        "\r\n",
        "  def save_model(self):\r\n",
        "    '''saves the moodel // do after training'''\r\n",
        "    self.model.save('REINFORCE_model.h5')\r\n",
        "  \r\n",
        "  def load_model(self, path):\r\n",
        "    '''loads a trained model from path'''\r\n",
        "    return load_model(path)"
      ],
      "execution_count": null,
      "outputs": []
    },
    {
      "cell_type": "code",
      "metadata": {
        "id": "1fsbOUDGCZLJ"
      },
      "source": [
        "# Create agent and train the model\r\n",
        "# WARNING takes 15 minutes!\r\n",
        "\r\n",
        "agent=REINFORCE(env)\r\n",
        "agent.train(500, 1)"
      ],
      "execution_count": null,
      "outputs": []
    },
    {
      "cell_type": "code",
      "metadata": {
        "colab": {
          "base_uri": "https://localhost:8080/",
          "height": 279
        },
        "id": "lutMuAsYCdIY",
        "outputId": "724cc5a2-70c1-41a8-e484-808b205d631c"
      },
      "source": [
        "plt.xlabel('Episode')\r\n",
        "plt.ylabel('Episode Steps')\r\n",
        "plt.plot(agent.total_rewards)\r\n",
        "plt.show()"
      ],
      "execution_count": null,
      "outputs": [
        {
          "output_type": "display_data",
          "data": {
            "image/png": "[encoded data removed]",
            "text/plain": [
              "<Figure size 432x288 with 1 Axes>"
            ]
          },
          "metadata": {
            "tags": [],
            "needs_background": "light"
          }
        }
      ]
    }
  ]
}
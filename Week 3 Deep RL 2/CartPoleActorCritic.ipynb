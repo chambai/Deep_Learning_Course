{
  "nbformat": 4,
  "nbformat_minor": 0,
  "metadata": {
    "colab": {
      "name": "CartPoleActorCritic.ipynb",
      "provenance": [],
      "collapsed_sections": [],
      "authorship_tag": "ABX9TyONYHLSVRchKbbG3/U3xF9e",
      "include_colab_link": true
    },
    "kernelspec": {
      "name": "python3",
      "display_name": "Python 3"
    }
  },
  "cells": [
    {
      "cell_type": "markdown",
      "metadata": {
        "id": "view-in-github",
        "colab_type": "text"
      },
      "source": [
        "<a href=\"https://colab.research.google.com/github/chambai/Deep_Learning_Course/blob/main/Week%203%20Deep%20RL%202/CartPoleActorCritic.ipynb\" target=\"_parent\"><img src=\"https://colab.research.google.com/assets/colab-badge.svg\" alt=\"Open In Colab\"/></a>"
      ]
    },
    {
      "cell_type": "markdown",
      "metadata": {
        "id": "y5Y-Em8PHmzE"
      },
      "source": [
        "#Actor-Critic RL Method applied to CartPole\r\n",
        "Adapted from https://keras.io/examples/rl/actor_critic_cartpole/\r\n",
        "\r\n",
        "See link for details on implementation"
      ]
    },
    {
      "cell_type": "code",
      "metadata": {
        "id": "uQgnxqJcFx7_"
      },
      "source": [
        "import gym\r\n",
        "import numpy as np\r\n",
        "import tensorflow as tf\r\n",
        "from tensorflow import keras\r\n",
        "from tensorflow.keras import layers\r\n",
        "\r\n",
        "# Configuration parameters for the whole setup\r\n",
        "seed = 42\r\n",
        "gamma = 0.99  # Discount factor for past rewards\r\n",
        "max_steps_per_episode = 10000\r\n",
        "env = gym.make(\"CartPole-v0\")  # Create the environment\r\n",
        "env.seed(seed)\r\n",
        "eps = np.finfo(np.float32).eps.item()  # Smallest number such that 1.0 + eps != 1.0"
      ],
      "execution_count": null,
      "outputs": []
    },
    {
      "cell_type": "code",
      "metadata": {
        "id": "jZaLrwmbGDnU"
      },
      "source": [
        "num_inputs = 4\r\n",
        "num_actions = 2\r\n",
        "num_hidden = 128\r\n",
        "\r\n",
        "inputs = layers.Input(shape=(num_inputs,))\r\n",
        "common = layers.Dense(num_hidden, activation=\"relu\")(inputs)\r\n",
        "action = layers.Dense(num_actions, activation=\"softmax\")(common)\r\n",
        "critic = layers.Dense(1)(common)\r\n",
        "\r\n",
        "model = keras.Model(inputs=inputs, outputs=[action, critic])"
      ],
      "execution_count": null,
      "outputs": []
    },
    {
      "cell_type": "code",
      "metadata": {
        "colab": {
          "base_uri": "https://localhost:8080/"
        },
        "id": "HJ6HLiSeGIEy",
        "outputId": "85d61301-d86c-4c60-ba54-a5459b20dbd2"
      },
      "source": [
        "optimizer = keras.optimizers.Adam(learning_rate=0.01)\r\n",
        "huber_loss = keras.losses.Huber()\r\n",
        "action_probs_history = []\r\n",
        "critic_value_history = []\r\n",
        "rewards_history = []\r\n",
        "running_reward = 0\r\n",
        "episode_count = 0\r\n",
        "total_rewards=[]\r\n",
        "\r\n",
        "while True:  # Run until solved\r\n",
        "    state = env.reset()\r\n",
        "    episode_reward = 0\r\n",
        "    with tf.GradientTape() as tape:\r\n",
        "        for timestep in range(1, max_steps_per_episode):\r\n",
        "            # env.render(); Adding this line would show the attempts\r\n",
        "            # of the agent in a pop up window.\r\n",
        "\r\n",
        "            state = tf.convert_to_tensor(state)\r\n",
        "            state = tf.expand_dims(state, 0)\r\n",
        "\r\n",
        "            # Predict action probabilities and estimated future rewards\r\n",
        "            # from environment state\r\n",
        "            action_probs, critic_value = model(state)\r\n",
        "            critic_value_history.append(critic_value[0, 0])\r\n",
        "\r\n",
        "            # Sample action from action probability distribution\r\n",
        "            action = np.random.choice(num_actions, p=np.squeeze(action_probs))\r\n",
        "            action_probs_history.append(tf.math.log(action_probs[0, action]))\r\n",
        "\r\n",
        "            # Apply the sampled action in our environment\r\n",
        "            state, reward, done, _ = env.step(action)\r\n",
        "            rewards_history.append(reward)\r\n",
        "            episode_reward += reward\r\n",
        "\r\n",
        "            if done:\r\n",
        "                break\r\n",
        "\r\n",
        "        # Update running reward to check condition for solving\r\n",
        "        running_reward = 0.05 * episode_reward + (1 - 0.05) * running_reward\r\n",
        "\r\n",
        "        # Calculate expected value from rewards\r\n",
        "        # - At each timestep what was the total reward received after that timestep\r\n",
        "        # - Rewards in the past are discounted by multiplying them with gamma\r\n",
        "        # - These are the labels for our critic\r\n",
        "        returns = []\r\n",
        "        discounted_sum = 0\r\n",
        "        for r in rewards_history[::-1]:\r\n",
        "            discounted_sum = r + gamma * discounted_sum\r\n",
        "            returns.insert(0, discounted_sum)\r\n",
        "\r\n",
        "        # Normalize\r\n",
        "        returns = np.array(returns)\r\n",
        "        returns = (returns - np.mean(returns)) / (np.std(returns) + eps)\r\n",
        "        returns = returns.tolist()\r\n",
        "\r\n",
        "        # Calculating loss values to update our network\r\n",
        "        history = zip(action_probs_history, critic_value_history, returns)\r\n",
        "        actor_losses = []\r\n",
        "        critic_losses = []\r\n",
        "        for log_prob, value, ret in history:\r\n",
        "            # At this point in history, the critic estimated that we would get a\r\n",
        "            # total reward = `value` in the future. We took an action with log probability\r\n",
        "            # of `log_prob` and ended up recieving a total reward = `ret`.\r\n",
        "            # The actor must be updated so that it predicts an action that leads to\r\n",
        "            # high rewards (compared to critic's estimate) with high probability.\r\n",
        "            diff = ret - value\r\n",
        "            actor_losses.append(-log_prob * diff)  # actor loss\r\n",
        "\r\n",
        "            # The critic must be updated so that it predicts a better estimate of\r\n",
        "            # the future rewards.\r\n",
        "            critic_losses.append(\r\n",
        "                huber_loss(tf.expand_dims(value, 0), tf.expand_dims(ret, 0))\r\n",
        "            )\r\n",
        "\r\n",
        "        # Backpropagation\r\n",
        "        loss_value = sum(actor_losses) + sum(critic_losses)\r\n",
        "        grads = tape.gradient(loss_value, model.trainable_variables)\r\n",
        "        optimizer.apply_gradients(zip(grads, model.trainable_variables))\r\n",
        "\r\n",
        "        # Clear the loss and reward history\r\n",
        "        action_probs_history.clear()\r\n",
        "        critic_value_history.clear()\r\n",
        "        rewards_history.clear()\r\n",
        "\r\n",
        "    total_rewards.append(running_reward)\r\n",
        "    # Log details\r\n",
        "    episode_count += 1\r\n",
        "    if episode_count % 10 == 0:\r\n",
        "        template = \"running reward: {:.2f} at episode {}\"\r\n",
        "        print(template.format(running_reward, episode_count))\r\n",
        "\r\n",
        "    if running_reward > 195:  # Condition to consider the task solved\r\n",
        "        print(\"Solved at episode {}!\".format(episode_count))\r\n",
        "        break"
      ],
      "execution_count": null,
      "outputs": [
        {
          "output_type": "stream",
          "text": [
            "running reward: 12.07 at episode 10\n",
            "running reward: 22.65 at episode 20\n",
            "running reward: 35.86 at episode 30\n",
            "running reward: 45.52 at episode 40\n",
            "running reward: 53.40 at episode 50\n",
            "running reward: 62.55 at episode 60\n",
            "running reward: 49.37 at episode 70\n",
            "running reward: 42.70 at episode 80\n",
            "running reward: 77.86 at episode 90\n",
            "running reward: 73.16 at episode 100\n",
            "running reward: 66.00 at episode 110\n",
            "running reward: 82.53 at episode 120\n",
            "running reward: 110.39 at episode 130\n",
            "running reward: 143.21 at episode 140\n",
            "running reward: 137.52 at episode 150\n",
            "running reward: 98.79 at episode 160\n",
            "running reward: 75.14 at episode 170\n",
            "running reward: 65.01 at episode 180\n",
            "running reward: 60.00 at episode 190\n",
            "running reward: 66.82 at episode 200\n",
            "running reward: 90.29 at episode 210\n",
            "running reward: 108.76 at episode 220\n",
            "running reward: 114.98 at episode 230\n",
            "running reward: 126.14 at episode 240\n",
            "running reward: 129.94 at episode 250\n",
            "running reward: 124.85 at episode 260\n",
            "running reward: 123.14 at episode 270\n",
            "running reward: 126.54 at episode 280\n",
            "running reward: 127.21 at episode 290\n",
            "running reward: 133.12 at episode 300\n",
            "running reward: 147.13 at episode 310\n",
            "running reward: 163.43 at episode 320\n",
            "running reward: 167.50 at episode 330\n",
            "running reward: 173.28 at episode 340\n",
            "running reward: 174.07 at episode 350\n",
            "running reward: 163.02 at episode 360\n",
            "running reward: 157.81 at episode 370\n",
            "running reward: 151.18 at episode 380\n",
            "running reward: 151.40 at episode 390\n",
            "running reward: 154.38 at episode 400\n",
            "running reward: 147.98 at episode 410\n",
            "running reward: 135.60 at episode 420\n",
            "running reward: 128.58 at episode 430\n",
            "running reward: 125.79 at episode 440\n",
            "running reward: 129.64 at episode 450\n",
            "running reward: 142.45 at episode 460\n",
            "running reward: 153.06 at episode 470\n",
            "running reward: 141.96 at episode 480\n",
            "running reward: 131.82 at episode 490\n",
            "running reward: 123.96 at episode 500\n",
            "running reward: 128.59 at episode 510\n",
            "running reward: 140.38 at episode 520\n",
            "running reward: 150.71 at episode 530\n",
            "running reward: 169.24 at episode 540\n",
            "running reward: 181.59 at episode 550\n",
            "running reward: 188.97 at episode 560\n",
            "running reward: 191.71 at episode 570\n",
            "running reward: 195.04 at episode 580\n",
            "Solved at episode 580!\n"
          ],
          "name": "stdout"
        }
      ]
    },
    {
      "cell_type": "code",
      "metadata": {
        "colab": {
          "base_uri": "https://localhost:8080/",
          "height": 295
        },
        "id": "tb8ZcBrT5W8b",
        "outputId": "50492b0f-8a11-4f01-df4e-d396c6ced790"
      },
      "source": [
        "import matplotlib\r\n",
        "import matplotlib.pyplot as plt\r\n",
        "plt.title('Reward')\r\n",
        "plt.xlabel('Episode')\r\n",
        "plt.ylabel('Episode Steps')\r\n",
        "plt.plot(np.asarray(total_rewards))\r\n",
        "plt.show()"
      ],
      "execution_count": null,
      "outputs": [
        {
          "output_type": "display_data",
          "data": {
            "image/png": "[encoded data removed]",
            "text/plain": [
              "<Figure size 432x288 with 1 Axes>"
            ]
          },
          "metadata": {
            "tags": [],
            "needs_background": "light"
          }
        }
      ]
    }
  ]
}
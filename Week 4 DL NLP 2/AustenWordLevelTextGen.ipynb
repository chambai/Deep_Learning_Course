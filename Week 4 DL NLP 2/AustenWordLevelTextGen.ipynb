{
  "nbformat": 4,
  "nbformat_minor": 0,
  "metadata": {
    "colab": {
      "name": "AustenWordLevelTextGen.ipynb",
      "provenance": [],
      "collapsed_sections": [],
      "authorship_tag": "ABX9TyPVHxN792kn/JShrhZbM/D2",
      "include_colab_link": true
    },
    "kernelspec": {
      "name": "python3",
      "display_name": "Python 3"
    },
    "accelerator": "GPU"
  },
  "cells": [
    {
      "cell_type": "markdown",
      "metadata": {
        "id": "view-in-github",
        "colab_type": "text"
      },
      "source": [
        "<a href=\"https://colab.research.google.com/github/chambai/Deep_Learning_Course/blob/main/Week%204%20DL%20NLP%202/AustenWordLevelTextGen.ipynb\" target=\"_parent\"><img src=\"https://colab.research.google.com/assets/colab-badge.svg\" alt=\"Open In Colab\"/></a>"
      ]
    },
    {
      "cell_type": "markdown",
      "metadata": {
        "id": "VKqFCim8iZgH"
      },
      "source": [
        "# Text Generation in the style of Jane Austen\r\n",
        "Adapted from: https://stackabuse.com/python-for-nlp-deep-learning-text-generation-with-keras/"
      ]
    },
    {
      "cell_type": "code",
      "metadata": {
        "id": "GUfDqRKgiUZ6"
      },
      "source": [
        "# import python libraries\r\n",
        "import numpy as np\r\n",
        "from keras.models import Sequential, load_model\r\n",
        "from keras.layers import Dense, Embedding, LSTM, Dropout\r\n",
        "from keras.utils import to_categorical\r\n",
        "from random import randint\r\n",
        "import re"
      ],
      "execution_count": null,
      "outputs": []
    },
    {
      "cell_type": "markdown",
      "metadata": {
        "id": "96aupv4YwguN"
      },
      "source": [
        "Use the Natural Language Tool Kit (NLTK) library to download the dataset.  We are using the **Gutenberg Dataset** which contains 3036 english books written by 142 authors"
      ]
    },
    {
      "cell_type": "code",
      "metadata": {
        "colab": {
          "base_uri": "https://localhost:8080/"
        },
        "id": "1EMj3jAXikwM",
        "outputId": "056ac741-5bea-42d5-daf0-a1e2649bd401"
      },
      "source": [
        "import nltk   # natural language tool kit library\r\n",
        "nltk.download('gutenberg')  # downloads a library that NLTK uses\r\n",
        "\r\n",
        "from nltk.corpus import gutenberg as gut  # downloads the gutenberg dataset\r\n",
        "print(gut.fileids())    # prints the name of the files in the dataset"
      ],
      "execution_count": null,
      "outputs": [
        {
          "output_type": "stream",
          "text": [
            "[nltk_data] Downloading package gutenberg to /root/nltk_data...\n",
            "[nltk_data]   Package gutenberg is already up-to-date!\n",
            "['austen-emma.txt', 'austen-persuasion.txt', 'austen-sense.txt', 'bible-kjv.txt', 'blake-poems.txt', 'bryant-stories.txt', 'burgess-busterbrown.txt', 'carroll-alice.txt', 'chesterton-ball.txt', 'chesterton-brown.txt', 'chesterton-thursday.txt', 'edgeworth-parents.txt', 'melville-moby_dick.txt', 'milton-paradise.txt', 'shakespeare-caesar.txt', 'shakespeare-hamlet.txt', 'shakespeare-macbeth.txt', 'whitman-leaves.txt']\n"
          ],
          "name": "stdout"
        }
      ]
    },
    {
      "cell_type": "markdown",
      "metadata": {
        "id": "_lw30yi_xmU2"
      },
      "source": [
        "The file austen-sense.txt contains raw text for the novel Sense and Sensibility by Jane Austen"
      ]
    },
    {
      "cell_type": "code",
      "metadata": {
        "id": "viKhgnXyinuh"
      },
      "source": [
        "# get the book text\r\n",
        "book_text = nltk.corpus.gutenberg.raw('austen-sense.txt')"
      ],
      "execution_count": null,
      "outputs": []
    },
    {
      "cell_type": "code",
      "metadata": {
        "colab": {
          "base_uri": "https://localhost:8080/"
        },
        "id": "64TVaIxxirEy",
        "outputId": "8502364c-6a14-4043-e815-53903a49c61a"
      },
      "source": [
        "# print the first 500 characters of the text so we can look at it\r\n",
        "print(book_text[:500])"
      ],
      "execution_count": null,
      "outputs": [
        {
          "output_type": "stream",
          "text": [
            "[Sense and Sensibility by Jane Austen 1811]\n",
            "\n",
            "CHAPTER 1\n",
            "\n",
            "\n",
            "The family of Dashwood had long been settled in Sussex.\n",
            "Their estate was large, and their residence was at Norland Park,\n",
            "in the centre of their property, where, for many generations,\n",
            "they had lived in so respectable a manner as to engage\n",
            "the general good opinion of their surrounding acquaintance.\n",
            "The late owner of this estate was a single man, who lived\n",
            "to a very advanced age, and who for many years of his life,\n",
            "had a constant companion an\n"
          ],
          "name": "stdout"
        }
      ]
    },
    {
      "cell_type": "markdown",
      "metadata": {
        "id": "y4ew_mLKyHSO"
      },
      "source": [
        "The text may contain many special characters and numbers.  This text isn't actually too bad but it still needs cleaning to remove special characters (such as whitespaces), numbers and punctuation.\r\n",
        "## Data preprocessing\r\n",
        "To remove the puctuations and special characters, we will define a function called `preprocess_text()`  This uses regular expressions to search for and replace words.  The python library \"`re`\" does this. There are many tutorials for this on the web i.e. [w3schools regex tutorial](https://www.w3schools.com/python/python_regex.asp).  \r\n",
        "\r\n",
        "The `preprocess_text()` function accepts a text string as a parameter and returns a cleaned text string in lower case.\r\n",
        "\r\n",
        "Stop word removal needs to be done with an NLP library like NLTK i.e. https://stackabuse.com/removing-stop-words-from-strings-in-python/  as the Keras tokenizer is limited in its capabilities"
      ]
    },
    {
      "cell_type": "code",
      "metadata": {
        "id": "YLwmLpK1iuIk"
      },
      "source": [
        "def preprocess_text(sen):\r\n",
        "    # Remove punctuations and numbers\r\n",
        "    sentence = re.sub('[^a-zA-Z]', ' ', sen)\r\n",
        "\r\n",
        "    # Single character removal\r\n",
        "    sentence = re.sub(r\"\\s+[a-zA-Z]\\s+\", ' ', sentence)\r\n",
        "\r\n",
        "    # Removing multiple spaces\r\n",
        "    sentence = re.sub(r'\\s+', ' ', sentence)\r\n",
        "\r\n",
        "    return sentence.lower()"
      ],
      "execution_count": null,
      "outputs": []
    },
    {
      "cell_type": "markdown",
      "metadata": {
        "id": "CCuGZo4o0c38"
      },
      "source": [
        "Call the `preprocess_text()` function to clean the data and display the first 500 characters of the cleaned text:"
      ]
    },
    {
      "cell_type": "code",
      "metadata": {
        "colab": {
          "base_uri": "https://localhost:8080/",
          "height": 53
        },
        "id": "Je0_iA8jiwU1",
        "outputId": "c7f0be92-6ad6-4567-ec71-7baa819175fd"
      },
      "source": [
        "book_text = preprocess_text(book_text)\r\n",
        "book_text[:500]"
      ],
      "execution_count": null,
      "outputs": [
        {
          "output_type": "execute_result",
          "data": {
            "application/vnd.google.colaboratory.intrinsic+json": {
              "type": "string"
            },
            "text/plain": [
              "' sense and sensibility by jane austen chapter the family of dashwood had long been settled in sussex their estate was large and their residence was at norland park in the centre of their property where for many generations they had lived in so respectable manner as to engage the general good opinion of their surrounding acquaintance the late owner of this estate was single man who lived to very advanced age and who for many years of his life had constant companion and housekeeper in his sister b'"
            ]
          },
          "metadata": {
            "tags": []
          },
          "execution_count": 6
        }
      ]
    },
    {
      "cell_type": "code",
      "metadata": {
        "colab": {
          "base_uri": "https://localhost:8080/"
        },
        "id": "yhmYGD3kQd68",
        "outputId": "a720b6bc-4f84-4cc2-b067-8727e52d89d1"
      },
      "source": [
        "# limit the text to 20,000 characters\r\n",
        "print(len(book_text))\r\n",
        "book_text = book_text[:20000]\r\n",
        "print(len(book_text))"
      ],
      "execution_count": null,
      "outputs": [
        {
          "output_type": "stream",
          "text": [
            "636106\n",
            "20000\n"
          ],
          "name": "stdout"
        }
      ]
    },
    {
      "cell_type": "markdown",
      "metadata": {
        "id": "75IomB5y0326"
      },
      "source": [
        "## Convert words to numbers\r\n",
        "We are using a simple approach to convert words into single integers.  Before we do this we need to tokenize the text into individual words.  To do this we can use the `word_tokenize()` method from the `nltk.tokenize` module.\r\n",
        "\r\n",
        "The following code tokenizes the text in the dataset and prints out the total number of words in the dataset, as well as the total number of unique words in that dataset."
      ]
    },
    {
      "cell_type": "code",
      "metadata": {
        "colab": {
          "base_uri": "https://localhost:8080/"
        },
        "id": "LqaVSLGTiyl2",
        "outputId": "878cb44a-d643-4044-d60f-fdecf6a2dc44"
      },
      "source": [
        "from nltk.tokenize import word_tokenize\r\n",
        "# punkt is a sentence tokenizer that nltk requires. \r\n",
        "# It divides a text into a list of sentences, by using an unsupervised algorithm \r\n",
        "# to build a model for abbreviation words, collocations, and words that start sentences\r\n",
        "nltk.download('punkt')\r\n",
        "\r\n",
        "book_text_words = (word_tokenize(book_text))\r\n",
        "n_words = len(book_text_words)\r\n",
        "unique_words = len(set(book_text_words))\r\n",
        "\r\n",
        "print('Total Words: %d' % n_words)\r\n",
        "print('Unique Words: %d' % unique_words)"
      ],
      "execution_count": null,
      "outputs": [
        {
          "output_type": "stream",
          "text": [
            "[nltk_data] Downloading package punkt to /root/nltk_data...\n",
            "[nltk_data]   Package punkt is already up-to-date!\n",
            "Total Words: 3662\n",
            "Unique Words: 900\n"
          ],
          "name": "stdout"
        }
      ]
    },
    {
      "cell_type": "markdown",
      "metadata": {
        "id": "veF60V822i2d"
      },
      "source": [
        "To convert tokenized words to numbers, we use the `Tokenizer` class from the `keras.preprocessing.text` module.  Then use the fit_on_texts method and pass in the list of words.  A dictionary will be created where the keys will represent words, and integers will represent the corresponding values of the dictionary."
      ]
    },
    {
      "cell_type": "code",
      "metadata": {
        "id": "FF_bjp9di1L_"
      },
      "source": [
        "# convert words to numbers\r\n",
        "from keras.preprocessing.text import Tokenizer\r\n",
        "tokenizer = Tokenizer(num_words=115944)\r\n",
        "tokenizer.fit_on_texts(book_text_words)"
      ],
      "execution_count": null,
      "outputs": []
    },
    {
      "cell_type": "code",
      "metadata": {
        "id": "QfIQ6sUmi27A"
      },
      "source": [
        "vocab_size = len(tokenizer.word_index) + 1    # word_index is the dictionary. Store the number of unique words in vocab_size variable\r\n",
        "word_2_index = tokenizer.word_index           # store the dictionary in the variable called word_2_index"
      ],
      "execution_count": null,
      "outputs": []
    },
    {
      "cell_type": "code",
      "metadata": {
        "colab": {
          "base_uri": "https://localhost:8080/"
        },
        "id": "U6g9_W3di432",
        "outputId": "b9726ac1-4cc6-4a2c-8c19-b46dfa78402c"
      },
      "source": [
        "# just for exploration, let's print the 500th word in the dictionary and it's index\r\n",
        "print(book_text_words[500])\r\n",
        "print(word_2_index[book_text_words[500]])"
      ],
      "execution_count": null,
      "outputs": [
        {
          "output_type": "stream",
          "text": [
            "far\n",
            "125\n"
          ],
          "name": "stdout"
        }
      ]
    },
    {
      "cell_type": "markdown",
      "metadata": {
        "id": "KWf2Ufuj42Kb"
      },
      "source": [
        "Here, the word 'far' is assigned the integer 125"
      ]
    },
    {
      "cell_type": "markdown",
      "metadata": {
        "id": "WRoIdE1RK2pY"
      },
      "source": [
        "## Creating the input sequences\r\n",
        "The following code splits the text into smaller sequences of text, each consisting of 100 words.\r\n",
        "\r\n",
        "The first iteration of the loop:\r\n",
        "> The first 100 words from the begining of the text are added to the input_sequence list\r\n",
        "> The 101st word is appened to the output_words list\r\n",
        "\r\n",
        "In the second iteration of the loop:\r\n",
        "> The first 100 words starting from the second word of the text are added to the input_sequence list\r\n",
        "> The 102nd word is appened to the output_words list\r\n",
        "\r\n",
        "And so on..."
      ]
    },
    {
      "cell_type": "code",
      "metadata": {
        "id": "gTtQr_IEi7cF"
      },
      "source": [
        "input_sequence_words = []  # input sequences in words (used for metric evaluation later on)\r\n",
        "input_sequence = []   # empty list to hold the sequences that will be input into our model\r\n",
        "output_words = []     # empty list to hold the output words\r\n",
        "input_seq_length = 100  # length of the input sequence\r\n",
        "\r\n",
        "# form the input sequence list and the output words list\r\n",
        "for i in range(0, n_words - input_seq_length , 1):\r\n",
        "    in_seq = book_text_words[i:i + input_seq_length]\r\n",
        "    input_sequence_words.append(in_seq)\r\n",
        "    out_seq = book_text_words[i + input_seq_length]\r\n",
        "    input_sequence.append([word_2_index[word] for word in in_seq])\r\n",
        "    output_words.append(word_2_index[out_seq])"
      ],
      "execution_count": null,
      "outputs": []
    },
    {
      "cell_type": "code",
      "metadata": {
        "colab": {
          "base_uri": "https://localhost:8080/"
        },
        "id": "CaldWv3Gi-rv",
        "outputId": "994d7871-dccf-4997-d10a-11a0b53f8e5e"
      },
      "source": [
        "# print the first sequence to see what it looks like - a list of 100 integers that represent the first observation of words\r\n",
        "print(len(input_sequence))      # print the number of input sequences\r\n",
        "print(input_sequence[0])        # print the first input sequence\r\n",
        "print(len(input_sequence[0]))   # print the length of the first input sequence"
      ],
      "execution_count": null,
      "outputs": [
        {
          "output_type": "stream",
          "text": [
            "3562\n",
            "[177, 3, 236, 19, 389, 390, 178, 4, 116, 1, 25, 22, 237, 54, 391, 10, 392, 15, 87, 6, 88, 3, 15, 393, 6, 30, 64, 394, 10, 4, 395, 1, 15, 238, 239, 9, 102, 396, 23, 22, 240, 10, 32, 179, 397, 13, 2, 398, 4, 180, 139, 241, 1, 15, 399, 400, 4, 242, 401, 1, 69, 87, 6, 402, 140, 103, 240, 2, 45, 243, 181, 3, 103, 9, 102, 70, 1, 5, 117, 22, 244, 403, 3, 404, 10, 5, 141, 16, 8, 245, 36, 246, 118, 70, 247, 5, 49, 248, 89, 405]\n",
            "100\n"
          ],
          "name": "stdout"
        }
      ]
    },
    {
      "cell_type": "code",
      "metadata": {
        "id": "VJUhLJDijBUu"
      },
      "source": [
        "# reshape the input sequences to be 3-dimensional\r\n",
        "X = np.reshape(input_sequence, (3562, 100, 1))    # number of input sequences, length of each sequence\r\n",
        "X = np.reshape(input_sequence, (len(input_sequence), input_seq_length, 1))\r\n",
        "\r\n",
        "# Normalize the data by dividing by the max number of unique words (the vocab size)\r\n",
        "X = X / float(vocab_size)\r\n",
        "\r\n",
        "# one-hot encode the output words so that they can be used by the model (converts the output to 2-dimensions)\r\n",
        "y = to_categorical(output_words)"
      ],
      "execution_count": null,
      "outputs": []
    },
    {
      "cell_type": "code",
      "metadata": {
        "colab": {
          "base_uri": "https://localhost:8080/"
        },
        "id": "zYdNZw_4jEEp",
        "outputId": "aef4c45c-83d7-46b6-db2e-47dc3d0fb49e"
      },
      "source": [
        "print(\"X shape:\", X.shape)\r\n",
        "print(\"y shape:\", y.shape)"
      ],
      "execution_count": null,
      "outputs": [
        {
          "output_type": "stream",
          "text": [
            "X shape: (3562, 100, 1)\n",
            "y shape: (3562, 901)\n"
          ],
          "name": "stdout"
        }
      ]
    },
    {
      "cell_type": "markdown",
      "metadata": {
        "id": "2ZXtiF0DV1rS"
      },
      "source": [
        "## Create, compile and fit the model"
      ]
    },
    {
      "cell_type": "code",
      "metadata": {
        "colab": {
          "base_uri": "https://localhost:8080/"
        },
        "id": "O3fd1SEpjHEV",
        "outputId": "ed01a891-8297-42e9-8d2c-e062960f7fc6"
      },
      "source": [
        "model = Sequential()\r\n",
        "# LSTM layer has 800 neurons (units).  The input shape is (100, 1) (Number of words in a sequence, 1 to make it 2D data) (Number of time-steps, features per time-step)\r\n",
        "#model.add(LSTM(800, input_shape=(X.shape[1], X.shape[2]), return_sequences=True))\r\n",
        "model.add(LSTM(800, input_shape=(X.shape[1], X.shape[2]), return_sequences=True))\r\n",
        "model.add(LSTM(800, return_sequences=True))\r\n",
        "model.add(LSTM(800))\r\n",
        "model.add(Dense(y.shape[1], activation='softmax'))\r\n",
        "\r\n",
        "model.summary()\r\n",
        "\r\n",
        "# the output word can be one of any of the unique words in the vocabulary\r\n",
        "# This means it is a multi-class calssification problem and we use the categorical crossentropy loss function\r\n",
        "model.compile(loss='categorical_crossentropy', optimizer='adam')"
      ],
      "execution_count": null,
      "outputs": [
        {
          "output_type": "stream",
          "text": [
            "Model: \"sequential\"\n",
            "_________________________________________________________________\n",
            "Layer (type)                 Output Shape              Param #   \n",
            "=================================================================\n",
            "lstm (LSTM)                  (None, 100, 800)          2566400   \n",
            "_________________________________________________________________\n",
            "lstm_1 (LSTM)                (None, 100, 800)          5123200   \n",
            "_________________________________________________________________\n",
            "lstm_2 (LSTM)                (None, 800)               5123200   \n",
            "_________________________________________________________________\n",
            "dense (Dense)                (None, 901)               721701    \n",
            "=================================================================\n",
            "Total params: 13,534,501\n",
            "Trainable params: 13,534,501\n",
            "Non-trainable params: 0\n",
            "_________________________________________________________________\n"
          ],
          "name": "stdout"
        }
      ]
    },
    {
      "cell_type": "code",
      "metadata": {
        "colab": {
          "base_uri": "https://localhost:8080/"
        },
        "id": "pl-qIiMvjJMX",
        "outputId": "aa110875-5b8c-439e-cb48-7603615cf231"
      },
      "source": [
        "model.fit(X, y, batch_size=64, epochs=2, verbose=1)"
      ],
      "execution_count": null,
      "outputs": [
        {
          "output_type": "stream",
          "text": [
            "Epoch 1/2\n",
            "56/56 [==============================] - 43s 162ms/step - loss: 6.2821\n",
            "Epoch 2/2\n",
            "56/56 [==============================] - 9s 162ms/step - loss: 5.7758\n"
          ],
          "name": "stdout"
        },
        {
          "output_type": "execute_result",
          "data": {
            "text/plain": [
              "<tensorflow.python.keras.callbacks.History at 0x7ff75630ce90>"
            ]
          },
          "metadata": {
            "tags": []
          },
          "execution_count": 17
        }
      ]
    },
    {
      "cell_type": "markdown",
      "metadata": {
        "id": "Ky-c-XWOWG8S"
      },
      "source": [
        "## Making predictions"
      ]
    },
    {
      "cell_type": "code",
      "metadata": {
        "colab": {
          "base_uri": "https://localhost:8080/"
        },
        "id": "RGbsIGYbjLq5",
        "outputId": "c52c7b86-9481-4a4f-ee50-d26fcd797731"
      },
      "source": [
        "# randomly select a sequence of integers from the input sequences\r\n",
        "random_seq_index = np.random.randint(0, len(input_sequence)-1)\r\n",
        "random_seq = input_sequence[random_seq_index]\r\n",
        "\r\n",
        "# convert the integer sequence to its words\r\n",
        "# word_2_index contains a dictionary of the format word : index (word being the key and index being the value)\r\n",
        "# the next line of code reverses this to index: word (index now being the key and word is now the value)\r\n",
        "# this reversed dictionary can now be used by supplying an index to it, and the word will be returned\r\n",
        "index_2_word = dict(map(reversed, word_2_index.items())) # swaps keys with values\r\n",
        "# loop round using a list iteration to get the list of words that correspond to the integers in the randomly picked sequence\r\n",
        "word_sequence = [index_2_word[value] for value in random_seq]\r\n",
        "\r\n",
        "# join the words in the list and print the sequence of words\r\n",
        "print(' '.join(word_sequence))"
      ],
      "execution_count": null,
      "outputs": [
        {
          "output_type": "stream",
          "text": [
            "between her and her mother was strikingly great elinor saw with concern the excess of her sister sensibility but by mrs dashwood it was valued and cherished they encouraged each other now in the violence of their affliction the agony of grief which overpowered them at first was voluntarily renewed was sought for was created again and again they gave themselves up wholly to their sorrow seeking increase of wretchedness in every reflection that could afford it and resolved against ever admitting consolation in future elinor too was deeply afflicted but still she could struggle she could exert herself she\n"
          ],
          "name": "stdout"
        }
      ]
    },
    {
      "cell_type": "code",
      "metadata": {
        "id": "NRrVqz51jObB"
      },
      "source": [
        "# this code predicts the next 100 words that follow the randomly picked sequence above\r\n",
        "# we loop round, making 100 predictions\r\n",
        "for i in range(100):\r\n",
        "    int_sample = np.reshape(random_seq, (1, len(random_seq), 1))    # reshape to make 3-D input (1 sequence, length of the sequence, 1 because the first LSTM requires another dimension)\r\n",
        "    int_sample = int_sample / float(vocab_size)                     # normalise\r\n",
        "\r\n",
        "    predicted_word_index = model.predict(int_sample, verbose=0)     # predict\r\n",
        "\r\n",
        "    predicted_word_id = np.argmax(predicted_word_index)             # get the index of the maximum value (they are categorical so )\r\n",
        "    seq_in = [index_2_word[index] for index in random_seq]          # loop round integers in the random sequence and pick out the words for the random sequence - don't think we need this\r\n",
        "\r\n",
        "    word_sequence.append(index_2_word[ predicted_word_id])          # get the predicted word by finding the word at the predicted index\r\n",
        "\r\n",
        "    #random_seq.append(predicted_word_id)                            # append so we get a list of predicted words - do we need this?\r\n",
        "    #random_seq = random_seq[1:len(random_seq)]                      # do not use the first element of random_seq - do we need this?"
      ],
      "execution_count": null,
      "outputs": []
    },
    {
      "cell_type": "code",
      "metadata": {
        "colab": {
          "base_uri": "https://localhost:8080/"
        },
        "id": "YOcmRFS4jQp3",
        "outputId": "a7832857-a82e-430b-c7b6-8f917a92b90f"
      },
      "source": [
        "# loop round the list of predicted words and print them out for our final prediction of the next 100 words\r\n",
        "final_output = \"\"\r\n",
        "for word in word_sequence:\r\n",
        "    final_output = final_output + \" \" + word\r\n",
        "\r\n",
        "print(final_output)"
      ],
      "execution_count": null,
      "outputs": [
        {
          "output_type": "stream",
          "text": [
            " between her and her mother was strikingly great elinor saw with concern the excess of her sister sensibility but by mrs dashwood it was valued and cherished they encouraged each other now in the violence of their affliction the agony of grief which overpowered them at first was voluntarily renewed was sought for was created again and again they gave themselves up wholly to their sorrow seeking increase of wretchedness in every reflection that could afford it and resolved against ever admitting consolation in future elinor too was deeply afflicted but still she could struggle she could exert herself she to to to to to to to to to to to to to to to to to to to to to to to to to to to to to to to to to to to to to to to to to to to to to to to to to to to to to to to to to to to to to to to to to to to to to to to to to to to to to to to to to to to to to to to to to to to to to to to to to to to to\n"
          ],
          "name": "stdout"
        }
      ]
    },
    {
      "cell_type": "markdown",
      "metadata": {
        "id": "hqfzQ-lBdd3L"
      },
      "source": [
        "The model has repeated words at the end, so this is not a very good model yet"
      ]
    },
    {
      "cell_type": "markdown",
      "metadata": {
        "id": "TiMh37DpkzUH"
      },
      "source": [
        "## Metrics - The Bleu Score"
      ]
    },
    {
      "cell_type": "code",
      "metadata": {
        "colab": {
          "base_uri": "https://localhost:8080/"
        },
        "id": "_eJdZDSqgQGV",
        "outputId": "a8d4cc91-46d1-440e-f9fb-11eb46a68be4"
      },
      "source": [
        "# Bleu score\r\n",
        "print(input_sequence_words[:2])       # print out the first 2 elements of the input sequence words list\r\n",
        "print(word_sequence)                  # print out the words of our randomly picked sequence\r\n",
        "\r\n",
        "from nltk.translate.bleu_score import sentence_bleu\r\n",
        "reference = input_sequence_words\r\n",
        "candidate = word_sequence\r\n",
        "\r\n",
        "score = sentence_bleu(reference, candidate)\r\n",
        "print(score)"
      ],
      "execution_count": null,
      "outputs": [
        {
          "output_type": "stream",
          "text": [
            "[['sense', 'and', 'sensibility', 'by', 'jane', 'austen', 'chapter', 'the', 'family', 'of', 'dashwood', 'had', 'long', 'been', 'settled', 'in', 'sussex', 'their', 'estate', 'was', 'large', 'and', 'their', 'residence', 'was', 'at', 'norland', 'park', 'in', 'the', 'centre', 'of', 'their', 'property', 'where', 'for', 'many', 'generations', 'they', 'had', 'lived', 'in', 'so', 'respectable', 'manner', 'as', 'to', 'engage', 'the', 'general', 'good', 'opinion', 'of', 'their', 'surrounding', 'acquaintance', 'the', 'late', 'owner', 'of', 'this', 'estate', 'was', 'single', 'man', 'who', 'lived', 'to', 'very', 'advanced', 'age', 'and', 'who', 'for', 'many', 'years', 'of', 'his', 'life', 'had', 'constant', 'companion', 'and', 'housekeeper', 'in', 'his', 'sister', 'but', 'her', 'death', 'which', 'happened', 'ten', 'years', 'before', 'his', 'own', 'produced', 'great', 'alteration'], ['and', 'sensibility', 'by', 'jane', 'austen', 'chapter', 'the', 'family', 'of', 'dashwood', 'had', 'long', 'been', 'settled', 'in', 'sussex', 'their', 'estate', 'was', 'large', 'and', 'their', 'residence', 'was', 'at', 'norland', 'park', 'in', 'the', 'centre', 'of', 'their', 'property', 'where', 'for', 'many', 'generations', 'they', 'had', 'lived', 'in', 'so', 'respectable', 'manner', 'as', 'to', 'engage', 'the', 'general', 'good', 'opinion', 'of', 'their', 'surrounding', 'acquaintance', 'the', 'late', 'owner', 'of', 'this', 'estate', 'was', 'single', 'man', 'who', 'lived', 'to', 'very', 'advanced', 'age', 'and', 'who', 'for', 'many', 'years', 'of', 'his', 'life', 'had', 'constant', 'companion', 'and', 'housekeeper', 'in', 'his', 'sister', 'but', 'her', 'death', 'which', 'happened', 'ten', 'years', 'before', 'his', 'own', 'produced', 'great', 'alteration', 'in']]\n",
            "['between', 'her', 'and', 'her', 'mother', 'was', 'strikingly', 'great', 'elinor', 'saw', 'with', 'concern', 'the', 'excess', 'of', 'her', 'sister', 'sensibility', 'but', 'by', 'mrs', 'dashwood', 'it', 'was', 'valued', 'and', 'cherished', 'they', 'encouraged', 'each', 'other', 'now', 'in', 'the', 'violence', 'of', 'their', 'affliction', 'the', 'agony', 'of', 'grief', 'which', 'overpowered', 'them', 'at', 'first', 'was', 'voluntarily', 'renewed', 'was', 'sought', 'for', 'was', 'created', 'again', 'and', 'again', 'they', 'gave', 'themselves', 'up', 'wholly', 'to', 'their', 'sorrow', 'seeking', 'increase', 'of', 'wretchedness', 'in', 'every', 'reflection', 'that', 'could', 'afford', 'it', 'and', 'resolved', 'against', 'ever', 'admitting', 'consolation', 'in', 'future', 'elinor', 'too', 'was', 'deeply', 'afflicted', 'but', 'still', 'she', 'could', 'struggle', 'she', 'could', 'exert', 'herself', 'she', 'to', 'to', 'to', 'to', 'to', 'to', 'to', 'to', 'to', 'to', 'to', 'to', 'to', 'to', 'to', 'to', 'to', 'to', 'to', 'to', 'to', 'to', 'to', 'to', 'to', 'to', 'to', 'to', 'to', 'to', 'to', 'to', 'to', 'to', 'to', 'to', 'to', 'to', 'to', 'to', 'to', 'to', 'to', 'to', 'to', 'to', 'to', 'to', 'to', 'to', 'to', 'to', 'to', 'to', 'to', 'to', 'to', 'to', 'to', 'to', 'to', 'to', 'to', 'to', 'to', 'to', 'to', 'to', 'to', 'to', 'to', 'to', 'to', 'to', 'to', 'to', 'to', 'to', 'to', 'to', 'to', 'to', 'to', 'to', 'to', 'to', 'to', 'to', 'to', 'to', 'to', 'to', 'to', 'to', 'to', 'to', 'to', 'to', 'to', 'to']\n",
            "0.5046619639114689\n"
          ],
          "name": "stdout"
        }
      ]
    },
    {
      "cell_type": "markdown",
      "metadata": {
        "id": "FtrNx1r4jwgH"
      },
      "source": [
        "The Bleu score is about 0.5, not great!"
      ]
    },
    {
      "cell_type": "code",
      "metadata": {
        "colab": {
          "base_uri": "https://localhost:8080/"
        },
        "id": "DF8rLTQljV5j",
        "outputId": "7e8f3d50-d524-44ab-bc55-9c2a1a586ba3"
      },
      "source": [
        "# Bleu score\r\n",
        "print(input_sequence_words[:2])       # print out the first 2 elements of the input sequence words list\r\n",
        "print(word_sequence)                  # print out the words of our randomly picked sequence\r\n",
        "\r\n",
        "# remove the words 'of' as a littel exercise on the Bleu score   \r\n",
        "word_sequence_no_of = [word for word in word_sequence if word != 'of']  # loop round the predicted words and remove the word 'of'\r\n",
        "print(word_sequence_no_of)                                              # print the modified output\r\n",
        "\r\n",
        "# set the reference words and the candidate words that are to be compared to the reference\r\n",
        "from nltk.translate.bleu_score import sentence_bleu\r\n",
        "reference = input_sequence_words\r\n",
        "candidate = word_sequence_no_of\r\n",
        "\r\n",
        "# calculate the Bleu score\r\n",
        "score = sentence_bleu(reference, candidate)\r\n",
        "print(score)"
      ],
      "execution_count": null,
      "outputs": [
        {
          "output_type": "stream",
          "text": [
            "[['sense', 'and', 'sensibility', 'by', 'jane', 'austen', 'chapter', 'the', 'family', 'of', 'dashwood', 'had', 'long', 'been', 'settled', 'in', 'sussex', 'their', 'estate', 'was', 'large', 'and', 'their', 'residence', 'was', 'at', 'norland', 'park', 'in', 'the', 'centre', 'of', 'their', 'property', 'where', 'for', 'many', 'generations', 'they', 'had', 'lived', 'in', 'so', 'respectable', 'manner', 'as', 'to', 'engage', 'the', 'general', 'good', 'opinion', 'of', 'their', 'surrounding', 'acquaintance', 'the', 'late', 'owner', 'of', 'this', 'estate', 'was', 'single', 'man', 'who', 'lived', 'to', 'very', 'advanced', 'age', 'and', 'who', 'for', 'many', 'years', 'of', 'his', 'life', 'had', 'constant', 'companion', 'and', 'housekeeper', 'in', 'his', 'sister', 'but', 'her', 'death', 'which', 'happened', 'ten', 'years', 'before', 'his', 'own', 'produced', 'great', 'alteration'], ['and', 'sensibility', 'by', 'jane', 'austen', 'chapter', 'the', 'family', 'of', 'dashwood', 'had', 'long', 'been', 'settled', 'in', 'sussex', 'their', 'estate', 'was', 'large', 'and', 'their', 'residence', 'was', 'at', 'norland', 'park', 'in', 'the', 'centre', 'of', 'their', 'property', 'where', 'for', 'many', 'generations', 'they', 'had', 'lived', 'in', 'so', 'respectable', 'manner', 'as', 'to', 'engage', 'the', 'general', 'good', 'opinion', 'of', 'their', 'surrounding', 'acquaintance', 'the', 'late', 'owner', 'of', 'this', 'estate', 'was', 'single', 'man', 'who', 'lived', 'to', 'very', 'advanced', 'age', 'and', 'who', 'for', 'many', 'years', 'of', 'his', 'life', 'had', 'constant', 'companion', 'and', 'housekeeper', 'in', 'his', 'sister', 'but', 'her', 'death', 'which', 'happened', 'ten', 'years', 'before', 'his', 'own', 'produced', 'great', 'alteration', 'in']]\n",
            "['between', 'her', 'and', 'her', 'mother', 'was', 'strikingly', 'great', 'elinor', 'saw', 'with', 'concern', 'the', 'excess', 'of', 'her', 'sister', 'sensibility', 'but', 'by', 'mrs', 'dashwood', 'it', 'was', 'valued', 'and', 'cherished', 'they', 'encouraged', 'each', 'other', 'now', 'in', 'the', 'violence', 'of', 'their', 'affliction', 'the', 'agony', 'of', 'grief', 'which', 'overpowered', 'them', 'at', 'first', 'was', 'voluntarily', 'renewed', 'was', 'sought', 'for', 'was', 'created', 'again', 'and', 'again', 'they', 'gave', 'themselves', 'up', 'wholly', 'to', 'their', 'sorrow', 'seeking', 'increase', 'of', 'wretchedness', 'in', 'every', 'reflection', 'that', 'could', 'afford', 'it', 'and', 'resolved', 'against', 'ever', 'admitting', 'consolation', 'in', 'future', 'elinor', 'too', 'was', 'deeply', 'afflicted', 'but', 'still', 'she', 'could', 'struggle', 'she', 'could', 'exert', 'herself', 'she', 'to', 'to', 'to', 'to', 'to', 'to', 'to', 'to', 'to', 'to', 'to', 'to', 'to', 'to', 'to', 'to', 'to', 'to', 'to', 'to', 'to', 'to', 'to', 'to', 'to', 'to', 'to', 'to', 'to', 'to', 'to', 'to', 'to', 'to', 'to', 'to', 'to', 'to', 'to', 'to', 'to', 'to', 'to', 'to', 'to', 'to', 'to', 'to', 'to', 'to', 'to', 'to', 'to', 'to', 'to', 'to', 'to', 'to', 'to', 'to', 'to', 'to', 'to', 'to', 'to', 'to', 'to', 'to', 'to', 'to', 'to', 'to', 'to', 'to', 'to', 'to', 'to', 'to', 'to', 'to', 'to', 'to', 'to', 'to', 'to', 'to', 'to', 'to', 'to', 'to', 'to', 'to', 'to', 'to', 'to', 'to', 'to', 'to', 'to', 'to']\n",
            "['between', 'her', 'and', 'her', 'mother', 'was', 'strikingly', 'great', 'elinor', 'saw', 'with', 'concern', 'the', 'excess', 'her', 'sister', 'sensibility', 'but', 'by', 'mrs', 'dashwood', 'it', 'was', 'valued', 'and', 'cherished', 'they', 'encouraged', 'each', 'other', 'now', 'in', 'the', 'violence', 'their', 'affliction', 'the', 'agony', 'grief', 'which', 'overpowered', 'them', 'at', 'first', 'was', 'voluntarily', 'renewed', 'was', 'sought', 'for', 'was', 'created', 'again', 'and', 'again', 'they', 'gave', 'themselves', 'up', 'wholly', 'to', 'their', 'sorrow', 'seeking', 'increase', 'wretchedness', 'in', 'every', 'reflection', 'that', 'could', 'afford', 'it', 'and', 'resolved', 'against', 'ever', 'admitting', 'consolation', 'in', 'future', 'elinor', 'too', 'was', 'deeply', 'afflicted', 'but', 'still', 'she', 'could', 'struggle', 'she', 'could', 'exert', 'herself', 'she', 'to', 'to', 'to', 'to', 'to', 'to', 'to', 'to', 'to', 'to', 'to', 'to', 'to', 'to', 'to', 'to', 'to', 'to', 'to', 'to', 'to', 'to', 'to', 'to', 'to', 'to', 'to', 'to', 'to', 'to', 'to', 'to', 'to', 'to', 'to', 'to', 'to', 'to', 'to', 'to', 'to', 'to', 'to', 'to', 'to', 'to', 'to', 'to', 'to', 'to', 'to', 'to', 'to', 'to', 'to', 'to', 'to', 'to', 'to', 'to', 'to', 'to', 'to', 'to', 'to', 'to', 'to', 'to', 'to', 'to', 'to', 'to', 'to', 'to', 'to', 'to', 'to', 'to', 'to', 'to', 'to', 'to', 'to', 'to', 'to', 'to', 'to', 'to', 'to', 'to', 'to', 'to', 'to', 'to', 'to', 'to', 'to', 'to', 'to', 'to']\n",
            "0.46217142588565185\n"
          ],
          "name": "stdout"
        }
      ]
    },
    {
      "cell_type": "markdown",
      "metadata": {
        "id": "7RmiPcJgkj8n"
      },
      "source": [
        "The Bleu score is higher (about 0.8).  **The higher the Bleu score the better**.\r\n",
        "\r\n",
        "Of course you can't just remove words to adjust the score, this was just a test to understand the Bleu score. We need to improve our model to improve the Bleu Score"
      ]
    },
    {
      "cell_type": "markdown",
      "metadata": {
        "id": "CAazRz6AjTIM"
      },
      "source": [
        "## **Exercises**\r\n",
        "1. We limited the amount of data in this exercise.  Increase the amount of data and see if it improves the score.   \r\n",
        "2. Change the hyper parameters, including the size and number of LSTM layers and number of epochs to see if you get better results.\r\n",
        "3. Try adding dropout after the LSTM layers and Dense layers.\r\n",
        "\r\n"
      ]
    }
  ]
}
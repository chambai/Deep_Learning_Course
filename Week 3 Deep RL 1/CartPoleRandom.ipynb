{
  "nbformat": 4,
  "nbformat_minor": 0,
  "metadata": {
    "colab": {
      "name": "CartPoleRandom.ipynb",
      "provenance": [],
      "collapsed_sections": [],
      "authorship_tag": "ABX9TyOrUqyjarEiPguHfC10vTHA",
      "include_colab_link": true
    },
    "kernelspec": {
      "name": "python3",
      "display_name": "Python 3"
    }
  },
  "cells": [
    {
      "cell_type": "markdown",
      "metadata": {
        "id": "view-in-github",
        "colab_type": "text"
      },
      "source": [
        "<a href=\"https://colab.research.google.com/github/chambai/Deep_Learning_Course/blob/main/Week%203%20Deep%20RL%201/CartPoleRandom.ipynb\" target=\"_parent\"><img src=\"https://colab.research.google.com/assets/colab-badge.svg\" alt=\"Open In Colab\"/></a>"
      ]
    },
    {
      "cell_type": "markdown",
      "metadata": {
        "id": "3_2rZAsR2Glb"
      },
      "source": [
        "# CartPole Exercise\r\n",
        "(Adapted from book: Deep Reinforcement Learning by Maxim Lapan)"
      ]
    },
    {
      "cell_type": "markdown",
      "metadata": {
        "id": "LflWMlOH2JLd"
      },
      "source": [
        "Create and environment called **CartPole-v0**.  This environment is from the **classic control** group of environments.\r\n",
        "\r\n",
        "A pole attached to a cart has to be balanced so that it doesn't fall. The game ends if either the pole tilts by more than 12 degrees or the cart moves by more than 2.4 units from the center"
      ]
    },
    {
      "cell_type": "markdown",
      "metadata": {
        "id": "yc6Zt5eX2Sg7"
      },
      "source": [
        "![image.png](data:image/png;base64,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)"
      ]
    },
    {
      "cell_type": "markdown",
      "metadata": {
        "id": "wZuzIn4F2egi"
      },
      "source": [
        "In the Cartpole environment:\r\n",
        "\r\n",
        "-   `observation` is an array of 4 floats: \r\n",
        "    -   the position and velocity of the cart\r\n",
        "    -   the angular position and velocity of the pole \r\n",
        "-   `reward` is a scalar float value\r\n",
        "-   `action` is a scalar integer with only two possible values:\r\n",
        "    -   `0` — \"move left\"\r\n",
        "    -   `1` — \"move right\"\r\n"
      ]
    },
    {
      "cell_type": "markdown",
      "metadata": {
        "id": "VKK5DA390wRe"
      },
      "source": [
        "# Try random actions to try and get CartPole to remain standing\r\n",
        "The following cell is just to get Colab to render the CartPole environment"
      ]
    },
    {
      "cell_type": "code",
      "metadata": {
        "id": "CQjbHRlVzK6m"
      },
      "source": [
        "# code to render the CartPole environment in Colab\r\n",
        "!sudo apt-get install -y xvfb ffmpeg\r\n",
        "!pip install 'imageio==2.4.0'\r\n",
        "!pip install pyvirtualdisplay\r\n",
        "\r\n",
        "from __future__ import absolute_import, division, print_function\r\n",
        "\r\n",
        "import base64\r\n",
        "import imageio\r\n",
        "import IPython\r\n",
        "import matplotlib\r\n",
        "import matplotlib.pyplot as plt\r\n",
        "import numpy as np\r\n",
        "import PIL.Image\r\n",
        "import pyvirtualdisplay\r\n",
        "from IPython.display import clear_output\r\n",
        "from time import sleep\r\n",
        "\r\n",
        "# Set up a virtual display for rendering OpenAI gym environments.\r\n",
        "display = pyvirtualdisplay.Display(visible=0, size=(1400, 900)).start()\r\n"
      ],
      "execution_count": null,
      "outputs": []
    },
    {
      "cell_type": "code",
      "metadata": {
        "id": "eyRvJWLE8TYK"
      },
      "source": [
        "# import gym and test that the rendering works\r\n",
        "import gym\r\n",
        "# make the cart pole environment\r\n",
        "env = gym.make(\"CartPole-v0\")\r\n",
        "env.reset()\r\n",
        "plt.imshow(env.render(mode='rgb_array'))"
      ],
      "execution_count": null,
      "outputs": []
    },
    {
      "cell_type": "markdown",
      "metadata": {
        "id": "QtAYjHH_8Ws-"
      },
      "source": [
        "Investigate the environment\r\n",
        "\r\n",
        "Every environment comes with an `action_space` and an `observation_space`. These attributes are of type `Space`, and they describe the format of valid actions and observations:"
      ]
    },
    {
      "cell_type": "code",
      "metadata": {
        "id": "AHFLWen58Z29"
      },
      "source": [
        "# look at the action space\r\n",
        "print(env.action_space)"
      ],
      "execution_count": null,
      "outputs": []
    },
    {
      "cell_type": "markdown",
      "metadata": {
        "id": "hB9Rv6lm98Qi"
      },
      "source": [
        "The `Discrete(2)` space above means a fixed range of non-negative numbers, so in this case valid actions are either 0 or 1.\r\n",
        "\r\n",
        "Now let's look at the observation space:"
      ]
    },
    {
      "cell_type": "code",
      "metadata": {
        "id": "jubtSpfv97hG"
      },
      "source": [
        "# look at the observation space\r\n",
        "print(env.observation_space)"
      ],
      "execution_count": null,
      "outputs": []
    },
    {
      "cell_type": "markdown",
      "metadata": {
        "id": "bhbXlaGz-jIh"
      },
      "source": [
        "The Box space represents an n-dimensional box, so valid observations will be an array of 4 numbers. We can also check the Box’s bounds:"
      ]
    },
    {
      "cell_type": "code",
      "metadata": {
        "id": "pD9ZwOyw-vI-"
      },
      "source": [
        "# print the upper bound of the observation space\r\n",
        "print(env.observation_space.high)\r\n",
        "# print the lower bound of the observation space\r\n",
        "print(env.observation_space.low)"
      ],
      "execution_count": null,
      "outputs": []
    },
    {
      "cell_type": "markdown",
      "metadata": {
        "id": "q_7NVMU8_7vm"
      },
      "source": [
        "So for the observations, there will be 4 numbers returned between the above values\r\n",
        "\r\n",
        "`[cart position, cart velocity, pole angular position, pole angular velocity]`"
      ]
    },
    {
      "cell_type": "markdown",
      "metadata": {
        "id": "DRhLTHiC_hXD"
      },
      "source": [
        "`Box` and `Discrete` are the most common `Space` types"
      ]
    },
    {
      "cell_type": "markdown",
      "metadata": {
        "id": "tn9CmZBQPq3z"
      },
      "source": [
        "Run one episode of CartPole using random actions"
      ]
    },
    {
      "cell_type": "code",
      "metadata": {
        "id": "1-ldienaz69x"
      },
      "source": [
        "\r\n",
        "# the following code is the agent\r\n",
        "# initialise the agent by setting the reward and total steps to zero and the\r\n",
        "total_reward = 0.0\r\n",
        "total_steps = 0\r\n",
        "obs = env.reset()\r\n",
        "showImage = True\r\n",
        "\r\n",
        "step_num = 1\r\n",
        "while True:\r\n",
        "    clear_output()\r\n",
        "    print('step number: %s'%(step_num))       # print out the step number of the episode\r\n",
        "    action = env.action_space.sample()        # gets a random action from the environment (either 1 or 0)\r\n",
        "    print('action: %s'%(action))              # print out the action we have received\r\n",
        "    obs, reward, done, _ = env.step(action)   # execute the action via the step method\r\n",
        "                                              # returns the observation, reward and boolean indicating if the episode has finished\r\n",
        "                                              # (the fourth parameter is for diagnostic purposes and we do not need to know about it for this tutorial)\r\n",
        "    print('obs: %s'%(obs))                    # print observation - array of length 4\r\n",
        "    print('reward: %s'%(reward))              # see what the reward was (either 1 or 0)\r\n",
        "    print('done: %s'%(done))                  # see if the environment has ended the episode i.e. you may have tipped the pole over)\r\n",
        "                                              # (boolean: False means episode still running. True means episode ended)\r\n",
        "    if showImage:\r\n",
        "      plt.imshow(env.render(mode='rgb_array'))  # render the observations for demo purposes. Massively slows it down so set showImage to False to speed it up\r\n",
        "      plt.show()                                # plot the image\r\n",
        "      sleep(1)                                  # sleep the thread so that we can see the image\r\n",
        "    \r\n",
        "    total_reward += reward                    # sum the rewards                 \r\n",
        "    total_steps += 1                          # increment total number of steps\r\n",
        "    if done:\r\n",
        "        break\r\n",
        "    step_num += 1\r\n",
        "\r\n",
        "print(\"Episode done in %d steps, total reward %.2f\" % (total_steps, total_reward))\r\n"
      ],
      "execution_count": null,
      "outputs": []
    },
    {
      "cell_type": "markdown",
      "metadata": {
        "id": "5rVAETslP5mG"
      },
      "source": [
        "Run multiple episodes of CartPole"
      ]
    },
    {
      "cell_type": "code",
      "metadata": {
        "id": "9Ngo9OMQJO3P"
      },
      "source": [
        "import numpy as np\r\n",
        "\r\n",
        "# set the number of episodes to 500\r\n",
        "episodes = 500\r\n",
        "# set up an empty array so that the reward for each episode can be stored\r\n",
        "total_rewards=np.zeros(episodes)\r\n",
        "\r\n",
        "# import the gym library\r\n",
        "import gym\r\n",
        "\r\n",
        "# make the cart pole environment\r\n",
        "env = gym.make(\"CartPole-v0\")\r\n",
        "\r\n",
        "for episode_num in range(episodes):\r\n",
        "  # the following code is the agent\r\n",
        "  # initialise the agent by setting the reward and total steps to zero and the\r\n",
        "  total_reward = 0.0\r\n",
        "  total_steps = 0\r\n",
        "  obs = env.reset()\r\n",
        "  showImage = False\r\n",
        "\r\n",
        "  n = 1\r\n",
        "  while True:\r\n",
        "      action = env.action_space.sample()        # gets a random action from the environment (either 1 or 0)\r\n",
        "      obs, reward, done, _ = env.step(action)   # execute the action via the step method\r\n",
        "                                                # returns the observation, reward and boolean indicating if the episode has finished\r\n",
        "                                                # (the fourth parameter is for diagnostic purposes and we do not need to know about it for this tutorial)\r\n",
        "\r\n",
        "      # print out the information in one line\r\n",
        "      print(\"Episode %d, step %d, action %d, reward %d, Done=%s\" % (episode_num, n, action, reward, done))\r\n",
        "\r\n",
        "      if showImage:\r\n",
        "        plt.imshow(env.render(mode='rgb_array'))  # render the observations for demo purposes. Massively slows it down so set showImage to False to speed it up\r\n",
        "        plt.show()                                # plot the image\r\n",
        "        sleep(1)                                  # sleep the thread so that we can see the image\r\n",
        "      \r\n",
        "      total_reward += reward                    # sum the rewards                 \r\n",
        "      total_steps += 1                          # increment total number of steps\r\n",
        "      if done:\r\n",
        "          break\r\n",
        "      n += 1\r\n",
        "\r\n",
        "  print(\"Episode %d done in %d steps, total reward %.2f\" % (episode_num, total_steps, total_reward))\r\n",
        "  total_rewards[episode_num]=total_reward       # store the total reward for this episode\r\n",
        "  episode_num += 1\r\n"
      ],
      "execution_count": null,
      "outputs": []
    },
    {
      "cell_type": "markdown",
      "metadata": {
        "id": "HUUcP1ItbqZ0"
      },
      "source": [
        "Plot the reward for each episode"
      ]
    },
    {
      "cell_type": "code",
      "metadata": {
        "id": "_JVSu5Lybgky"
      },
      "source": [
        "plt.title('Reward')\r\n",
        "plt.xlabel('Episode')\r\n",
        "plt.ylabel('Episode Steps')\r\n",
        "plt.plot(total_rewards)\r\n",
        "plt.show()"
      ],
      "execution_count": null,
      "outputs": []
    }
  ]
}